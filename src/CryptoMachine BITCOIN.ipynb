{
 "cells": [
  {
   "cell_type": "markdown",
   "metadata": {},
   "source": [
    "# CRYPTOMACHINE"
   ]
  },
  {
   "cell_type": "markdown",
   "metadata": {},
   "source": [
    "## Vamos a importar las siguientes librerías para realizar el ML."
   ]
  },
  {
   "cell_type": "code",
   "execution_count": 1,
   "metadata": {},
   "outputs": [],
   "source": [
    "import pandas as pd\n",
    "import numpy as np\n",
    "import matplotlib as mpl\n",
    "import seaborn as sns\n",
    "from sklearn.svm import SVC\n",
    "from sklearn.ensemble import BaggingClassifier\n",
    "from sklearn.datasets import make_classification\n",
    "from sklearn.tree import DecisionTreeClassifier\n",
    "from sklearn.model_selection import KFold\n",
    "import matplotlib.pyplot as plt\n",
    "from sklearn.ensemble import RandomForestClassifier\n",
    "from sklearn.ensemble import VotingClassifier\n",
    "from sklearn.linear_model import LogisticRegression\n",
    "from sklearn.svm import SVC\n",
    "from sklearn.ensemble import VotingClassifier\n",
    "import yfinance as yf\n",
    "import math\n",
    "import os.path\n",
    "import time"
   ]
  },
  {
   "cell_type": "code",
   "execution_count": 2,
   "metadata": {},
   "outputs": [
    {
     "name": "stdout",
     "output_type": "stream",
     "text": [
      "[*********************100%***********************]  1 of 1 completed\n"
     ]
    }
   ],
   "source": [
    "cryptocurrencies = ['BTC-USD']\n",
    "bitcoin_df = yf.download(cryptocurrencies, start='2019-01-01',\n",
    "                end='2022-03-01', parse_dates = ['Month'])"
   ]
  },
  {
   "cell_type": "code",
   "execution_count": 3,
   "metadata": {},
   "outputs": [
    {
     "name": "stdout",
     "output_type": "stream",
     "text": [
      "<class 'pandas.core.frame.DataFrame'>\n",
      "DatetimeIndex: 1156 entries, 2018-12-31 to 2022-02-28\n",
      "Data columns (total 6 columns):\n",
      " #   Column     Non-Null Count  Dtype  \n",
      "---  ------     --------------  -----  \n",
      " 0   Open       1156 non-null   float64\n",
      " 1   High       1156 non-null   float64\n",
      " 2   Low        1156 non-null   float64\n",
      " 3   Close      1156 non-null   float64\n",
      " 4   Adj Close  1156 non-null   float64\n",
      " 5   Volume     1156 non-null   int64  \n",
      "dtypes: float64(5), int64(1)\n",
      "memory usage: 63.2 KB\n"
     ]
    }
   ],
   "source": [
    "bitcoin_df.info()"
   ]
  },
  {
   "cell_type": "code",
   "execution_count": 4,
   "metadata": {},
   "outputs": [
    {
     "data": {
      "text/html": [
       "<div>\n",
       "<style scoped>\n",
       "    .dataframe tbody tr th:only-of-type {\n",
       "        vertical-align: middle;\n",
       "    }\n",
       "\n",
       "    .dataframe tbody tr th {\n",
       "        vertical-align: top;\n",
       "    }\n",
       "\n",
       "    .dataframe thead th {\n",
       "        text-align: right;\n",
       "    }\n",
       "</style>\n",
       "<table border=\"1\" class=\"dataframe\">\n",
       "  <thead>\n",
       "    <tr style=\"text-align: right;\">\n",
       "      <th></th>\n",
       "      <th>Open</th>\n",
       "      <th>High</th>\n",
       "      <th>Low</th>\n",
       "      <th>Close</th>\n",
       "      <th>Adj Close</th>\n",
       "      <th>Volume</th>\n",
       "    </tr>\n",
       "  </thead>\n",
       "  <tbody>\n",
       "    <tr>\n",
       "      <th>count</th>\n",
       "      <td>1156.000000</td>\n",
       "      <td>1156.000000</td>\n",
       "      <td>1156.000000</td>\n",
       "      <td>1156.000000</td>\n",
       "      <td>1156.000000</td>\n",
       "      <td>1.156000e+03</td>\n",
       "    </tr>\n",
       "    <tr>\n",
       "      <th>mean</th>\n",
       "      <td>22895.319287</td>\n",
       "      <td>23500.041618</td>\n",
       "      <td>22232.171545</td>\n",
       "      <td>22925.611185</td>\n",
       "      <td>22925.611185</td>\n",
       "      <td>3.201122e+10</td>\n",
       "    </tr>\n",
       "    <tr>\n",
       "      <th>std</th>\n",
       "      <td>19133.543234</td>\n",
       "      <td>19651.639045</td>\n",
       "      <td>18524.038667</td>\n",
       "      <td>19128.549349</td>\n",
       "      <td>19128.549349</td>\n",
       "      <td>2.020354e+10</td>\n",
       "    </tr>\n",
       "    <tr>\n",
       "      <th>min</th>\n",
       "      <td>3401.376465</td>\n",
       "      <td>3427.945557</td>\n",
       "      <td>3391.023682</td>\n",
       "      <td>3399.471680</td>\n",
       "      <td>3399.471680</td>\n",
       "      <td>4.324201e+09</td>\n",
       "    </tr>\n",
       "    <tr>\n",
       "      <th>25%</th>\n",
       "      <td>8319.130859</td>\n",
       "      <td>8510.423340</td>\n",
       "      <td>8183.221436</td>\n",
       "      <td>8321.569092</td>\n",
       "      <td>8321.569092</td>\n",
       "      <td>1.887529e+10</td>\n",
       "    </tr>\n",
       "    <tr>\n",
       "      <th>50%</th>\n",
       "      <td>10904.803223</td>\n",
       "      <td>11101.397949</td>\n",
       "      <td>10652.977539</td>\n",
       "      <td>10914.254395</td>\n",
       "      <td>10914.254395</td>\n",
       "      <td>2.852390e+10</td>\n",
       "    </tr>\n",
       "    <tr>\n",
       "      <th>75%</th>\n",
       "      <td>40190.073242</td>\n",
       "      <td>41607.629883</td>\n",
       "      <td>38749.082031</td>\n",
       "      <td>40292.477539</td>\n",
       "      <td>40292.477539</td>\n",
       "      <td>4.015852e+10</td>\n",
       "    </tr>\n",
       "    <tr>\n",
       "      <th>max</th>\n",
       "      <td>67549.734375</td>\n",
       "      <td>68789.625000</td>\n",
       "      <td>66382.062500</td>\n",
       "      <td>67566.828125</td>\n",
       "      <td>67566.828125</td>\n",
       "      <td>3.509679e+11</td>\n",
       "    </tr>\n",
       "  </tbody>\n",
       "</table>\n",
       "</div>"
      ],
      "text/plain": [
       "               Open          High           Low         Close     Adj Close  \\\n",
       "count   1156.000000   1156.000000   1156.000000   1156.000000   1156.000000   \n",
       "mean   22895.319287  23500.041618  22232.171545  22925.611185  22925.611185   \n",
       "std    19133.543234  19651.639045  18524.038667  19128.549349  19128.549349   \n",
       "min     3401.376465   3427.945557   3391.023682   3399.471680   3399.471680   \n",
       "25%     8319.130859   8510.423340   8183.221436   8321.569092   8321.569092   \n",
       "50%    10904.803223  11101.397949  10652.977539  10914.254395  10914.254395   \n",
       "75%    40190.073242  41607.629883  38749.082031  40292.477539  40292.477539   \n",
       "max    67549.734375  68789.625000  66382.062500  67566.828125  67566.828125   \n",
       "\n",
       "             Volume  \n",
       "count  1.156000e+03  \n",
       "mean   3.201122e+10  \n",
       "std    2.020354e+10  \n",
       "min    4.324201e+09  \n",
       "25%    1.887529e+10  \n",
       "50%    2.852390e+10  \n",
       "75%    4.015852e+10  \n",
       "max    3.509679e+11  "
      ]
     },
     "execution_count": 4,
     "metadata": {},
     "output_type": "execute_result"
    }
   ],
   "source": [
    "bitcoin_df.describe()"
   ]
  },
  {
   "cell_type": "code",
   "execution_count": 5,
   "metadata": {},
   "outputs": [
    {
     "name": "stdout",
     "output_type": "stream",
     "text": [
      "<class 'pandas.core.frame.DataFrame'>\n",
      "DatetimeIndex: 1156 entries, 2018-12-31 to 2022-02-28\n",
      "Data columns (total 6 columns):\n",
      " #   Column     Non-Null Count  Dtype  \n",
      "---  ------     --------------  -----  \n",
      " 0   Open       1156 non-null   float64\n",
      " 1   High       1156 non-null   float64\n",
      " 2   Low        1156 non-null   float64\n",
      " 3   Close      1156 non-null   float64\n",
      " 4   Adj Close  1156 non-null   float64\n",
      " 5   Volume     1156 non-null   float64\n",
      "dtypes: float64(6)\n",
      "memory usage: 63.2 KB\n"
     ]
    }
   ],
   "source": [
    "bitcoin_df[\"Volume\"] = bitcoin_df[\"Volume\"].astype(\"float\")\n",
    "bitcoin_df.info()"
   ]
  },
  {
   "cell_type": "code",
   "execution_count": 6,
   "metadata": {},
   "outputs": [
    {
     "data": {
      "text/html": [
       "<div>\n",
       "<style scoped>\n",
       "    .dataframe tbody tr th:only-of-type {\n",
       "        vertical-align: middle;\n",
       "    }\n",
       "\n",
       "    .dataframe tbody tr th {\n",
       "        vertical-align: top;\n",
       "    }\n",
       "\n",
       "    .dataframe thead th {\n",
       "        text-align: right;\n",
       "    }\n",
       "</style>\n",
       "<table border=\"1\" class=\"dataframe\">\n",
       "  <thead>\n",
       "    <tr style=\"text-align: right;\">\n",
       "      <th></th>\n",
       "      <th>Open</th>\n",
       "      <th>High</th>\n",
       "      <th>Low</th>\n",
       "      <th>Close</th>\n",
       "      <th>Adj Close</th>\n",
       "      <th>Volume</th>\n",
       "    </tr>\n",
       "    <tr>\n",
       "      <th>Date</th>\n",
       "      <th></th>\n",
       "      <th></th>\n",
       "      <th></th>\n",
       "      <th></th>\n",
       "      <th></th>\n",
       "      <th></th>\n",
       "    </tr>\n",
       "  </thead>\n",
       "  <tbody>\n",
       "    <tr>\n",
       "      <th>2018-12-31</th>\n",
       "      <td>3866.839111</td>\n",
       "      <td>3868.742920</td>\n",
       "      <td>3725.867432</td>\n",
       "      <td>3742.700439</td>\n",
       "      <td>3742.700439</td>\n",
       "      <td>4.661841e+09</td>\n",
       "    </tr>\n",
       "    <tr>\n",
       "      <th>2019-01-01</th>\n",
       "      <td>3746.713379</td>\n",
       "      <td>3850.913818</td>\n",
       "      <td>3707.231201</td>\n",
       "      <td>3843.520020</td>\n",
       "      <td>3843.520020</td>\n",
       "      <td>4.324201e+09</td>\n",
       "    </tr>\n",
       "    <tr>\n",
       "      <th>2019-01-02</th>\n",
       "      <td>3849.216309</td>\n",
       "      <td>3947.981201</td>\n",
       "      <td>3817.409424</td>\n",
       "      <td>3943.409424</td>\n",
       "      <td>3943.409424</td>\n",
       "      <td>5.244857e+09</td>\n",
       "    </tr>\n",
       "    <tr>\n",
       "      <th>2019-01-03</th>\n",
       "      <td>3931.048584</td>\n",
       "      <td>3935.685059</td>\n",
       "      <td>3826.222900</td>\n",
       "      <td>3836.741211</td>\n",
       "      <td>3836.741211</td>\n",
       "      <td>4.530215e+09</td>\n",
       "    </tr>\n",
       "    <tr>\n",
       "      <th>2019-01-04</th>\n",
       "      <td>3832.040039</td>\n",
       "      <td>3865.934570</td>\n",
       "      <td>3783.853760</td>\n",
       "      <td>3857.717529</td>\n",
       "      <td>3857.717529</td>\n",
       "      <td>4.847965e+09</td>\n",
       "    </tr>\n",
       "  </tbody>\n",
       "</table>\n",
       "</div>"
      ],
      "text/plain": [
       "                   Open         High          Low        Close    Adj Close  \\\n",
       "Date                                                                          \n",
       "2018-12-31  3866.839111  3868.742920  3725.867432  3742.700439  3742.700439   \n",
       "2019-01-01  3746.713379  3850.913818  3707.231201  3843.520020  3843.520020   \n",
       "2019-01-02  3849.216309  3947.981201  3817.409424  3943.409424  3943.409424   \n",
       "2019-01-03  3931.048584  3935.685059  3826.222900  3836.741211  3836.741211   \n",
       "2019-01-04  3832.040039  3865.934570  3783.853760  3857.717529  3857.717529   \n",
       "\n",
       "                  Volume  \n",
       "Date                      \n",
       "2018-12-31  4.661841e+09  \n",
       "2019-01-01  4.324201e+09  \n",
       "2019-01-02  5.244857e+09  \n",
       "2019-01-03  4.530215e+09  \n",
       "2019-01-04  4.847965e+09  "
      ]
     },
     "execution_count": 6,
     "metadata": {},
     "output_type": "execute_result"
    }
   ],
   "source": [
    "bitcoin_df.head()"
   ]
  },
  {
   "cell_type": "code",
   "execution_count": 49,
   "metadata": {},
   "outputs": [],
   "source": [
    "#bitcoin_df.index = bitcoin_df['Date']"
   ]
  },
  {
   "cell_type": "code",
   "execution_count": 7,
   "metadata": {},
   "outputs": [],
   "source": [
    "bitcoin_df = bitcoin_df.drop(columns = ['Adj Close'])"
   ]
  },
  {
   "cell_type": "code",
   "execution_count": 8,
   "metadata": {},
   "outputs": [
    {
     "data": {
      "text/html": [
       "<div>\n",
       "<style scoped>\n",
       "    .dataframe tbody tr th:only-of-type {\n",
       "        vertical-align: middle;\n",
       "    }\n",
       "\n",
       "    .dataframe tbody tr th {\n",
       "        vertical-align: top;\n",
       "    }\n",
       "\n",
       "    .dataframe thead th {\n",
       "        text-align: right;\n",
       "    }\n",
       "</style>\n",
       "<table border=\"1\" class=\"dataframe\">\n",
       "  <thead>\n",
       "    <tr style=\"text-align: right;\">\n",
       "      <th></th>\n",
       "      <th>Open</th>\n",
       "      <th>High</th>\n",
       "      <th>Low</th>\n",
       "      <th>Close</th>\n",
       "      <th>Volume</th>\n",
       "    </tr>\n",
       "    <tr>\n",
       "      <th>Date</th>\n",
       "      <th></th>\n",
       "      <th></th>\n",
       "      <th></th>\n",
       "      <th></th>\n",
       "      <th></th>\n",
       "    </tr>\n",
       "  </thead>\n",
       "  <tbody>\n",
       "    <tr>\n",
       "      <th>2018-12-31</th>\n",
       "      <td>3866.839111</td>\n",
       "      <td>3868.742920</td>\n",
       "      <td>3725.867432</td>\n",
       "      <td>3742.700439</td>\n",
       "      <td>4.661841e+09</td>\n",
       "    </tr>\n",
       "    <tr>\n",
       "      <th>2019-01-01</th>\n",
       "      <td>3746.713379</td>\n",
       "      <td>3850.913818</td>\n",
       "      <td>3707.231201</td>\n",
       "      <td>3843.520020</td>\n",
       "      <td>4.324201e+09</td>\n",
       "    </tr>\n",
       "    <tr>\n",
       "      <th>2019-01-02</th>\n",
       "      <td>3849.216309</td>\n",
       "      <td>3947.981201</td>\n",
       "      <td>3817.409424</td>\n",
       "      <td>3943.409424</td>\n",
       "      <td>5.244857e+09</td>\n",
       "    </tr>\n",
       "    <tr>\n",
       "      <th>2019-01-03</th>\n",
       "      <td>3931.048584</td>\n",
       "      <td>3935.685059</td>\n",
       "      <td>3826.222900</td>\n",
       "      <td>3836.741211</td>\n",
       "      <td>4.530215e+09</td>\n",
       "    </tr>\n",
       "    <tr>\n",
       "      <th>2019-01-04</th>\n",
       "      <td>3832.040039</td>\n",
       "      <td>3865.934570</td>\n",
       "      <td>3783.853760</td>\n",
       "      <td>3857.717529</td>\n",
       "      <td>4.847965e+09</td>\n",
       "    </tr>\n",
       "  </tbody>\n",
       "</table>\n",
       "</div>"
      ],
      "text/plain": [
       "                   Open         High          Low        Close        Volume\n",
       "Date                                                                        \n",
       "2018-12-31  3866.839111  3868.742920  3725.867432  3742.700439  4.661841e+09\n",
       "2019-01-01  3746.713379  3850.913818  3707.231201  3843.520020  4.324201e+09\n",
       "2019-01-02  3849.216309  3947.981201  3817.409424  3943.409424  5.244857e+09\n",
       "2019-01-03  3931.048584  3935.685059  3826.222900  3836.741211  4.530215e+09\n",
       "2019-01-04  3832.040039  3865.934570  3783.853760  3857.717529  4.847965e+09"
      ]
     },
     "execution_count": 8,
     "metadata": {},
     "output_type": "execute_result"
    }
   ],
   "source": [
    "bitcoin_df.head()"
   ]
  },
  {
   "cell_type": "code",
   "execution_count": 52,
   "metadata": {},
   "outputs": [],
   "source": [
    "# bitcoin_df['y'] = bitcoin_df['Close']   "
   ]
  },
  {
   "cell_type": "code",
   "execution_count": 9,
   "metadata": {},
   "outputs": [
    {
     "name": "stdout",
     "output_type": "stream",
     "text": [
      "<class 'pandas.core.frame.DataFrame'>\n",
      "DatetimeIndex: 1156 entries, 2018-12-31 to 2022-02-28\n",
      "Data columns (total 5 columns):\n",
      " #   Column  Non-Null Count  Dtype  \n",
      "---  ------  --------------  -----  \n",
      " 0   Open    1156 non-null   float64\n",
      " 1   High    1156 non-null   float64\n",
      " 2   Low     1156 non-null   float64\n",
      " 3   Close   1156 non-null   float64\n",
      " 4   Volume  1156 non-null   float64\n",
      "dtypes: float64(5)\n",
      "memory usage: 54.2 KB\n",
      "\n",
      "\n",
      "Número de muestras 1156\n",
      "Número de variables 5\n"
     ]
    }
   ],
   "source": [
    "bitcoin_df.info()\n",
    "print('\\n')\n",
    "print('Número de muestras', bitcoin_df.shape[0])\n",
    "print('Número de variables', bitcoin_df.shape[1])"
   ]
  },
  {
   "cell_type": "markdown",
   "metadata": {},
   "source": [
    "## ANÁLISIS EXPLORATORIO"
   ]
  },
  {
   "cell_type": "code",
   "execution_count": 10,
   "metadata": {},
   "outputs": [],
   "source": [
    "close = bitcoin_df['Close']"
   ]
  },
  {
   "cell_type": "code",
   "execution_count": 11,
   "metadata": {},
   "outputs": [
    {
     "data": {
      "image/png": "[encoded data removed]",
      "text/plain": [
       "<Figure size 1152x576 with 4 Axes>"
      ]
     },
     "metadata": {
      "needs_background": "light"
     },
     "output_type": "display_data"
    }
   ],
   "source": [
    "fig, axs =plt.subplots(2,2,figsize=(16,8),gridspec_kw ={'hspace': 0.2, 'wspace': 0.1})\n",
    "axs[0,0].plot(bitcoin_df['Volume'])\n",
    "axs[0,0].set_title('BTC Volume/mill')\n",
    "axs[0,1].plot(bitcoin_df['Low'])\n",
    "axs[0,1].set_title('BTC Low Price')\n",
    "axs[1,0].plot(bitcoin_df['Open'])\n",
    "axs[1,0].set_title('BTC Open Price')\n",
    "axs[1,1].plot(bitcoin_df['High'])\n",
    "axs[1,1].set_title('BTC High Price')\n",
    "\n",
    "plt.show()"
   ]
  },
  {
   "cell_type": "code",
   "execution_count": 13,
   "metadata": {},
   "outputs": [],
   "source": [
    "\"\"\" Vamos a medir la correlación entre las variables\n",
    " y comprobaremos a continuación cuáles son las más importantes \n",
    " intentando conocer qué variables independientes\n",
    " afectan en mayor medida al modelo que vamos a utilizar. \"\"\"\n",
    "\n",
    "bitcoin_features = bitcoin_df\n",
    "features = ['Open', 'High', 'Low', 'Volume']\n",
    "X_bitcoin = bitcoin_features[features]\n",
    "y_bitcoin = bitcoin_features['Close']"
   ]
  },
  {
   "cell_type": "code",
   "execution_count": 57,
   "metadata": {},
   "outputs": [],
   "source": [
    "# TENEMOS QUE DROPEAR LA COLUMNA ADJ CLOSE Y LA COLUMNA \"y\"."
   ]
  },
  {
   "cell_type": "code",
   "execution_count": 14,
   "metadata": {},
   "outputs": [
    {
     "data": {
      "text/html": [
       "<div>\n",
       "<style scoped>\n",
       "    .dataframe tbody tr th:only-of-type {\n",
       "        vertical-align: middle;\n",
       "    }\n",
       "\n",
       "    .dataframe tbody tr th {\n",
       "        vertical-align: top;\n",
       "    }\n",
       "\n",
       "    .dataframe thead th {\n",
       "        text-align: right;\n",
       "    }\n",
       "</style>\n",
       "<table border=\"1\" class=\"dataframe\">\n",
       "  <thead>\n",
       "    <tr style=\"text-align: right;\">\n",
       "      <th></th>\n",
       "      <th>Open</th>\n",
       "      <th>High</th>\n",
       "      <th>Low</th>\n",
       "      <th>Close</th>\n",
       "      <th>Volume</th>\n",
       "    </tr>\n",
       "  </thead>\n",
       "  <tbody>\n",
       "    <tr>\n",
       "      <th>Open</th>\n",
       "      <td>1.000000</td>\n",
       "      <td>0.999262</td>\n",
       "      <td>0.998614</td>\n",
       "      <td>0.998155</td>\n",
       "      <td>0.498174</td>\n",
       "    </tr>\n",
       "    <tr>\n",
       "      <th>High</th>\n",
       "      <td>0.999262</td>\n",
       "      <td>1.000000</td>\n",
       "      <td>0.998526</td>\n",
       "      <td>0.999197</td>\n",
       "      <td>0.505522</td>\n",
       "    </tr>\n",
       "    <tr>\n",
       "      <th>Low</th>\n",
       "      <td>0.998614</td>\n",
       "      <td>0.998526</td>\n",
       "      <td>1.000000</td>\n",
       "      <td>0.999040</td>\n",
       "      <td>0.482326</td>\n",
       "    </tr>\n",
       "    <tr>\n",
       "      <th>Close</th>\n",
       "      <td>0.998155</td>\n",
       "      <td>0.999197</td>\n",
       "      <td>0.999040</td>\n",
       "      <td>1.000000</td>\n",
       "      <td>0.495624</td>\n",
       "    </tr>\n",
       "    <tr>\n",
       "      <th>Volume</th>\n",
       "      <td>0.498174</td>\n",
       "      <td>0.505522</td>\n",
       "      <td>0.482326</td>\n",
       "      <td>0.495624</td>\n",
       "      <td>1.000000</td>\n",
       "    </tr>\n",
       "  </tbody>\n",
       "</table>\n",
       "</div>"
      ],
      "text/plain": [
       "            Open      High       Low     Close    Volume\n",
       "Open    1.000000  0.999262  0.998614  0.998155  0.498174\n",
       "High    0.999262  1.000000  0.998526  0.999197  0.505522\n",
       "Low     0.998614  0.998526  1.000000  0.999040  0.482326\n",
       "Close   0.998155  0.999197  0.999040  1.000000  0.495624\n",
       "Volume  0.498174  0.505522  0.482326  0.495624  1.000000"
      ]
     },
     "execution_count": 14,
     "metadata": {},
     "output_type": "execute_result"
    }
   ],
   "source": [
    "bitcoin_df.corr()"
   ]
  },
  {
   "cell_type": "code",
   "execution_count": 15,
   "metadata": {},
   "outputs": [
    {
     "data": {
      "image/png": "[encoded data removed]",
      "text/plain": [
       "<Figure size 900x900 with 30 Axes>"
      ]
     },
     "metadata": {
      "needs_background": "light"
     },
     "output_type": "display_data"
    }
   ],
   "source": [
    "sns.pairplot(bitcoin_df);"
   ]
  },
  {
   "cell_type": "code",
   "execution_count": 16,
   "metadata": {},
   "outputs": [
    {
     "data": {
      "image/png": "[encoded data removed]",
      "text/plain": [
       "<Figure size 432x288 with 2 Axes>"
      ]
     },
     "metadata": {
      "needs_background": "light"
     },
     "output_type": "display_data"
    }
   ],
   "source": [
    "sns.heatmap(bitcoin_df.corr(), annot=True);"
   ]
  },
  {
   "cell_type": "code",
   "execution_count": 17,
   "metadata": {},
   "outputs": [
    {
     "name": "stderr",
     "output_type": "stream",
     "text": [
      "C:\\Users\\david\\AppData\\Local\\Programs\\Python\\Python37\\lib\\site-packages\\seaborn\\distributions.py:2619: FutureWarning: `distplot` is a deprecated function and will be removed in a future version. Please adapt your code to use either `displot` (a figure-level function with similar flexibility) or `histplot` (an axes-level function for histograms).\n",
      "  warnings.warn(msg, FutureWarning)\n"
     ]
    },
    {
     "data": {
      "image/png": "[encoded data removed]",
      "text/plain": [
       "<Figure size 432x288 with 1 Axes>"
      ]
     },
     "metadata": {
      "needs_background": "light"
     },
     "output_type": "display_data"
    }
   ],
   "source": [
    "sns.distplot(bitcoin_df['Volume']);"
   ]
  },
  {
   "cell_type": "code",
   "execution_count": 18,
   "metadata": {},
   "outputs": [
    {
     "name": "stderr",
     "output_type": "stream",
     "text": [
      "C:\\Users\\david\\AppData\\Local\\Programs\\Python\\Python37\\lib\\site-packages\\seaborn\\distributions.py:2619: FutureWarning: `distplot` is a deprecated function and will be removed in a future version. Please adapt your code to use either `displot` (a figure-level function with similar flexibility) or `histplot` (an axes-level function for histograms).\n",
      "  warnings.warn(msg, FutureWarning)\n"
     ]
    },
    {
     "data": {
      "image/png": "[encoded data removed]",
      "text/plain": [
       "<Figure size 432x288 with 1 Axes>"
      ]
     },
     "metadata": {
      "needs_background": "light"
     },
     "output_type": "display_data"
    }
   ],
   "source": [
    "sns.distplot(bitcoin_df['Close']);"
   ]
  },
  {
   "cell_type": "markdown",
   "metadata": {},
   "source": [
    "## 1). MODELO DE REGRESIÓN LINEAL"
   ]
  },
  {
   "cell_type": "code",
   "execution_count": 19,
   "metadata": {},
   "outputs": [
    {
     "data": {
      "text/plain": [
       "Index(['Open', 'High', 'Low', 'Volume'], dtype='object')"
      ]
     },
     "execution_count": 19,
     "metadata": {},
     "output_type": "execute_result"
    }
   ],
   "source": [
    "X_bitcoin.columns\n"
   ]
  },
  {
   "cell_type": "code",
   "execution_count": 20,
   "metadata": {},
   "outputs": [],
   "source": [
    "from sklearn.model_selection import train_test_split\n",
    "\n",
    "X_train, X_test, y_train, y_test = train_test_split(X_bitcoin, y_bitcoin, test_size = 0.30, random_state = 42)"
   ]
  },
  {
   "cell_type": "code",
   "execution_count": 21,
   "metadata": {},
   "outputs": [
    {
     "name": "stdout",
     "output_type": "stream",
     "text": [
      "Total features shape: (1156, 4)\n",
      "Train features shape: (809, 4)\n",
      "Train target shape: (809,)\n",
      "Test features shape: (347, 4)\n",
      "Test target shape: (347,)\n"
     ]
    }
   ],
   "source": [
    "print(\"Total features shape:\", X_bitcoin.shape)\n",
    "print(\"Train features shape:\", X_train.shape)\n",
    "print(\"Train target shape:\", y_train.shape)\n",
    "print(\"Test features shape:\", X_test.shape)\n",
    "print(\"Test target shape:\", y_test.shape)"
   ]
  },
  {
   "cell_type": "code",
   "execution_count": 22,
   "metadata": {},
   "outputs": [
    {
     "data": {
      "text/plain": [
       "LinearRegression()"
      ]
     },
     "execution_count": 22,
     "metadata": {},
     "output_type": "execute_result"
    }
   ],
   "source": [
    "from sklearn.linear_model import LinearRegression\n",
    "lm = LinearRegression()\n",
    "lm.fit(X_train, y_train)"
   ]
  },
  {
   "cell_type": "code",
   "execution_count": 23,
   "metadata": {},
   "outputs": [
    {
     "name": "stdout",
     "output_type": "stream",
     "text": [
      "Intercepto: -9.685639228864602\n",
      "Coeficientes: [-5.19276540e-01  9.12330077e-01  6.00220843e-01  1.49535928e-09]\n"
     ]
    }
   ],
   "source": [
    "print('Intercepto:', lm.intercept_)\n",
    "print('Coeficientes:', lm.coef_)"
   ]
  },
  {
   "cell_type": "code",
   "execution_count": 24,
   "metadata": {},
   "outputs": [
    {
     "data": {
      "text/html": [
       "<div>\n",
       "<style scoped>\n",
       "    .dataframe tbody tr th:only-of-type {\n",
       "        vertical-align: middle;\n",
       "    }\n",
       "\n",
       "    .dataframe tbody tr th {\n",
       "        vertical-align: top;\n",
       "    }\n",
       "\n",
       "    .dataframe thead th {\n",
       "        text-align: right;\n",
       "    }\n",
       "</style>\n",
       "<table border=\"1\" class=\"dataframe\">\n",
       "  <thead>\n",
       "    <tr style=\"text-align: right;\">\n",
       "      <th></th>\n",
       "      <th>Coefficient</th>\n",
       "    </tr>\n",
       "  </thead>\n",
       "  <tbody>\n",
       "    <tr>\n",
       "      <th>Open</th>\n",
       "      <td>-5.192765e-01</td>\n",
       "    </tr>\n",
       "    <tr>\n",
       "      <th>High</th>\n",
       "      <td>9.123301e-01</td>\n",
       "    </tr>\n",
       "    <tr>\n",
       "      <th>Low</th>\n",
       "      <td>6.002208e-01</td>\n",
       "    </tr>\n",
       "    <tr>\n",
       "      <th>Volume</th>\n",
       "      <td>1.495359e-09</td>\n",
       "    </tr>\n",
       "  </tbody>\n",
       "</table>\n",
       "</div>"
      ],
      "text/plain": [
       "         Coefficient\n",
       "Open   -5.192765e-01\n",
       "High    9.123301e-01\n",
       "Low     6.002208e-01\n",
       "Volume  1.495359e-09"
      ]
     },
     "execution_count": 24,
     "metadata": {},
     "output_type": "execute_result"
    }
   ],
   "source": [
    "coeff_df = pd.DataFrame(lm.coef_,\n",
    "                        X_bitcoin.columns,\n",
    "                        columns=['Coefficient'])\n",
    "coeff_df"
   ]
  },
  {
   "cell_type": "code",
   "execution_count": 25,
   "metadata": {},
   "outputs": [
    {
     "data": {
      "text/html": [
       "<div>\n",
       "<style scoped>\n",
       "    .dataframe tbody tr th:only-of-type {\n",
       "        vertical-align: middle;\n",
       "    }\n",
       "\n",
       "    .dataframe tbody tr th {\n",
       "        vertical-align: top;\n",
       "    }\n",
       "\n",
       "    .dataframe thead th {\n",
       "        text-align: right;\n",
       "    }\n",
       "</style>\n",
       "<table border=\"1\" class=\"dataframe\">\n",
       "  <thead>\n",
       "    <tr style=\"text-align: right;\">\n",
       "      <th></th>\n",
       "      <th>Open</th>\n",
       "      <th>High</th>\n",
       "      <th>Low</th>\n",
       "      <th>Volume</th>\n",
       "    </tr>\n",
       "    <tr>\n",
       "      <th>Date</th>\n",
       "      <th></th>\n",
       "      <th></th>\n",
       "      <th></th>\n",
       "      <th></th>\n",
       "    </tr>\n",
       "  </thead>\n",
       "  <tbody>\n",
       "    <tr>\n",
       "      <th>2021-07-28</th>\n",
       "      <td>39503.187500</td>\n",
       "      <td>40816.070312</td>\n",
       "      <td>38862.437500</td>\n",
       "      <td>3.870240e+10</td>\n",
       "    </tr>\n",
       "    <tr>\n",
       "      <th>2019-09-22</th>\n",
       "      <td>10024.115234</td>\n",
       "      <td>10074.444336</td>\n",
       "      <td>9922.533203</td>\n",
       "      <td>1.319965e+10</td>\n",
       "    </tr>\n",
       "    <tr>\n",
       "      <th>2019-04-19</th>\n",
       "      <td>5298.154297</td>\n",
       "      <td>5336.680176</td>\n",
       "      <td>5233.334961</td>\n",
       "      <td>1.378024e+10</td>\n",
       "    </tr>\n",
       "    <tr>\n",
       "      <th>2019-10-26</th>\n",
       "      <td>8667.577148</td>\n",
       "      <td>10021.744141</td>\n",
       "      <td>8662.622070</td>\n",
       "      <td>4.449626e+10</td>\n",
       "    </tr>\n",
       "    <tr>\n",
       "      <th>2021-01-21</th>\n",
       "      <td>35549.398438</td>\n",
       "      <td>35552.679688</td>\n",
       "      <td>30250.750000</td>\n",
       "      <td>7.564307e+10</td>\n",
       "    </tr>\n",
       "    <tr>\n",
       "      <th>...</th>\n",
       "      <td>...</td>\n",
       "      <td>...</td>\n",
       "      <td>...</td>\n",
       "      <td>...</td>\n",
       "    </tr>\n",
       "    <tr>\n",
       "      <th>2020-10-15</th>\n",
       "      <td>11426.602539</td>\n",
       "      <td>11569.914062</td>\n",
       "      <td>11303.603516</td>\n",
       "      <td>2.448723e+10</td>\n",
       "    </tr>\n",
       "    <tr>\n",
       "      <th>2021-05-22</th>\n",
       "      <td>37371.031250</td>\n",
       "      <td>38831.054688</td>\n",
       "      <td>35383.683594</td>\n",
       "      <td>5.737727e+10</td>\n",
       "    </tr>\n",
       "    <tr>\n",
       "      <th>2020-06-28</th>\n",
       "      <td>9048.460938</td>\n",
       "      <td>9197.546875</td>\n",
       "      <td>8975.525391</td>\n",
       "      <td>1.456087e+10</td>\n",
       "    </tr>\n",
       "    <tr>\n",
       "      <th>2021-11-24</th>\n",
       "      <td>57565.851562</td>\n",
       "      <td>57803.066406</td>\n",
       "      <td>55964.222656</td>\n",
       "      <td>3.663557e+10</td>\n",
       "    </tr>\n",
       "    <tr>\n",
       "      <th>2021-09-07</th>\n",
       "      <td>52660.480469</td>\n",
       "      <td>52853.765625</td>\n",
       "      <td>43285.207031</td>\n",
       "      <td>6.521006e+10</td>\n",
       "    </tr>\n",
       "  </tbody>\n",
       "</table>\n",
       "<p>347 rows × 4 columns</p>\n",
       "</div>"
      ],
      "text/plain": [
       "                    Open          High           Low        Volume\n",
       "Date                                                              \n",
       "2021-07-28  39503.187500  40816.070312  38862.437500  3.870240e+10\n",
       "2019-09-22  10024.115234  10074.444336   9922.533203  1.319965e+10\n",
       "2019-04-19   5298.154297   5336.680176   5233.334961  1.378024e+10\n",
       "2019-10-26   8667.577148  10021.744141   8662.622070  4.449626e+10\n",
       "2021-01-21  35549.398438  35552.679688  30250.750000  7.564307e+10\n",
       "...                  ...           ...           ...           ...\n",
       "2020-10-15  11426.602539  11569.914062  11303.603516  2.448723e+10\n",
       "2021-05-22  37371.031250  38831.054688  35383.683594  5.737727e+10\n",
       "2020-06-28   9048.460938   9197.546875   8975.525391  1.456087e+10\n",
       "2021-11-24  57565.851562  57803.066406  55964.222656  3.663557e+10\n",
       "2021-09-07  52660.480469  52853.765625  43285.207031  6.521006e+10\n",
       "\n",
       "[347 rows x 4 columns]"
      ]
     },
     "execution_count": 25,
     "metadata": {},
     "output_type": "execute_result"
    }
   ],
   "source": [
    "X_test"
   ]
  },
  {
   "cell_type": "code",
   "execution_count": 26,
   "metadata": {},
   "outputs": [
    {
     "data": {
      "text/plain": [
       "array([40098.88340506,  9951.69452768,  5269.68409456,  9898.60770249,\n",
       "       32236.36896629,  9227.75666985, 36434.51441308,  9107.02976604,\n",
       "       41321.94736215, 11789.69964673,  7264.68048424,  8713.55765394,\n",
       "        7860.45298095, 35458.97466048,  5918.67468677, 46937.47877566,\n",
       "       37110.36535402, 48792.93259522, 49836.57753225, 47468.24137021,\n",
       "       57174.24899191, 39437.68246228,  3905.42611127,  9223.32325573,\n",
       "       32272.96533444, 11265.37064772,  8708.95670313,  6781.87461389,\n",
       "        9320.84987619, 40894.97070607,  9890.91948527,  6865.21575343,\n",
       "        3893.01232097,  7544.71150429, 48398.87030718,  7834.1593108 ,\n",
       "       38664.03849213, 37863.79626161, 58961.60143213,  8397.47738655,\n",
       "       40834.08926281, 50454.07410103, 54328.66874509, 10690.38577548,\n",
       "       11063.35806808,  7241.06355683, 38174.73076509, 34145.22983058,\n",
       "        8562.68826588, 45481.12223801, 48261.99101824, 18584.41791362,\n",
       "        9725.16667021,  4054.0027821 , 10582.23543715, 40449.59079288,\n",
       "        9709.28985463,  6135.92009832,  3960.27229613,  3571.56809042,\n",
       "        3621.87881774,  9327.12372659, 60979.1298135 ,  9371.55849675,\n",
       "        8043.08961807, 17764.87202114, 10916.19206738, 49858.7087458 ,\n",
       "       32163.1392193 , 29289.36662347, 11506.92899614,  9740.51370183,\n",
       "       29922.26595907,  3882.99732803,  8107.45839875,  9675.44747829,\n",
       "       31535.26581906, 55317.67071257,  8012.98442532,  9131.1556886 ,\n",
       "        8796.22262442, 44165.39135244,  8272.6468813 ,  5585.00040156,\n",
       "       51487.00153442, 55448.35541841, 13340.38766136, 41389.47194392,\n",
       "        9256.85426701,  8643.77362842,  5234.46819884,  9326.02826406,\n",
       "       59433.18281284,  8129.57843978, 23322.26347995,  8056.66144965,\n",
       "       10075.57063993,  5146.18794386,  6732.26142876,  7194.20557652,\n",
       "       51272.94571204,  5146.0056427 , 10280.34877838, 48453.3371063 ,\n",
       "        3456.19274205,  8043.11464117, 57585.42296584,  8333.40291855,\n",
       "        9571.51236637,  9226.20417586, 54140.59018182, 22853.78370129,\n",
       "        9538.44470587, 10788.8822613 ,  4068.28890801, 15443.43846686,\n",
       "        9610.44433976,  9223.95301435,  9696.24634168,  9570.02163806,\n",
       "       11228.36524943, 58651.28058882, 10248.70447842,  7448.72325703,\n",
       "        7299.29537188, 38043.81533499,  6895.3121161 , 38201.00344057,\n",
       "        8776.04153343,  3809.70157415, 46143.59071754,  7172.08001564,\n",
       "       39153.03305423,  3876.51948545,  9933.12410758,  9814.54208382,\n",
       "        9004.13028487,  7238.80778271, 32333.30883916, 10190.40181297,\n",
       "       36630.88558636,  9537.14001881,  7128.88732802, 46828.27492622,\n",
       "       33044.23029227, 58228.32204567, 11344.7275088 , 39295.22362536,\n",
       "       19115.26803302,  9149.13989825, 47576.04602888, 58215.97469989,\n",
       "        9422.27971684,  9928.55278128, 49443.34931875,  6621.53588418,\n",
       "        3999.67575674,  7315.22982361, 53923.49960071, 61232.51656609,\n",
       "        7155.74387101, 11892.23738941, 64654.13045743, 36633.22101233,\n",
       "       42851.60636535, 60323.21289575, 40103.18224362,  4004.15184505,\n",
       "       14974.22536846,  7356.76681859, 11357.45115644, 10403.98667095,\n",
       "       54569.4390187 , 18630.89420426,  7948.2107343 , 31552.27699355,\n",
       "       55540.8574343 ,  7723.89034519,  8154.96561745,  9698.44803572,\n",
       "       43625.17286406, 38511.44870342, 10879.59484372, 10415.46765847,\n",
       "        8422.03175821, 11744.52334549,  8560.45670737,  3627.30467927,\n",
       "       58964.80557653,  8773.60481153,  8242.28973917, 48435.33093316,\n",
       "       32546.8377809 , 42272.95416627, 11830.8719388 ,  7781.77742757,\n",
       "       11732.19350861, 43638.20576757, 55018.92691226,  9322.57912296,\n",
       "        9822.20594252,  4049.71070695, 11677.43176909, 11866.90782703,\n",
       "        9529.84266851,  8053.81798929,  9312.94751661, 47050.21148092,\n",
       "        3642.60980509,  3458.02770834, 38389.36333883,  8015.50939244,\n",
       "        4110.25364129, 36938.45054172,  7321.86950193, 11713.53492404,\n",
       "       56754.69714812,  9372.29532338,  8141.44761657, 61149.11180682,\n",
       "        3843.00994023,  8868.34058789,  9219.30358263,  9495.12966337,\n",
       "       35115.56325588, 32328.88440738, 59484.2293406 , 42025.8476137 ,\n",
       "        9472.6677068 ,  8774.43421746, 45410.75650203, 41714.64883987,\n",
       "        3820.57219419,  7719.59697659,  7631.60416577, 33554.16493178,\n",
       "        3776.55357929, 34652.19737711,  7696.06091621,  8701.90063243,\n",
       "        5374.64133906,  9332.0602694 , 11624.39153343, 19301.19985862,\n",
       "        8449.30868401,  9873.83421888,  9635.51217405,  8231.91797457,\n",
       "       57652.6411966 , 48638.77105834, 35631.03611246, 43579.56646988,\n",
       "        7442.93812525,  8149.44048263,  9103.83824366, 11962.50166627,\n",
       "        8793.8109663 ,  3909.04654408,  3904.26755382, 34647.88948941,\n",
       "       48897.45936858,  3650.68330981,  9673.4381216 , 12096.72828858,\n",
       "        7298.83095971, 31821.81635185, 60913.91044825,  9331.91075937,\n",
       "       49957.52117821, 13040.91541952,  6383.01603596, 65912.89301662,\n",
       "       47365.58091419,  9739.5326887 ,  8093.08147153,  8894.97730413,\n",
       "       10143.9474056 , 47187.53698345,  3892.5002754 ,  4037.66086081,\n",
       "       41045.93076485,  8377.93751176, 11611.01564346, 10842.35802732,\n",
       "       11331.27152635, 11792.47713556, 41734.24844039, 33246.35009259,\n",
       "       57082.15290168, 23636.98967383,  8701.0768718 , 54828.59564692,\n",
       "        7323.31880251, 46808.82071561,  7361.36087643, 10267.2615562 ,\n",
       "        7975.05740569,  3567.28623042,  9193.02537705,  3624.4214594 ,\n",
       "        5190.61420657,  3972.37469914,  5341.03626779, 10269.44547946,\n",
       "        5314.77601879, 11576.31850912,  8975.77950223, 48797.04928523,\n",
       "        3890.87571861, 62986.64357752, 18097.87904899, 10061.91430279,\n",
       "       54939.50660717, 37677.76177085, 64625.93343927, 13877.08863349,\n",
       "        7604.89568255, 10315.86707192, 46222.14424552,  8762.68518087,\n",
       "       38594.45359208, 32924.64664783, 11052.8615626 , 10610.66710246,\n",
       "       61678.02433085, 59703.1527829 ,  3877.67037296, 13029.67119761,\n",
       "        4833.55501267, 49920.37908   ,  7414.27633067, 58755.20406711,\n",
       "        8193.93709836, 33830.78912417, 28691.88133054, 57472.12528903,\n",
       "       13392.91023708, 10707.4417044 , 48606.28860286, 13035.44128511,\n",
       "        5323.09009737, 56543.60920265, 11433.60396023, 37334.97770254,\n",
       "        9091.93067111, 56478.87040009, 46943.23824975])"
      ]
     },
     "execution_count": 26,
     "metadata": {},
     "output_type": "execute_result"
    }
   ],
   "source": [
    "predictions = lm.predict(X_test)\n",
    "predictions"
   ]
  },
  {
   "cell_type": "code",
   "execution_count": 27,
   "metadata": {},
   "outputs": [
    {
     "name": "stderr",
     "output_type": "stream",
     "text": [
      "C:\\Users\\david\\AppData\\Local\\Programs\\Python\\Python37\\lib\\site-packages\\seaborn\\_decorators.py:43: FutureWarning: Pass the following variables as keyword args: x, y. From version 0.12, the only valid positional argument will be `data`, and passing other arguments without an explicit keyword will result in an error or misinterpretation.\n",
      "  FutureWarning\n"
     ]
    },
    {
     "data": {
      "image/png": "[encoded data removed]",
      "text/plain": [
       "<Figure size 432x288 with 1 Axes>"
      ]
     },
     "metadata": {
      "needs_background": "light"
     },
     "output_type": "display_data"
    }
   ],
   "source": [
    "sns.scatterplot(y_test, predictions);"
   ]
  },
  {
   "cell_type": "code",
   "execution_count": 28,
   "metadata": {},
   "outputs": [
    {
     "name": "stderr",
     "output_type": "stream",
     "text": [
      "C:\\Users\\david\\AppData\\Local\\Programs\\Python\\Python37\\lib\\site-packages\\sklearn\\base.py:451: UserWarning: X does not have valid feature names, but LinearRegression was fitted with feature names\n",
      "  \"X does not have valid feature names, but\"\n"
     ]
    },
    {
     "data": {
      "text/plain": [
       "array([28507.15977115, 38507.12501065])"
      ]
     },
     "execution_count": 28,
     "metadata": {},
     "output_type": "execute_result"
    }
   ],
   "source": [
    "new_price = np.array([[29000, 30000, 27000, 8],\n",
    "                    [25000, 40000, 25000, 5]])\n",
    "\n",
    "lm.predict(new_price)"
   ]
  },
  {
   "cell_type": "code",
   "execution_count": 29,
   "metadata": {},
   "outputs": [
    {
     "name": "stderr",
     "output_type": "stream",
     "text": [
      "C:\\Users\\david\\AppData\\Local\\Programs\\Python\\Python37\\lib\\site-packages\\seaborn\\distributions.py:2619: FutureWarning: `distplot` is a deprecated function and will be removed in a future version. Please adapt your code to use either `displot` (a figure-level function with similar flexibility) or `histplot` (an axes-level function for histograms).\n",
      "  warnings.warn(msg, FutureWarning)\n"
     ]
    },
    {
     "data": {
      "text/plain": [
       "<AxesSubplot:xlabel='Close', ylabel='Density'>"
      ]
     },
     "execution_count": 29,
     "metadata": {},
     "output_type": "execute_result"
    },
    {
     "data": {
      "image/png": "[encoded data removed]",
      "text/plain": [
       "<Figure size 432x288 with 1 Axes>"
      ]
     },
     "metadata": {
      "needs_background": "light"
     },
     "output_type": "display_data"
    }
   ],
   "source": [
    "sns.distplot((y_test - predictions))"
   ]
  },
  {
   "cell_type": "code",
   "execution_count": 30,
   "metadata": {},
   "outputs": [
    {
     "data": {
      "text/plain": [
       "0.9993669036547531"
      ]
     },
     "execution_count": 30,
     "metadata": {},
     "output_type": "execute_result"
    }
   ],
   "source": [
    "from sklearn import metrics\n",
    "\n",
    "lm.score(X_test, y_test)\n"
   ]
  },
  {
   "cell_type": "code",
   "execution_count": 31,
   "metadata": {},
   "outputs": [
    {
     "name": "stdout",
     "output_type": "stream",
     "text": [
      "MAE: 259.2466931331841\n",
      "MSE: 228187.82491018655\n",
      "RMSE: 477.6900929579622\n"
     ]
    }
   ],
   "source": [
    "print('MAE:', metrics.mean_absolute_error(y_test, predictions))\n",
    "print('MSE:', metrics.mean_squared_error(y_test, predictions))\n",
    "print('RMSE:', np.sqrt(metrics.mean_squared_error(y_test, predictions)))"
   ]
  },
  {
   "cell_type": "code",
   "execution_count": 32,
   "metadata": {},
   "outputs": [
    {
     "data": {
      "text/html": [
       "<div>\n",
       "<style scoped>\n",
       "    .dataframe tbody tr th:only-of-type {\n",
       "        vertical-align: middle;\n",
       "    }\n",
       "\n",
       "    .dataframe tbody tr th {\n",
       "        vertical-align: top;\n",
       "    }\n",
       "\n",
       "    .dataframe thead th {\n",
       "        text-align: right;\n",
       "    }\n",
       "</style>\n",
       "<table border=\"1\" class=\"dataframe\">\n",
       "  <thead>\n",
       "    <tr style=\"text-align: right;\">\n",
       "      <th></th>\n",
       "      <th>coefficient</th>\n",
       "    </tr>\n",
       "  </thead>\n",
       "  <tbody>\n",
       "    <tr>\n",
       "      <th>Open</th>\n",
       "      <td>-5.192765e-01</td>\n",
       "    </tr>\n",
       "    <tr>\n",
       "      <th>Volume</th>\n",
       "      <td>1.495359e-09</td>\n",
       "    </tr>\n",
       "    <tr>\n",
       "      <th>Low</th>\n",
       "      <td>6.002208e-01</td>\n",
       "    </tr>\n",
       "    <tr>\n",
       "      <th>High</th>\n",
       "      <td>9.123301e-01</td>\n",
       "    </tr>\n",
       "  </tbody>\n",
       "</table>\n",
       "</div>"
      ],
      "text/plain": [
       "         coefficient\n",
       "Open   -5.192765e-01\n",
       "Volume  1.495359e-09\n",
       "Low     6.002208e-01\n",
       "High    9.123301e-01"
      ]
     },
     "execution_count": 32,
     "metadata": {},
     "output_type": "execute_result"
    }
   ],
   "source": [
    "intercept = lm.intercept_\n",
    "features = pd.DataFrame(lm.coef_, X_train.columns, columns=['coefficient'])\n",
    "features.head().sort_values('coefficient', ascending=True)"
   ]
  },
  {
   "cell_type": "code",
   "execution_count": 33,
   "metadata": {},
   "outputs": [
    {
     "data": {
      "text/html": [
       "<div>\n",
       "<style scoped>\n",
       "    .dataframe tbody tr th:only-of-type {\n",
       "        vertical-align: middle;\n",
       "    }\n",
       "\n",
       "    .dataframe tbody tr th {\n",
       "        vertical-align: top;\n",
       "    }\n",
       "\n",
       "    .dataframe thead th {\n",
       "        text-align: right;\n",
       "    }\n",
       "</style>\n",
       "<table border=\"1\" class=\"dataframe\">\n",
       "  <thead>\n",
       "    <tr style=\"text-align: right;\">\n",
       "      <th></th>\n",
       "      <th>Coefficient</th>\n",
       "    </tr>\n",
       "  </thead>\n",
       "  <tbody>\n",
       "    <tr>\n",
       "      <th>High</th>\n",
       "      <td>17972.356620</td>\n",
       "    </tr>\n",
       "    <tr>\n",
       "      <th>Low</th>\n",
       "      <td>11144.356518</td>\n",
       "    </tr>\n",
       "    <tr>\n",
       "      <th>Volume</th>\n",
       "      <td>26.639505</td>\n",
       "    </tr>\n",
       "    <tr>\n",
       "      <th>Open</th>\n",
       "      <td>-9967.216388</td>\n",
       "    </tr>\n",
       "  </tbody>\n",
       "</table>\n",
       "</div>"
      ],
      "text/plain": [
       "         Coefficient\n",
       "High    17972.356620\n",
       "Low     11144.356518\n",
       "Volume     26.639505\n",
       "Open    -9967.216388"
      ]
     },
     "execution_count": 33,
     "metadata": {},
     "output_type": "execute_result"
    }
   ],
   "source": [
    "from sklearn import preprocessing\n",
    "\n",
    "std_scale = preprocessing.StandardScaler().fit(X_train)\n",
    "X_train_scal = std_scale.transform(X_train)\n",
    "\n",
    "lm_scal = LinearRegression()\n",
    "lm_scal.fit(X_train_scal, y_train)\n",
    "\n",
    "intercept_scal = lm_scal.intercept_\n",
    "features_std = pd.DataFrame(lm_scal.coef_, X_train.columns, columns=['Coefficient'])\n",
    "\n",
    "features_std.sort_values('Coefficient', ascending=False)"
   ]
  },
  {
   "cell_type": "code",
   "execution_count": 34,
   "metadata": {},
   "outputs": [
    {
     "data": {
      "text/html": [
       "<div>\n",
       "<style scoped>\n",
       "    .dataframe tbody tr th:only-of-type {\n",
       "        vertical-align: middle;\n",
       "    }\n",
       "\n",
       "    .dataframe tbody tr th {\n",
       "        vertical-align: top;\n",
       "    }\n",
       "\n",
       "    .dataframe thead th {\n",
       "        text-align: right;\n",
       "    }\n",
       "</style>\n",
       "<table border=\"1\" class=\"dataframe\">\n",
       "  <thead>\n",
       "    <tr style=\"text-align: right;\">\n",
       "      <th></th>\n",
       "      <th>Open</th>\n",
       "      <th>High</th>\n",
       "      <th>Low</th>\n",
       "      <th>Close</th>\n",
       "      <th>Volume</th>\n",
       "    </tr>\n",
       "  </thead>\n",
       "  <tbody>\n",
       "    <tr>\n",
       "      <th>count</th>\n",
       "      <td>1156.000000</td>\n",
       "      <td>1156.000000</td>\n",
       "      <td>1156.000000</td>\n",
       "      <td>1156.000000</td>\n",
       "      <td>1.156000e+03</td>\n",
       "    </tr>\n",
       "    <tr>\n",
       "      <th>mean</th>\n",
       "      <td>22895.319287</td>\n",
       "      <td>23500.041618</td>\n",
       "      <td>22232.171545</td>\n",
       "      <td>22925.611185</td>\n",
       "      <td>3.201122e+10</td>\n",
       "    </tr>\n",
       "    <tr>\n",
       "      <th>std</th>\n",
       "      <td>19133.543234</td>\n",
       "      <td>19651.639045</td>\n",
       "      <td>18524.038667</td>\n",
       "      <td>19128.549349</td>\n",
       "      <td>2.020354e+10</td>\n",
       "    </tr>\n",
       "    <tr>\n",
       "      <th>min</th>\n",
       "      <td>3401.376465</td>\n",
       "      <td>3427.945557</td>\n",
       "      <td>3391.023682</td>\n",
       "      <td>3399.471680</td>\n",
       "      <td>4.324201e+09</td>\n",
       "    </tr>\n",
       "    <tr>\n",
       "      <th>25%</th>\n",
       "      <td>8319.130859</td>\n",
       "      <td>8510.423340</td>\n",
       "      <td>8183.221436</td>\n",
       "      <td>8321.569092</td>\n",
       "      <td>1.887529e+10</td>\n",
       "    </tr>\n",
       "    <tr>\n",
       "      <th>50%</th>\n",
       "      <td>10904.803223</td>\n",
       "      <td>11101.397949</td>\n",
       "      <td>10652.977539</td>\n",
       "      <td>10914.254395</td>\n",
       "      <td>2.852390e+10</td>\n",
       "    </tr>\n",
       "    <tr>\n",
       "      <th>75%</th>\n",
       "      <td>40190.073242</td>\n",
       "      <td>41607.629883</td>\n",
       "      <td>38749.082031</td>\n",
       "      <td>40292.477539</td>\n",
       "      <td>4.015852e+10</td>\n",
       "    </tr>\n",
       "    <tr>\n",
       "      <th>max</th>\n",
       "      <td>67549.734375</td>\n",
       "      <td>68789.625000</td>\n",
       "      <td>66382.062500</td>\n",
       "      <td>67566.828125</td>\n",
       "      <td>3.509679e+11</td>\n",
       "    </tr>\n",
       "  </tbody>\n",
       "</table>\n",
       "</div>"
      ],
      "text/plain": [
       "               Open          High           Low         Close        Volume\n",
       "count   1156.000000   1156.000000   1156.000000   1156.000000  1.156000e+03\n",
       "mean   22895.319287  23500.041618  22232.171545  22925.611185  3.201122e+10\n",
       "std    19133.543234  19651.639045  18524.038667  19128.549349  2.020354e+10\n",
       "min     3401.376465   3427.945557   3391.023682   3399.471680  4.324201e+09\n",
       "25%     8319.130859   8510.423340   8183.221436   8321.569092  1.887529e+10\n",
       "50%    10904.803223  11101.397949  10652.977539  10914.254395  2.852390e+10\n",
       "75%    40190.073242  41607.629883  38749.082031  40292.477539  4.015852e+10\n",
       "max    67549.734375  68789.625000  66382.062500  67566.828125  3.509679e+11"
      ]
     },
     "execution_count": 34,
     "metadata": {},
     "output_type": "execute_result"
    }
   ],
   "source": [
    "bitcoin_df.describe()"
   ]
  },
  {
   "cell_type": "code",
   "execution_count": 35,
   "metadata": {},
   "outputs": [
    {
     "name": "stdout",
     "output_type": "stream",
     "text": [
      "MAE: 259.2466931331841\n",
      "MSE: 228187.82491018655\n",
      "RMSE: 477.6900929579622\n"
     ]
    }
   ],
   "source": [
    "X = bitcoin_df[['Open', 'High', 'Low', 'Volume']]\n",
    "\n",
    "y = bitcoin_df['Close']\n",
    "\n",
    "\n",
    "from sklearn.model_selection import train_test_split\n",
    "\n",
    "X_train, X_test, y_train, y_test = train_test_split(X,\n",
    "                                                    y,\n",
    "                                                    test_size=0.3,\n",
    "                                                    random_state=42)\n",
    "\n",
    "lr = LinearRegression(n_jobs=-1) \n",
    "lr.fit(X_train, y_train)\n",
    "\n",
    "predictions = lm.predict(X_test)\n",
    "predictions\n",
    "lr.fit(X, y)\n",
    "\n",
    "# A little bit lower without Avg. Area Number of Bedrooms\n",
    "print('MAE:', metrics.mean_absolute_error(y_test, predictions))\n",
    "print('MSE:', metrics.mean_squared_error(y_test, predictions))\n",
    "print('RMSE:', np.sqrt(metrics.mean_squared_error(y_test, predictions)))"
   ]
  },
  {
   "cell_type": "markdown",
   "metadata": {},
   "source": []
  },
  {
   "cell_type": "code",
   "execution_count": 36,
   "metadata": {},
   "outputs": [],
   "source": [
    "from sklearn.linear_model import LogisticRegression\n",
    "from sklearn.metrics import accuracy_score, f1_score, precision_score, recall_score,\\\n",
    "                            roc_auc_score, roc_curve, precision_recall_curve, confusion_matrix\n",
    "                            \n",
    "from sklearn.metrics import r2_score, mean_absolute_error, mean_squared_error\n",
    "from sklearn.linear_model import LinearRegression"
   ]
  },
  {
   "cell_type": "code",
   "execution_count": null,
   "metadata": {},
   "outputs": [],
   "source": [
    "### NO EJECUTAR ###\n",
    "\n",
    "# Metricas de regresión\n",
    "\n",
    "\n",
    "\n",
    "diamonds_df2 = pd.get_dummies(bitcoin_df)\n",
    "\n",
    "lr = LinearRegression()\n",
    "lr.fit(X, y)\n",
    "\n",
    "\n",
    "print(\"Score del modelo (R^2):\", round(lr.score(X, y), 4))\n",
    "print(\"R^2 score:\", round(r2_score(predictions, y), 4))\n",
    "print(\"MAE score:\", round(mean_absolute_error(predictions, y), 4))\n",
    "print(\"MSE score:\", round(mean_squared_error(predictions, y), 4))\n",
    "print(\"RMSE score:\", round(np.sqrt(mean_squared_error(predictions, y)), 4))\n",
    "\n",
    "def mean_absolute_percentage_error(y_pred, y_true): \n",
    "    y_true, y_pred = np.array(y_true), np.array(y_pred)\n",
    "    return np.mean(np.abs((y_true - y_pred) / y_true)) * 100\n",
    "\n",
    "\n",
    "print(\"MAPE score:\", round(mean_absolute_percentage_error(predictions, y), 4))"
   ]
  },
  {
   "cell_type": "code",
   "execution_count": 37,
   "metadata": {},
   "outputs": [],
   "source": [
    "# Load libraries\n",
    "import numpy as np\n",
    "import pickle\n",
    "from sklearn import datasets\n",
    "from sklearn.linear_model import LogisticRegression\n",
    "from sklearn.ensemble import RandomForestClassifier\n",
    "from sklearn.model_selection import GridSearchCV\n",
    "from sklearn.pipeline import Pipeline\n",
    "from sklearn.model_selection import RepeatedKFold\n",
    "from sklearn.model_selection import train_test_split \n",
    "from sklearn.preprocessing import StandardScaler\n",
    "from sklearn.impute import SimpleImputer\n",
    "from sklearn.pipeline import Pipeline\n",
    "from sklearn.model_selection import GridSearchCV\n",
    "from sklearn.feature_selection import SelectKBest\n",
    "from sklearn.model_selection import GridSearchCV\n",
    "from sklearn.metrics import accuracy_score\n",
    "\n",
    "import pandas as pd\n",
    "import numpy as np\n",
    "\n",
    "from sklearn.svm import SVC\n",
    "from sklearn.linear_model import LogisticRegression\n",
    "from sklearn.ensemble import RandomForestClassifier\n",
    "# Set random seed\n",
    "np.random.seed(42)"
   ]
  },
  {
   "cell_type": "code",
   "execution_count": 38,
   "metadata": {},
   "outputs": [],
   "source": [
    "def my_function(df):\n",
    "    df['columna1'] = SimpleImputer(strategy='mean')\n",
    "    df['columna2'] = SimpleImputer(strategy='median')\n",
    "    return df"
   ]
  },
  {
   "cell_type": "code",
   "execution_count": 39,
   "metadata": {},
   "outputs": [],
   "source": [
    "reg_log = Pipeline(steps = [\n",
    "    (\"imputer\", SimpleImputer()),\n",
    "    (\"scaler\", StandardScaler()),\n",
    "    (\"reglog\", LogisticRegression())\n",
    "])\n",
    "reg_log_param = {\n",
    "    \"imputer__strategy\": ['mean', 'median'],\n",
    "    \"reglog__penalty\": ['l1', 'l2'],\n",
    "    \"reglog__C\": np.logspace(0, 4, 10)\n",
    "}"
   ]
  },
  {
   "cell_type": "code",
   "execution_count": 40,
   "metadata": {},
   "outputs": [],
   "source": [
    "def preprocessing(df):\n",
    "    df = imputacion(df)\n",
    "    df = estandarizar(df)\n",
    "    modelo.fit(df)\n",
    "    return model"
   ]
  },
  {
   "cell_type": "code",
   "execution_count": 41,
   "metadata": {},
   "outputs": [
    {
     "data": {
      "text/html": [
       "<div>\n",
       "<style scoped>\n",
       "    .dataframe tbody tr th:only-of-type {\n",
       "        vertical-align: middle;\n",
       "    }\n",
       "\n",
       "    .dataframe tbody tr th {\n",
       "        vertical-align: top;\n",
       "    }\n",
       "\n",
       "    .dataframe thead th {\n",
       "        text-align: right;\n",
       "    }\n",
       "</style>\n",
       "<table border=\"1\" class=\"dataframe\">\n",
       "  <thead>\n",
       "    <tr style=\"text-align: right;\">\n",
       "      <th></th>\n",
       "      <th>Open</th>\n",
       "      <th>High</th>\n",
       "      <th>Low</th>\n",
       "      <th>Close</th>\n",
       "      <th>Volume</th>\n",
       "    </tr>\n",
       "    <tr>\n",
       "      <th>Date</th>\n",
       "      <th></th>\n",
       "      <th></th>\n",
       "      <th></th>\n",
       "      <th></th>\n",
       "      <th></th>\n",
       "    </tr>\n",
       "  </thead>\n",
       "  <tbody>\n",
       "    <tr>\n",
       "      <th>2018-12-31</th>\n",
       "      <td>3866.839111</td>\n",
       "      <td>3868.742920</td>\n",
       "      <td>3725.867432</td>\n",
       "      <td>3742.700439</td>\n",
       "      <td>4.661841e+09</td>\n",
       "    </tr>\n",
       "    <tr>\n",
       "      <th>2019-01-01</th>\n",
       "      <td>3746.713379</td>\n",
       "      <td>3850.913818</td>\n",
       "      <td>3707.231201</td>\n",
       "      <td>3843.520020</td>\n",
       "      <td>4.324201e+09</td>\n",
       "    </tr>\n",
       "    <tr>\n",
       "      <th>2019-01-02</th>\n",
       "      <td>3849.216309</td>\n",
       "      <td>3947.981201</td>\n",
       "      <td>3817.409424</td>\n",
       "      <td>3943.409424</td>\n",
       "      <td>5.244857e+09</td>\n",
       "    </tr>\n",
       "    <tr>\n",
       "      <th>2019-01-03</th>\n",
       "      <td>3931.048584</td>\n",
       "      <td>3935.685059</td>\n",
       "      <td>3826.222900</td>\n",
       "      <td>3836.741211</td>\n",
       "      <td>4.530215e+09</td>\n",
       "    </tr>\n",
       "    <tr>\n",
       "      <th>2019-01-04</th>\n",
       "      <td>3832.040039</td>\n",
       "      <td>3865.934570</td>\n",
       "      <td>3783.853760</td>\n",
       "      <td>3857.717529</td>\n",
       "      <td>4.847965e+09</td>\n",
       "    </tr>\n",
       "    <tr>\n",
       "      <th>...</th>\n",
       "      <td>...</td>\n",
       "      <td>...</td>\n",
       "      <td>...</td>\n",
       "      <td>...</td>\n",
       "      <td>...</td>\n",
       "    </tr>\n",
       "    <tr>\n",
       "      <th>2022-02-24</th>\n",
       "      <td>37278.566406</td>\n",
       "      <td>38968.839844</td>\n",
       "      <td>34459.218750</td>\n",
       "      <td>38332.609375</td>\n",
       "      <td>4.638380e+10</td>\n",
       "    </tr>\n",
       "    <tr>\n",
       "      <th>2022-02-25</th>\n",
       "      <td>38333.746094</td>\n",
       "      <td>39630.324219</td>\n",
       "      <td>38111.343750</td>\n",
       "      <td>39214.218750</td>\n",
       "      <td>2.654560e+10</td>\n",
       "    </tr>\n",
       "    <tr>\n",
       "      <th>2022-02-26</th>\n",
       "      <td>39213.082031</td>\n",
       "      <td>40005.347656</td>\n",
       "      <td>38702.535156</td>\n",
       "      <td>39105.148438</td>\n",
       "      <td>1.746755e+10</td>\n",
       "    </tr>\n",
       "    <tr>\n",
       "      <th>2022-02-27</th>\n",
       "      <td>39098.699219</td>\n",
       "      <td>39778.941406</td>\n",
       "      <td>37268.976562</td>\n",
       "      <td>37709.785156</td>\n",
       "      <td>2.345013e+10</td>\n",
       "    </tr>\n",
       "    <tr>\n",
       "      <th>2022-02-28</th>\n",
       "      <td>37706.000000</td>\n",
       "      <td>43760.457031</td>\n",
       "      <td>37518.214844</td>\n",
       "      <td>43193.234375</td>\n",
       "      <td>3.569001e+10</td>\n",
       "    </tr>\n",
       "  </tbody>\n",
       "</table>\n",
       "<p>1156 rows × 5 columns</p>\n",
       "</div>"
      ],
      "text/plain": [
       "                    Open          High           Low         Close  \\\n",
       "Date                                                                 \n",
       "2018-12-31   3866.839111   3868.742920   3725.867432   3742.700439   \n",
       "2019-01-01   3746.713379   3850.913818   3707.231201   3843.520020   \n",
       "2019-01-02   3849.216309   3947.981201   3817.409424   3943.409424   \n",
       "2019-01-03   3931.048584   3935.685059   3826.222900   3836.741211   \n",
       "2019-01-04   3832.040039   3865.934570   3783.853760   3857.717529   \n",
       "...                  ...           ...           ...           ...   \n",
       "2022-02-24  37278.566406  38968.839844  34459.218750  38332.609375   \n",
       "2022-02-25  38333.746094  39630.324219  38111.343750  39214.218750   \n",
       "2022-02-26  39213.082031  40005.347656  38702.535156  39105.148438   \n",
       "2022-02-27  39098.699219  39778.941406  37268.976562  37709.785156   \n",
       "2022-02-28  37706.000000  43760.457031  37518.214844  43193.234375   \n",
       "\n",
       "                  Volume  \n",
       "Date                      \n",
       "2018-12-31  4.661841e+09  \n",
       "2019-01-01  4.324201e+09  \n",
       "2019-01-02  5.244857e+09  \n",
       "2019-01-03  4.530215e+09  \n",
       "2019-01-04  4.847965e+09  \n",
       "...                  ...  \n",
       "2022-02-24  4.638380e+10  \n",
       "2022-02-25  2.654560e+10  \n",
       "2022-02-26  1.746755e+10  \n",
       "2022-02-27  2.345013e+10  \n",
       "2022-02-28  3.569001e+10  \n",
       "\n",
       "[1156 rows x 5 columns]"
      ]
     },
     "execution_count": 41,
     "metadata": {},
     "output_type": "execute_result"
    }
   ],
   "source": [
    "bitcoin_df"
   ]
  },
  {
   "cell_type": "code",
   "execution_count": 42,
   "metadata": {},
   "outputs": [
    {
     "data": {
      "text/plain": [
       "LogisticRegression(C=1, solver='liblinear')"
      ]
     },
     "execution_count": 42,
     "metadata": {},
     "output_type": "execute_result"
    }
   ],
   "source": [
    "reg_log = Pipeline(steps = [\n",
    "    (\"imputer\", SimpleImputer()),\n",
    "    (\"scaler\", StandardScaler()),\n",
    "    # (\"funcion\", my_function())\n",
    "    (\"reglog\", LogisticRegression())\n",
    "])\n",
    "\n",
    "rand_forest = RandomForestClassifier()\n",
    "\n",
    "svm = Pipeline(steps=[\n",
    "    (\"scaler\", StandardScaler()),\n",
    "    (\"selectkbest\", SelectKBest()),\n",
    "    (\"svm\", SVC())\n",
    "])\n",
    "\n",
    "\n",
    "reg_log_param = {\n",
    "    \"imputer__strategy\": ['mean', 'median'],\n",
    "    \"reglog__penalty\": ['l1', 'l2'],\n",
    "    \"reglog__C\": np.logspace(0, 4, 10)\n",
    "}\n",
    "rand_forest_param = {\n",
    "    \"n_estimators\": [10, 100, 1000],\n",
    "    \"max_features\": [1,2,3]\n",
    "}\n",
    "svm_param = {\n",
    "    'selectkbest__k': [2, 3, 4],\n",
    "    'svm__kernel': ['linear', 'rbf', 'sigmoid', 'poly'],\n",
    "    'svm__C': [0.001, 0.1, 0.5, 1, 5, 10, 100],\n",
    "    'svm__degree': [1,2,3,4],\n",
    "    'svm__gamma': ['scale', 'auto']\n",
    "}\n",
    "\n",
    "\n",
    "gs_reg_log = GridSearchCV(reg_log,\n",
    "                         reg_log_param,\n",
    "                         cv = 10,\n",
    "                         scoring = 'accuracy',\n",
    "                         verbose = 1,\n",
    "                         n_jobs = -1)\n",
    "\n",
    "gs_rand_forest = GridSearchCV(rand_forest,\n",
    "                         rand_forest_param,\n",
    "                         cv = 10,\n",
    "                         scoring = 'accuracy',\n",
    "                         verbose = 1,\n",
    "                         n_jobs = -1)\n",
    "\n",
    "gs_svm = GridSearchCV(svm,\n",
    "                         svm_param,\n",
    "                         cv = 10,\n",
    "                         scoring = 'accuracy',\n",
    "                         verbose = 1,\n",
    "                         n_jobs = -1)\n",
    "\n",
    "grids = {\"gs_reg_log\": gs_reg_log,\n",
    "        \"gs_rand_forest\": gs_rand_forest,\n",
    "        \"gs_svm\": gs_svm}\n",
    "\n",
    "LogisticRegression(C=1, penalty='l2', solver='liblinear')"
   ]
  },
  {
   "cell_type": "code",
   "execution_count": 43,
   "metadata": {},
   "outputs": [],
   "source": [
    "X_train, X_test, y_train, y_test = train_test_split(X,\n",
    "                                                    y,\n",
    "                                                    test_size=0.3,\n",
    "                                                    random_state=42)\n"
   ]
  },
  {
   "cell_type": "code",
   "execution_count": 44,
   "metadata": {},
   "outputs": [
    {
     "name": "stdout",
     "output_type": "stream",
     "text": [
      "Fitting 10 folds for each of 40 candidates, totalling 400 fits\n"
     ]
    },
    {
     "name": "stderr",
     "output_type": "stream",
     "text": [
      "C:\\Users\\david\\AppData\\Local\\Programs\\Python\\Python37\\lib\\site-packages\\sklearn\\model_selection\\_validation.py:372: FitFailedWarning: \n",
      "400 fits failed out of a total of 400.\n",
      "The score on these train-test partitions for these parameters will be set to nan.\n",
      "If these failures are not expected, you can try to debug them by setting error_score='raise'.\n",
      "\n",
      "Below are more details about the failures:\n",
      "--------------------------------------------------------------------------------\n",
      "200 fits failed with the following error:\n",
      "Traceback (most recent call last):\n",
      "  File \"C:\\Users\\david\\AppData\\Local\\Programs\\Python\\Python37\\lib\\site-packages\\sklearn\\model_selection\\_validation.py\", line 680, in _fit_and_score\n",
      "    estimator.fit(X_train, y_train, **fit_params)\n",
      "  File \"C:\\Users\\david\\AppData\\Local\\Programs\\Python\\Python37\\lib\\site-packages\\sklearn\\pipeline.py\", line 394, in fit\n",
      "    self._final_estimator.fit(Xt, y, **fit_params_last_step)\n",
      "  File \"C:\\Users\\david\\AppData\\Local\\Programs\\Python\\Python37\\lib\\site-packages\\sklearn\\linear_model\\_logistic.py\", line 1461, in fit\n",
      "    solver = _check_solver(self.solver, self.penalty, self.dual)\n",
      "  File \"C:\\Users\\david\\AppData\\Local\\Programs\\Python\\Python37\\lib\\site-packages\\sklearn\\linear_model\\_logistic.py\", line 449, in _check_solver\n",
      "    % (solver, penalty)\n",
      "ValueError: Solver lbfgs supports only 'l2' or 'none' penalties, got l1 penalty.\n",
      "\n",
      "--------------------------------------------------------------------------------\n",
      "200 fits failed with the following error:\n",
      "Traceback (most recent call last):\n",
      "  File \"C:\\Users\\david\\AppData\\Local\\Programs\\Python\\Python37\\lib\\site-packages\\sklearn\\model_selection\\_validation.py\", line 680, in _fit_and_score\n",
      "    estimator.fit(X_train, y_train, **fit_params)\n",
      "  File \"C:\\Users\\david\\AppData\\Local\\Programs\\Python\\Python37\\lib\\site-packages\\sklearn\\pipeline.py\", line 394, in fit\n",
      "    self._final_estimator.fit(Xt, y, **fit_params_last_step)\n",
      "  File \"C:\\Users\\david\\AppData\\Local\\Programs\\Python\\Python37\\lib\\site-packages\\sklearn\\linear_model\\_logistic.py\", line 1516, in fit\n",
      "    check_classification_targets(y)\n",
      "  File \"C:\\Users\\david\\AppData\\Local\\Programs\\Python\\Python37\\lib\\site-packages\\sklearn\\utils\\multiclass.py\", line 197, in check_classification_targets\n",
      "    raise ValueError(\"Unknown label type: %r\" % y_type)\n",
      "ValueError: Unknown label type: 'continuous'\n",
      "\n",
      "  warnings.warn(some_fits_failed_message, FitFailedWarning)\n",
      "C:\\Users\\david\\AppData\\Local\\Programs\\Python\\Python37\\lib\\site-packages\\sklearn\\model_selection\\_search.py:972: UserWarning: One or more of the test scores are non-finite: [nan nan nan nan nan nan nan nan nan nan nan nan nan nan nan nan nan nan\n",
      " nan nan nan nan nan nan nan nan nan nan nan nan nan nan nan nan nan nan\n",
      " nan nan nan nan]\n",
      "  category=UserWarning,\n"
     ]
    },
    {
     "ename": "ValueError",
     "evalue": "Solver lbfgs supports only 'l2' or 'none' penalties, got l1 penalty.",
     "output_type": "error",
     "traceback": [
      "\u001b[1;31m---------------------------------------------------------------------------\u001b[0m",
      "\u001b[1;31mValueError\u001b[0m                                Traceback (most recent call last)",
      "\u001b[1;32m~\\AppData\\Local\\Temp\\ipykernel_14836\\1722416791.py\u001b[0m in \u001b[0;36m<module>\u001b[1;34m\u001b[0m\n\u001b[0;32m      1\u001b[0m \u001b[1;32mfor\u001b[0m \u001b[0mnombre\u001b[0m\u001b[1;33m,\u001b[0m \u001b[0mgrid_search\u001b[0m \u001b[1;32min\u001b[0m \u001b[0mgrids\u001b[0m\u001b[1;33m.\u001b[0m\u001b[0mitems\u001b[0m\u001b[1;33m(\u001b[0m\u001b[1;33m)\u001b[0m\u001b[1;33m:\u001b[0m\u001b[1;33m\u001b[0m\u001b[1;33m\u001b[0m\u001b[0m\n\u001b[1;32m----> 2\u001b[1;33m     \u001b[0mgrid_search\u001b[0m\u001b[1;33m.\u001b[0m\u001b[0mfit\u001b[0m\u001b[1;33m(\u001b[0m\u001b[0mX_train\u001b[0m\u001b[1;33m,\u001b[0m \u001b[0my_train\u001b[0m\u001b[1;33m)\u001b[0m\u001b[1;33m\u001b[0m\u001b[1;33m\u001b[0m\u001b[0m\n\u001b[0m",
      "\u001b[1;32m~\\AppData\\Local\\Programs\\Python\\Python37\\lib\\site-packages\\sklearn\\model_selection\\_search.py\u001b[0m in \u001b[0;36mfit\u001b[1;34m(self, X, y, groups, **fit_params)\u001b[0m\n\u001b[0;32m    924\u001b[0m             \u001b[0mrefit_start_time\u001b[0m \u001b[1;33m=\u001b[0m \u001b[0mtime\u001b[0m\u001b[1;33m.\u001b[0m\u001b[0mtime\u001b[0m\u001b[1;33m(\u001b[0m\u001b[1;33m)\u001b[0m\u001b[1;33m\u001b[0m\u001b[1;33m\u001b[0m\u001b[0m\n\u001b[0;32m    925\u001b[0m             \u001b[1;32mif\u001b[0m \u001b[0my\u001b[0m \u001b[1;32mis\u001b[0m \u001b[1;32mnot\u001b[0m \u001b[1;32mNone\u001b[0m\u001b[1;33m:\u001b[0m\u001b[1;33m\u001b[0m\u001b[1;33m\u001b[0m\u001b[0m\n\u001b[1;32m--> 926\u001b[1;33m                 \u001b[0mself\u001b[0m\u001b[1;33m.\u001b[0m\u001b[0mbest_estimator_\u001b[0m\u001b[1;33m.\u001b[0m\u001b[0mfit\u001b[0m\u001b[1;33m(\u001b[0m\u001b[0mX\u001b[0m\u001b[1;33m,\u001b[0m \u001b[0my\u001b[0m\u001b[1;33m,\u001b[0m \u001b[1;33m**\u001b[0m\u001b[0mfit_params\u001b[0m\u001b[1;33m)\u001b[0m\u001b[1;33m\u001b[0m\u001b[1;33m\u001b[0m\u001b[0m\n\u001b[0m\u001b[0;32m    927\u001b[0m             \u001b[1;32melse\u001b[0m\u001b[1;33m:\u001b[0m\u001b[1;33m\u001b[0m\u001b[1;33m\u001b[0m\u001b[0m\n\u001b[0;32m    928\u001b[0m                 \u001b[0mself\u001b[0m\u001b[1;33m.\u001b[0m\u001b[0mbest_estimator_\u001b[0m\u001b[1;33m.\u001b[0m\u001b[0mfit\u001b[0m\u001b[1;33m(\u001b[0m\u001b[0mX\u001b[0m\u001b[1;33m,\u001b[0m \u001b[1;33m**\u001b[0m\u001b[0mfit_params\u001b[0m\u001b[1;33m)\u001b[0m\u001b[1;33m\u001b[0m\u001b[1;33m\u001b[0m\u001b[0m\n",
      "\u001b[1;32m~\\AppData\\Local\\Programs\\Python\\Python37\\lib\\site-packages\\sklearn\\pipeline.py\u001b[0m in \u001b[0;36mfit\u001b[1;34m(self, X, y, **fit_params)\u001b[0m\n\u001b[0;32m    392\u001b[0m             \u001b[1;32mif\u001b[0m \u001b[0mself\u001b[0m\u001b[1;33m.\u001b[0m\u001b[0m_final_estimator\u001b[0m \u001b[1;33m!=\u001b[0m \u001b[1;34m\"passthrough\"\u001b[0m\u001b[1;33m:\u001b[0m\u001b[1;33m\u001b[0m\u001b[1;33m\u001b[0m\u001b[0m\n\u001b[0;32m    393\u001b[0m                 \u001b[0mfit_params_last_step\u001b[0m \u001b[1;33m=\u001b[0m \u001b[0mfit_params_steps\u001b[0m\u001b[1;33m[\u001b[0m\u001b[0mself\u001b[0m\u001b[1;33m.\u001b[0m\u001b[0msteps\u001b[0m\u001b[1;33m[\u001b[0m\u001b[1;33m-\u001b[0m\u001b[1;36m1\u001b[0m\u001b[1;33m]\u001b[0m\u001b[1;33m[\u001b[0m\u001b[1;36m0\u001b[0m\u001b[1;33m]\u001b[0m\u001b[1;33m]\u001b[0m\u001b[1;33m\u001b[0m\u001b[1;33m\u001b[0m\u001b[0m\n\u001b[1;32m--> 394\u001b[1;33m                 \u001b[0mself\u001b[0m\u001b[1;33m.\u001b[0m\u001b[0m_final_estimator\u001b[0m\u001b[1;33m.\u001b[0m\u001b[0mfit\u001b[0m\u001b[1;33m(\u001b[0m\u001b[0mXt\u001b[0m\u001b[1;33m,\u001b[0m \u001b[0my\u001b[0m\u001b[1;33m,\u001b[0m \u001b[1;33m**\u001b[0m\u001b[0mfit_params_last_step\u001b[0m\u001b[1;33m)\u001b[0m\u001b[1;33m\u001b[0m\u001b[1;33m\u001b[0m\u001b[0m\n\u001b[0m\u001b[0;32m    395\u001b[0m \u001b[1;33m\u001b[0m\u001b[0m\n\u001b[0;32m    396\u001b[0m         \u001b[1;32mreturn\u001b[0m \u001b[0mself\u001b[0m\u001b[1;33m\u001b[0m\u001b[1;33m\u001b[0m\u001b[0m\n",
      "\u001b[1;32m~\\AppData\\Local\\Programs\\Python\\Python37\\lib\\site-packages\\sklearn\\linear_model\\_logistic.py\u001b[0m in \u001b[0;36mfit\u001b[1;34m(self, X, y, sample_weight)\u001b[0m\n\u001b[0;32m   1459\u001b[0m         \u001b[0mThe\u001b[0m \u001b[0mSAGA\u001b[0m \u001b[0msolver\u001b[0m \u001b[0msupports\u001b[0m \u001b[0mboth\u001b[0m \u001b[0mfloat64\u001b[0m \u001b[1;32mand\u001b[0m \u001b[0mfloat32\u001b[0m \u001b[0mbit\u001b[0m \u001b[0marrays\u001b[0m\u001b[1;33m.\u001b[0m\u001b[1;33m\u001b[0m\u001b[1;33m\u001b[0m\u001b[0m\n\u001b[0;32m   1460\u001b[0m         \"\"\"\n\u001b[1;32m-> 1461\u001b[1;33m         \u001b[0msolver\u001b[0m \u001b[1;33m=\u001b[0m \u001b[0m_check_solver\u001b[0m\u001b[1;33m(\u001b[0m\u001b[0mself\u001b[0m\u001b[1;33m.\u001b[0m\u001b[0msolver\u001b[0m\u001b[1;33m,\u001b[0m \u001b[0mself\u001b[0m\u001b[1;33m.\u001b[0m\u001b[0mpenalty\u001b[0m\u001b[1;33m,\u001b[0m \u001b[0mself\u001b[0m\u001b[1;33m.\u001b[0m\u001b[0mdual\u001b[0m\u001b[1;33m)\u001b[0m\u001b[1;33m\u001b[0m\u001b[1;33m\u001b[0m\u001b[0m\n\u001b[0m\u001b[0;32m   1462\u001b[0m \u001b[1;33m\u001b[0m\u001b[0m\n\u001b[0;32m   1463\u001b[0m         \u001b[1;32mif\u001b[0m \u001b[1;32mnot\u001b[0m \u001b[0misinstance\u001b[0m\u001b[1;33m(\u001b[0m\u001b[0mself\u001b[0m\u001b[1;33m.\u001b[0m\u001b[0mC\u001b[0m\u001b[1;33m,\u001b[0m \u001b[0mnumbers\u001b[0m\u001b[1;33m.\u001b[0m\u001b[0mNumber\u001b[0m\u001b[1;33m)\u001b[0m \u001b[1;32mor\u001b[0m \u001b[0mself\u001b[0m\u001b[1;33m.\u001b[0m\u001b[0mC\u001b[0m \u001b[1;33m<\u001b[0m \u001b[1;36m0\u001b[0m\u001b[1;33m:\u001b[0m\u001b[1;33m\u001b[0m\u001b[1;33m\u001b[0m\u001b[0m\n",
      "\u001b[1;32m~\\AppData\\Local\\Programs\\Python\\Python37\\lib\\site-packages\\sklearn\\linear_model\\_logistic.py\u001b[0m in \u001b[0;36m_check_solver\u001b[1;34m(solver, penalty, dual)\u001b[0m\n\u001b[0;32m    447\u001b[0m         raise ValueError(\n\u001b[0;32m    448\u001b[0m             \u001b[1;34m\"Solver %s supports only 'l2' or 'none' penalties, got %s penalty.\"\u001b[0m\u001b[1;33m\u001b[0m\u001b[1;33m\u001b[0m\u001b[0m\n\u001b[1;32m--> 449\u001b[1;33m             \u001b[1;33m%\u001b[0m \u001b[1;33m(\u001b[0m\u001b[0msolver\u001b[0m\u001b[1;33m,\u001b[0m \u001b[0mpenalty\u001b[0m\u001b[1;33m)\u001b[0m\u001b[1;33m\u001b[0m\u001b[1;33m\u001b[0m\u001b[0m\n\u001b[0m\u001b[0;32m    450\u001b[0m         )\n\u001b[0;32m    451\u001b[0m     \u001b[1;32mif\u001b[0m \u001b[0msolver\u001b[0m \u001b[1;33m!=\u001b[0m \u001b[1;34m\"liblinear\"\u001b[0m \u001b[1;32mand\u001b[0m \u001b[0mdual\u001b[0m\u001b[1;33m:\u001b[0m\u001b[1;33m\u001b[0m\u001b[1;33m\u001b[0m\u001b[0m\n",
      "\u001b[1;31mValueError\u001b[0m: Solver lbfgs supports only 'l2' or 'none' penalties, got l1 penalty."
     ]
    }
   ],
   "source": [
    "for nombre, grid_search in grids.items():\n",
    "    grid_search.fit(X_train, y_train)"
   ]
  },
  {
   "cell_type": "code",
   "execution_count": 45,
   "metadata": {},
   "outputs": [
    {
     "name": "stdout",
     "output_type": "stream",
     "text": [
      "nan\n",
      "{'imputer__strategy': 'mean', 'reglog__C': 1.0, 'reglog__penalty': 'l1'}\n",
      "Pipeline(steps=[('imputer', SimpleImputer()), ('scaler', StandardScaler()),\n",
      "                ('reglog', LogisticRegression(penalty='l1'))])\n",
      "LogisticRegression(penalty='l1')\n"
     ]
    }
   ],
   "source": [
    "print(gs_reg_log.best_score_)\n",
    "print(gs_reg_log.best_params_)\n",
    "print(gs_reg_log.best_estimator_)\n",
    "print(gs_reg_log.best_estimator_['reglog'])"
   ]
  },
  {
   "cell_type": "markdown",
   "metadata": {},
   "source": [
    "## Lo hacemos de otra manera"
   ]
  },
  {
   "cell_type": "code",
   "execution_count": 46,
   "metadata": {},
   "outputs": [],
   "source": [
    "from sklearn import metrics, tree\n",
    "from sklearn.ensemble import RandomForestRegressor\n",
    "from sklearn.model_selection import train_test_split, RandomizedSearchCV\n"
   ]
  },
  {
   "cell_type": "code",
   "execution_count": 47,
   "metadata": {},
   "outputs": [],
   "source": [
    "def rmse(x, y): return math.sqrt(((x-y)**2).mean())\n",
    "def print_score(m):\n",
    "    res = [rmse(m.predict(X_train), y_train),\n",
    "           rmse(m.predict(X_test), y_test),\n",
    "                m.score(X_train, y_train),\n",
    "                m.score(X_test, y_test)]\n",
    "    print(f\"RMSE Training Set: {res[0]} \\nRMSE validation set: {res[1]} \\nR2 validation set: {res[3]}\")\n"
   ]
  },
  {
   "cell_type": "code",
   "execution_count": 48,
   "metadata": {},
   "outputs": [
    {
     "data": {
      "text/plain": [
       "RandomForestRegressor(random_state=42)"
      ]
     },
     "execution_count": 48,
     "metadata": {},
     "output_type": "execute_result"
    }
   ],
   "source": [
    "modelo_defecto  = RandomForestRegressor(random_state = 42)\n",
    "modelo_defecto.fit(X_train, y_train)"
   ]
  },
  {
   "cell_type": "code",
   "execution_count": 49,
   "metadata": {},
   "outputs": [
    {
     "name": "stdout",
     "output_type": "stream",
     "text": [
      "RMSE Training Set: 264.5020863698774 \n",
      "RMSE validation set: 665.0443414988983 \n",
      "R2 validation set: 0.9987729039926727\n"
     ]
    }
   ],
   "source": [
    "print_score(modelo_defecto)"
   ]
  },
  {
   "cell_type": "code",
   "execution_count": 50,
   "metadata": {},
   "outputs": [
    {
     "data": {
      "text/plain": [
       "RandomForestRegressor(min_samples_leaf=30, n_estimators=40, random_state=42)"
      ]
     },
     "execution_count": 50,
     "metadata": {},
     "output_type": "execute_result"
    }
   ],
   "source": [
    "modelo_defecto_modificado = RandomForestRegressor(n_estimators = 40,\n",
    "                                                  min_samples_leaf = 30,\n",
    "                                                  random_state = 42)\n",
    "\n",
    "modelo_defecto_modificado.fit(X_train, y_train)"
   ]
  },
  {
   "cell_type": "code",
   "execution_count": 51,
   "metadata": {},
   "outputs": [],
   "source": [
    "def reg_accuracy(y_true, y_pre):\n",
    "    return_var = []\n",
    "    from math import sqrt\n",
    "    rmse = sqrt(mean_squared_error(y_true, y_pre))\n",
    "    return_var.append(rmse)\n",
    "    print (\"RMSE: \", rmse)\n",
    "    r2 = r2_score(y_true, y_pre)\n",
    "    return_var.append(r2)\n",
    "    print(\"R2: \", r2)\n",
    "    mae = mean_absolute_error(y_true, y_pre)\n",
    "    return_var.append(mae)\n",
    "    print(\"MAE: \" , mae)\n",
    "\n",
    "    if 0 in y_true:\n",
    "        print(\"MAPE erróneo\")\n",
    "        return_var.append(0)\n",
    "\n",
    "    else:\n",
    "        mape = round(np.mean(np.abs((y_true - y_pre) / y_true))*100,4)\n",
    "        print('MAPE :', mape)\n",
    "        print('======================')\n",
    "        print('Model Accuracy(%) :', 100 - mape)\n",
    "        print('======================')\n",
    "        return_var.append(mape)\n",
    "        return_var.append(100-mape)\n",
    "    return return_var"
   ]
  },
  {
   "cell_type": "code",
   "execution_count": 52,
   "metadata": {},
   "outputs": [
    {
     "name": "stdout",
     "output_type": "stream",
     "text": [
      "Tree Size:  10\n",
      "RMSE:  688.8711634884592\n",
      "R2:  0.9986834015228692\n",
      "MAE:  396.2290786963031\n",
      "MAPE : 1.575\n",
      "======================\n",
      "Model Accuracy(%) : 98.425\n",
      "======================\n",
      "Tree Size:  20\n",
      "RMSE:  668.2771077142456\n",
      "R2:  0.9987609452229778\n",
      "MAE:  382.32223558233517\n",
      "MAPE : 1.5276\n",
      "======================\n",
      "Model Accuracy(%) : 98.4724\n",
      "======================\n",
      "Tree Size:  30\n",
      "RMSE:  651.4124687173261\n",
      "R2:  0.9988226936890245\n",
      "MAE:  371.706702844508\n",
      "MAPE : 1.4915\n",
      "======================\n",
      "Model Accuracy(%) : 98.5085\n",
      "======================\n",
      "Tree Size:  40\n",
      "RMSE:  661.0137958236804\n",
      "R2:  0.9987877327155729\n",
      "MAE:  373.27524433410815\n",
      "MAPE : 1.4935\n",
      "======================\n",
      "Model Accuracy(%) : 98.5065\n",
      "======================\n",
      "Tree Size:  50\n",
      "RMSE:  661.4863233074763\n",
      "R2:  0.9987859989110514\n",
      "MAE:  371.9407339556691\n",
      "MAPE : 1.4836\n",
      "======================\n",
      "Model Accuracy(%) : 98.5164\n",
      "======================\n",
      "Tree Size:  60\n",
      "RMSE:  661.4706718277198\n",
      "R2:  0.9987860563595216\n",
      "MAE:  369.98827510544254\n",
      "MAPE : 1.4751\n",
      "======================\n",
      "Model Accuracy(%) : 98.5249\n",
      "======================\n",
      "Tree Size:  70\n",
      "RMSE:  663.3344172460083\n",
      "R2:  0.9987792059597851\n",
      "MAE:  368.9416658793324\n",
      "MAPE : 1.4666\n",
      "======================\n",
      "Model Accuracy(%) : 98.5334\n",
      "======================\n",
      "Tree Size:  80\n",
      "RMSE:  665.8472011263497\n",
      "R2:  0.998769939436918\n",
      "MAE:  370.096299114832\n",
      "MAPE : 1.4647\n",
      "======================\n",
      "Model Accuracy(%) : 98.5353\n",
      "======================\n",
      "Tree Size:  90\n",
      "RMSE:  661.2807411673136\n",
      "R2:  0.9987867533882051\n",
      "MAE:  367.49154742629037\n",
      "MAPE : 1.4561\n",
      "======================\n",
      "Model Accuracy(%) : 98.5439\n",
      "======================\n",
      "Tree Size:  100\n",
      "RMSE:  665.0443414988983\n",
      "R2:  0.9987729039926727\n",
      "MAE:  369.0275905079252\n",
      "MAPE : 1.4587\n",
      "======================\n",
      "Model Accuracy(%) : 98.5413\n",
      "======================\n",
      "Tree Size:  110\n",
      "RMSE:  668.6833999067776\n",
      "R2:  0.9987594381496163\n",
      "MAE:  370.278737858849\n",
      "MAPE : 1.457\n",
      "======================\n",
      "Model Accuracy(%) : 98.543\n",
      "======================\n",
      "Tree Size:  120\n",
      "RMSE:  665.7570880282948\n",
      "R2:  0.9987702723573457\n",
      "MAE:  368.7438502477524\n",
      "MAPE : 1.456\n",
      "======================\n",
      "Model Accuracy(%) : 98.544\n",
      "======================\n",
      "Tree Size:  130\n",
      "RMSE:  662.9792968787731\n",
      "R2:  0.9987805127298558\n",
      "MAE:  368.3314661653891\n",
      "MAPE : 1.4558\n",
      "======================\n",
      "Model Accuracy(%) : 98.5442\n",
      "======================\n",
      "Tree Size:  140\n",
      "RMSE:  661.9457139234473\n",
      "R2:  0.9987843121207276\n",
      "MAE:  368.82046995009847\n",
      "MAPE : 1.4586\n",
      "======================\n",
      "Model Accuracy(%) : 98.5414\n",
      "======================\n",
      "Tree Size:  150\n",
      "RMSE:  661.9602455802177\n",
      "R2:  0.9987842587442874\n",
      "MAE:  368.3029830325784\n",
      "MAPE : 1.4567\n",
      "======================\n",
      "Model Accuracy(%) : 98.5433\n",
      "======================\n",
      "Tree Size:  160\n",
      "RMSE:  662.6769484970661\n",
      "R2:  0.9987816247583315\n",
      "MAE:  368.63312393320393\n",
      "MAPE : 1.4556\n",
      "======================\n",
      "Model Accuracy(%) : 98.5444\n",
      "======================\n",
      "Tree Size:  170\n",
      "RMSE:  662.6789080634135\n",
      "R2:  0.9987816175527371\n",
      "MAE:  369.03906775612126\n",
      "MAPE : 1.4563\n",
      "======================\n",
      "Model Accuracy(%) : 98.5437\n",
      "======================\n",
      "Tree Size:  180\n",
      "RMSE:  660.1834898286037\n",
      "R2:  0.9987907762847986\n",
      "MAE:  368.0621663567809\n",
      "MAPE : 1.4528\n",
      "======================\n",
      "Model Accuracy(%) : 98.5472\n",
      "======================\n",
      "Tree Size:  190\n",
      "RMSE:  658.5525929311667\n",
      "R2:  0.9987967433630568\n",
      "MAE:  368.18489079474665\n",
      "MAPE : 1.4527\n",
      "======================\n",
      "Model Accuracy(%) : 98.5473\n",
      "======================\n",
      "Tree Size:  200\n",
      "RMSE:  660.352700982206\n",
      "R2:  0.9987901563348447\n",
      "MAE:  368.1934444900206\n",
      "MAPE : 1.453\n",
      "======================\n",
      "Model Accuracy(%) : 98.547\n",
      "======================\n",
      "Tree Size:  210\n",
      "RMSE:  662.2602306812598\n",
      "R2:  0.9987831566028713\n",
      "MAE:  368.89953998907515\n",
      "MAPE : 1.4537\n",
      "======================\n",
      "Model Accuracy(%) : 98.5463\n",
      "======================\n",
      "Tree Size:  220\n",
      "RMSE:  663.8125769268976\n",
      "R2:  0.9987774453248358\n",
      "MAE:  370.35757506572673\n",
      "MAPE : 1.4585\n",
      "======================\n",
      "Model Accuracy(%) : 98.5415\n",
      "======================\n",
      "Tree Size:  230\n",
      "RMSE:  665.3616714009919\n",
      "R2:  0.9987717326808294\n",
      "MAE:  370.44827423382486\n",
      "MAPE : 1.4584\n",
      "======================\n",
      "Model Accuracy(%) : 98.5416\n",
      "======================\n",
      "Tree Size:  240\n",
      "RMSE:  664.6918412179139\n",
      "R2:  0.9987742044685222\n",
      "MAE:  370.3238518941185\n",
      "MAPE : 1.4591\n",
      "======================\n",
      "Model Accuracy(%) : 98.5409\n",
      "======================\n",
      "Tree Size:  250\n",
      "RMSE:  664.6122538416419\n",
      "R2:  0.9987744979940436\n",
      "MAE:  370.5421635502972\n",
      "MAPE : 1.4585\n",
      "======================\n",
      "Model Accuracy(%) : 98.5415\n",
      "======================\n",
      "Tree Size:  260\n",
      "RMSE:  664.8916372198884\n",
      "R2:  0.998773467447728\n",
      "MAE:  370.930556144875\n",
      "MAPE : 1.4596\n",
      "======================\n",
      "Model Accuracy(%) : 98.5404\n",
      "======================\n",
      "Tree Size:  270\n",
      "RMSE:  666.0033000189397\n",
      "R2:  0.9987693626271076\n",
      "MAE:  371.55322635914064\n",
      "MAPE : 1.461\n",
      "======================\n",
      "Model Accuracy(%) : 98.539\n",
      "======================\n",
      "Tree Size:  280\n",
      "RMSE:  666.6788031411988\n",
      "R2:  0.9987668649789241\n",
      "MAE:  371.94452819949856\n",
      "MAPE : 1.4617\n",
      "======================\n",
      "Model Accuracy(%) : 98.5383\n",
      "======================\n",
      "Tree Size:  290\n",
      "RMSE:  664.8103939103825\n",
      "R2:  0.9987737671701796\n",
      "MAE:  371.12783075510987\n",
      "MAPE : 1.4592\n",
      "======================\n",
      "Model Accuracy(%) : 98.5408\n",
      "======================\n",
      "Tree Size:  300\n",
      "RMSE:  665.5184642190475\n",
      "R2:  0.9987711537289788\n",
      "MAE:  371.3758962517261\n",
      "MAPE : 1.4604\n",
      "======================\n",
      "Model Accuracy(%) : 98.53960000000001\n",
      "======================\n",
      "Tree Size:  310\n",
      "RMSE:  666.0948464628974\n",
      "R2:  0.9987690242857864\n",
      "MAE:  371.7251525396618\n",
      "MAPE : 1.4611\n",
      "======================\n",
      "Model Accuracy(%) : 98.5389\n",
      "======================\n",
      "Tree Size:  320\n",
      "RMSE:  667.1800665243687\n",
      "R2:  0.9987650099392613\n",
      "MAE:  372.11435171561567\n",
      "MAPE : 1.462\n",
      "======================\n",
      "Model Accuracy(%) : 98.538\n",
      "======================\n",
      "Tree Size:  330\n",
      "RMSE:  667.637429273404\n",
      "R2:  0.9987633161474936\n",
      "MAE:  372.11283825981\n",
      "MAPE : 1.4616\n",
      "======================\n",
      "Model Accuracy(%) : 98.5384\n",
      "======================\n",
      "Tree Size:  340\n",
      "RMSE:  667.3244060352819\n",
      "R2:  0.9987644755193867\n",
      "MAE:  371.89062081786557\n",
      "MAPE : 1.4614\n",
      "======================\n",
      "Model Accuracy(%) : 98.5386\n",
      "======================\n",
      "Tree Size:  350\n",
      "RMSE:  667.517201774332\n",
      "R2:  0.9987637615090411\n",
      "MAE:  372.3583184389795\n",
      "MAPE : 1.4637\n",
      "======================\n",
      "Model Accuracy(%) : 98.5363\n",
      "======================\n",
      "Tree Size:  360\n",
      "RMSE:  667.1823464884212\n",
      "R2:  0.9987650014985483\n",
      "MAE:  372.11559539120657\n",
      "MAPE : 1.4631\n",
      "======================\n",
      "Model Accuracy(%) : 98.5369\n",
      "======================\n",
      "Tree Size:  370\n",
      "RMSE:  667.4820763461371\n",
      "R2:  0.9987638916098497\n",
      "MAE:  372.06381025304677\n",
      "MAPE : 1.4628\n",
      "======================\n",
      "Model Accuracy(%) : 98.5372\n",
      "======================\n",
      "Tree Size:  380\n",
      "RMSE:  667.9213865988874\n",
      "R2:  0.9987622639592786\n",
      "MAE:  372.38606471566965\n",
      "MAPE : 1.4634\n",
      "======================\n",
      "Model Accuracy(%) : 98.53659999999999\n",
      "======================\n",
      "Tree Size:  390\n",
      "RMSE:  667.0209505230629\n",
      "R2:  0.9987655989354185\n",
      "MAE:  371.94161320937707\n",
      "MAPE : 1.4629\n",
      "======================\n",
      "Model Accuracy(%) : 98.5371\n",
      "======================\n",
      "Tree Size:  400\n",
      "RMSE:  667.2248461067649\n",
      "R2:  0.9987648441543471\n",
      "MAE:  371.91296747301095\n",
      "MAPE : 1.4635\n",
      "======================\n",
      "Model Accuracy(%) : 98.5365\n",
      "======================\n",
      "Tree Size:  410\n",
      "RMSE:  667.1056888521244\n",
      "R2:  0.9987652852789201\n",
      "MAE:  371.56637949869474\n",
      "MAPE : 1.4624\n",
      "======================\n",
      "Model Accuracy(%) : 98.5376\n",
      "======================\n",
      "Tree Size:  420\n",
      "RMSE:  667.2883590573248\n",
      "R2:  0.9987646089948612\n",
      "MAE:  371.65985355515926\n",
      "MAPE : 1.4634\n",
      "======================\n",
      "Model Accuracy(%) : 98.53659999999999\n",
      "======================\n",
      "Tree Size:  430\n",
      "RMSE:  667.0758871925877\n",
      "R2:  0.9987653955934518\n",
      "MAE:  371.59468871014946\n",
      "MAPE : 1.4628\n",
      "======================\n",
      "Model Accuracy(%) : 98.5372\n",
      "======================\n",
      "Tree Size:  440\n",
      "RMSE:  667.2493200169364\n",
      "R2:  0.9987647535412718\n",
      "MAE:  371.6029050063986\n",
      "MAPE : 1.4633\n",
      "======================\n",
      "Model Accuracy(%) : 98.5367\n",
      "======================\n",
      "Tree Size:  450\n",
      "RMSE:  667.3090855421917\n",
      "R2:  0.9987645322492975\n",
      "MAE:  371.51977878029436\n",
      "MAPE : 1.4624\n",
      "======================\n",
      "Model Accuracy(%) : 98.5376\n",
      "======================\n",
      "Tree Size:  460\n",
      "RMSE:  666.9242220931416\n",
      "R2:  0.998765956924232\n",
      "MAE:  371.18792507724646\n",
      "MAPE : 1.4615\n",
      "======================\n",
      "Model Accuracy(%) : 98.5385\n",
      "======================\n",
      "Tree Size:  470\n",
      "RMSE:  667.75938817736\n",
      "R2:  0.9987628642903138\n",
      "MAE:  371.25500060896684\n",
      "MAPE : 1.4624\n",
      "======================\n",
      "Model Accuracy(%) : 98.5376\n",
      "======================\n",
      "Tree Size:  480\n",
      "RMSE:  669.0756427715336\n",
      "R2:  0.9987579823208881\n",
      "MAE:  371.8549296486274\n",
      "MAPE : 1.4639\n",
      "======================\n",
      "Model Accuracy(%) : 98.5361\n",
      "======================\n",
      "Tree Size:  490\n",
      "RMSE:  668.7875718271373\n",
      "R2:  0.9987590515936571\n",
      "MAE:  371.6665961133811\n",
      "MAPE : 1.4634\n",
      "======================\n",
      "Model Accuracy(%) : 98.53659999999999\n",
      "======================\n"
     ]
    }
   ],
   "source": [
    "random_tree = [i*10 for i in range(1,50)]\n",
    "rmse, r_sq, mae, mape = [], [], [], []\n",
    "for tree_size in random_tree:\n",
    "    print('Tree Size: ', tree_size)\n",
    "    model = RandomForestRegressor(random_state=42, n_estimators=int(tree_size)).fit(X_train, y_train)\n",
    "    estimation = model.predict(X_test)\n",
    "    result = reg_accuracy(y_test, estimation)\n",
    "    rmse.append(result[0])\n",
    "    r_sq.append(result[1])\n",
    "    mae.append(result[2])\n",
    "    mape.append(result[3])\n"
   ]
  },
  {
   "cell_type": "markdown",
   "metadata": {},
   "source": [
    "## A continuación vemos cual de todos los árboles estudiados y aquel que tiene un menor RMSE y un mayor R2 es aquel que tiene 30 estimadores junto con el de 190."
   ]
  },
  {
   "cell_type": "markdown",
   "metadata": {},
   "source": [
    "### Tree Size:  190 \n",
    "### RMSE:  658.5525929311667 \n",
    "### R2:  0.9987967433630568 \n",
    "### MAE:  368.18489079474665 \n",
    "### MAPE : 1.4527\n",
    "======================\n",
    "## Model Accuracy(%) : 98.5473"
   ]
  },
  {
   "cell_type": "markdown",
   "metadata": {},
   "source": [
    "### Tree Size:  30 \n",
    "### RMSE:  651.4124687173261\n",
    "### R2:  0.9988226936890245\n",
    "### MAE:  371.706702844508 \n",
    "### MAPE : 1.4915\n",
    "======================\n",
    "## Model Accuracy(%) :  98.5085"
   ]
  },
  {
   "cell_type": "markdown",
   "metadata": {},
   "source": [
    "## Veámos gráficamente el RMSE:"
   ]
  },
  {
   "cell_type": "code",
   "execution_count": 53,
   "metadata": {},
   "outputs": [
    {
     "data": {
      "text/plain": [
       "<AxesSubplot:title={'center':'RMSE ÍNDICE'}, xlabel='NÚMERO DE ÁRBOLES', ylabel='RMSE'>"
      ]
     },
     "execution_count": 53,
     "metadata": {},
     "output_type": "execute_result"
    },
    {
     "data": {
      "image/png": "[encoded data removed]",
      "text/plain": [
       "<Figure size 720x216 with 1 Axes>"
      ]
     },
     "metadata": {
      "needs_background": "light"
     },
     "output_type": "display_data"
    }
   ],
   "source": [
    "plt.figure(figsize=(10,3))\n",
    "plt.title('RMSE ÍNDICE')\n",
    "plt.xlabel('NÚMERO DE ÁRBOLES')\n",
    "plt.ylabel('RMSE')\n",
    "sns.lineplot(x = random_tree, y = rmse)"
   ]
  },
  {
   "cell_type": "markdown",
   "metadata": {},
   "source": [
    "## MAE:"
   ]
  },
  {
   "cell_type": "code",
   "execution_count": 54,
   "metadata": {},
   "outputs": [
    {
     "data": {
      "text/plain": [
       "<AxesSubplot:title={'center':'MAE ÍNDICE'}, xlabel='NÚMERO DE ÁRBOLES', ylabel='MAE'>"
      ]
     },
     "execution_count": 54,
     "metadata": {},
     "output_type": "execute_result"
    },
    {
     "data": {
      "image/png": "[encoded data removed]",
      "text/plain": [
       "<Figure size 720x216 with 1 Axes>"
      ]
     },
     "metadata": {
      "needs_background": "light"
     },
     "output_type": "display_data"
    }
   ],
   "source": [
    "plt.figure(figsize=(10,3))\n",
    "plt.title('MAE ÍNDICE')\n",
    "plt.xlabel('NÚMERO DE ÁRBOLES')\n",
    "plt.ylabel('MAE')\n",
    "sns.lineplot(x = random_tree, y = mae)"
   ]
  },
  {
   "cell_type": "markdown",
   "metadata": {},
   "source": [
    "## MAPE:"
   ]
  },
  {
   "cell_type": "code",
   "execution_count": 55,
   "metadata": {},
   "outputs": [
    {
     "data": {
      "text/plain": [
       "<AxesSubplot:title={'center':'MAPE ÍNDICE'}, xlabel='NÚMERO DE ÁRBOLES', ylabel='MAPE'>"
      ]
     },
     "execution_count": 55,
     "metadata": {},
     "output_type": "execute_result"
    },
    {
     "data": {
      "image/png": "[encoded data removed]",
      "text/plain": [
       "<Figure size 720x216 with 1 Axes>"
      ]
     },
     "metadata": {
      "needs_background": "light"
     },
     "output_type": "display_data"
    }
   ],
   "source": [
    "plt.figure(figsize=(10,3))\n",
    "plt.title('MAPE ÍNDICE')\n",
    "plt.xlabel('NÚMERO DE ÁRBOLES')\n",
    "plt.ylabel('MAPE')\n",
    "sns.lineplot(x = random_tree, y = mape)"
   ]
  },
  {
   "cell_type": "markdown",
   "metadata": {},
   "source": [
    "## r2 Square:\n"
   ]
  },
  {
   "cell_type": "code",
   "execution_count": 56,
   "metadata": {},
   "outputs": [
    {
     "data": {
      "text/plain": [
       "<AxesSubplot:title={'center':'R2 ÍNDICE'}, xlabel='NÚMERO DE ÁRBOLES', ylabel='r2'>"
      ]
     },
     "execution_count": 56,
     "metadata": {},
     "output_type": "execute_result"
    },
    {
     "data": {
      "image/png": "[encoded data removed]",
      "text/plain": [
       "<Figure size 720x216 with 1 Axes>"
      ]
     },
     "metadata": {
      "needs_background": "light"
     },
     "output_type": "display_data"
    }
   ],
   "source": [
    "plt.figure(figsize=(10,3))\n",
    "plt.title('R2 ÍNDICE')\n",
    "plt.xlabel('NÚMERO DE ÁRBOLES')\n",
    "plt.ylabel('r2')\n",
    "sns.lineplot(x = random_tree, y = r_sq)"
   ]
  },
  {
   "cell_type": "markdown",
   "metadata": {},
   "source": []
  },
  {
   "cell_type": "code",
   "execution_count": 57,
   "metadata": {},
   "outputs": [
    {
     "data": {
      "text/plain": [
       "DecisionTreeRegressor(max_depth=2, random_state=42)"
      ]
     },
     "execution_count": 57,
     "metadata": {},
     "output_type": "execute_result"
    }
   ],
   "source": [
    "from sklearn.tree import DecisionTreeRegressor\n",
    "\n",
    "tree_reg = DecisionTreeRegressor(max_depth=2, random_state=42)\n",
    "tree_reg.fit(X, y)"
   ]
  },
  {
   "cell_type": "code",
   "execution_count": 58,
   "metadata": {},
   "outputs": [
    {
     "name": "stdout",
     "output_type": "stream",
     "text": [
      "{'n_estimators': [10, 20, 30, 40, 50, 60, 70, 80, 90, 100, 110, 120, 130, 140, 150, 160, 170, 180, 190, 200, 210, 220, 230, 240, 250, 260, 270, 280, 290, 300, 310, 320, 330, 340, 350, 360, 370, 380, 390, 400, 410, 420, 430, 440, 450, 460, 470, 480, 490, 500], 'max_features': ['auto', 'sqrt', None], 'max_depth': [5, 6, 7, 8, 9, 10, 11, 12, 13, 14, 15, 16, 17, 18, 19, 20, 21, 22, 23, 24, 25, 26, 27, 28, 29, 30, 31, 32, 33, 34, 35, 36, 37, 38, 39, 40, 41, 42, 43, 44, 45, 46, 47, 48, 50, None], 'min_samples_split': [2, 4, 6, 8, 10], 'min_samples_leaf': [1, 2, 4, 6, 8, 10, 12, 14, 16, 20, 25, 30], 'bootstrap': [True]}\n"
     ]
    }
   ],
   "source": [
    "n_estimators = [int(x) for x in np.linspace(start = 10, stop = 500)]\n",
    "\n",
    "max_features = ['auto', 'sqrt', None]\n",
    "\n",
    "max_depth = [int(x) for x in np.linspace(5, 50, num = 45)]\n",
    "\n",
    "max_depth.append(None)\n",
    "\n",
    "min_samples_split = [2, 4, 6, 8, 10]\n",
    "\n",
    "min_samples_leaf = [1, 2, 4, 6, 8, 10, 12, 14, 16, 20, 25, 30]\n",
    "\n",
    "bootstrap = [True]\n",
    "\n",
    "random_grid = {'n_estimators': n_estimators,\n",
    "               'max_features': max_features,\n",
    "               'max_depth' : max_depth,\n",
    "               'min_samples_split' : min_samples_split,\n",
    "               'min_samples_leaf' :  min_samples_leaf,\n",
    "               'bootstrap' : bootstrap}\n",
    "\n",
    "print(random_grid)"
   ]
  },
  {
   "cell_type": "code",
   "execution_count": null,
   "metadata": {},
   "outputs": [],
   "source": []
  },
  {
   "cell_type": "code",
   "execution_count": 59,
   "metadata": {},
   "outputs": [
    {
     "name": "stdout",
     "output_type": "stream",
     "text": [
      "Fitting 3 folds for each of 100 candidates, totalling 300 fits\n"
     ]
    },
    {
     "data": {
      "text/plain": [
       "RandomizedSearchCV(cv=3, estimator=RandomForestRegressor(random_state=42),\n",
       "                   n_iter=100, n_jobs=-1,\n",
       "                   param_distributions={'bootstrap': [True],\n",
       "                                        'max_depth': [5, 6, 7, 8, 9, 10, 11, 12,\n",
       "                                                      13, 14, 15, 16, 17, 18,\n",
       "                                                      19, 20, 21, 22, 23, 24,\n",
       "                                                      25, 26, 27, 28, 29, 30,\n",
       "                                                      31, 32, 33, 34, ...],\n",
       "                                        'max_features': ['auto', 'sqrt', None],\n",
       "                                        'min_samples_leaf': [1, 2, 4, 6, 8, 10,\n",
       "                                                             12, 14, 16, 20, 25,\n",
       "                                                             30],\n",
       "                                        'min_samples_split': [2, 4, 6, 8, 10],\n",
       "                                        'n_estimators': [10, 20, 30, 40, 50, 60,\n",
       "                                                         70, 80, 90, 100, 110,\n",
       "                                                         120, 130, 140, 150,\n",
       "                                                         160, 170, 180, 190,\n",
       "                                                         200, 210, 220, 230,\n",
       "                                                         240, 250, 260, 270,\n",
       "                                                         280, 290, 300, ...]},\n",
       "                   random_state=42, scoring='neg_mean_squared_error',\n",
       "                   verbose=2)"
      ]
     },
     "execution_count": 59,
     "metadata": {},
     "output_type": "execute_result"
    }
   ],
   "source": [
    "rf = RandomForestRegressor(random_state=42)\n",
    "rf_random = RandomizedSearchCV(estimator = rf, param_distributions = random_grid, n_iter = 100, scoring = 'neg_mean_squared_error',\n",
    "                               cv= 3, verbose = 2, random_state = 42, n_jobs =-1,\n",
    "                               return_train_score = False)\n",
    "\n",
    "rf_random.fit(X_train, y_train)"
   ]
  },
  {
   "cell_type": "markdown",
   "metadata": {},
   "source": [
    "## Cv nos da el nº de particiones para la cross validation. Cuanto mayor es el nº de iteraciones(n_iter) mayor búsqueda de posibilidades.\n",
    "## Cuanto mayor sea el cv, mayor reducción de overfitting."
   ]
  },
  {
   "cell_type": "markdown",
   "metadata": {},
   "source": [
    "## Con el parámetro \"scoring\" pretendemos que nos devuelva el menor RMSE posible."
   ]
  },
  {
   "cell_type": "code",
   "execution_count": 60,
   "metadata": {},
   "outputs": [
    {
     "data": {
      "text/plain": [
       "{'n_estimators': 500,\n",
       " 'min_samples_split': 2,\n",
       " 'min_samples_leaf': 2,\n",
       " 'max_features': 'auto',\n",
       " 'max_depth': 16,\n",
       " 'bootstrap': True}"
      ]
     },
     "execution_count": 60,
     "metadata": {},
     "output_type": "execute_result"
    }
   ],
   "source": [
    "first_grid = rf_random.best_params_\n",
    "first_grid"
   ]
  },
  {
   "cell_type": "code",
   "execution_count": 61,
   "metadata": {},
   "outputs": [],
   "source": [
    "from sklearn.model_selection import GridSearchCV\n",
    "\n",
    "param_grid = {'bootstrap': [True],\n",
    "              'max_depth': [10, 15, 20],\n",
    "              'max_features': ['auto'],\n",
    "              'min_samples_leaf': [2, 4, 6],\n",
    "              'min_samples_split': [5, 7, 9],\n",
    "              'n_estimators' : [30, 190, 250]}\n",
    "\n",
    "\n",
    "rf = RandomForestRegressor(random_state = 42)\n",
    "\n",
    "grid_search = GridSearchCV(estimator = rf, param_grid= param_grid,\n",
    "                           cv = 3, n_jobs = -1, verbose = 2, return_train_score = False, scoring = 'neg_mean_squared_error')"
   ]
  },
  {
   "cell_type": "code",
   "execution_count": 62,
   "metadata": {},
   "outputs": [
    {
     "name": "stdout",
     "output_type": "stream",
     "text": [
      "Fitting 3 folds for each of 81 candidates, totalling 243 fits\n"
     ]
    }
   ],
   "source": [
    "grid_search.fit(X_train, y_train);"
   ]
  },
  {
   "cell_type": "markdown",
   "metadata": {},
   "source": [
    "## Nos quedamos con el modelo seleccionado del GridSearch que es el SecondGrid"
   ]
  },
  {
   "cell_type": "code",
   "execution_count": 63,
   "metadata": {},
   "outputs": [
    {
     "data": {
      "text/plain": [
       "{'bootstrap': True,\n",
       " 'max_depth': 15,\n",
       " 'max_features': 'auto',\n",
       " 'min_samples_leaf': 2,\n",
       " 'min_samples_split': 5,\n",
       " 'n_estimators': 190}"
      ]
     },
     "execution_count": 63,
     "metadata": {},
     "output_type": "execute_result"
    }
   ],
   "source": [
    "modelo_seleccionado = grid_search.best_params_ \n",
    "modelo_seleccionado"
   ]
  },
  {
   "cell_type": "code",
   "execution_count": 64,
   "metadata": {},
   "outputs": [
    {
     "data": {
      "text/plain": [
       "{'bootstrap': True,\n",
       " 'max_depth': 15,\n",
       " 'max_features': 'auto',\n",
       " 'min_samples_leaf': 2,\n",
       " 'min_samples_split': 5,\n",
       " 'n_estimators': 190}"
      ]
     },
     "execution_count": 64,
     "metadata": {},
     "output_type": "execute_result"
    }
   ],
   "source": [
    "pred = modelo_seleccionado\n",
    "pred"
   ]
  },
  {
   "cell_type": "code",
   "execution_count": 65,
   "metadata": {},
   "outputs": [
    {
     "data": {
      "text/html": [
       "<div>\n",
       "<style scoped>\n",
       "    .dataframe tbody tr th:only-of-type {\n",
       "        vertical-align: middle;\n",
       "    }\n",
       "\n",
       "    .dataframe tbody tr th {\n",
       "        vertical-align: top;\n",
       "    }\n",
       "\n",
       "    .dataframe thead th {\n",
       "        text-align: right;\n",
       "    }\n",
       "</style>\n",
       "<table border=\"1\" class=\"dataframe\">\n",
       "  <thead>\n",
       "    <tr style=\"text-align: right;\">\n",
       "      <th></th>\n",
       "      <th>Open</th>\n",
       "      <th>High</th>\n",
       "      <th>Low</th>\n",
       "      <th>Volume</th>\n",
       "    </tr>\n",
       "    <tr>\n",
       "      <th>Date</th>\n",
       "      <th></th>\n",
       "      <th></th>\n",
       "      <th></th>\n",
       "      <th></th>\n",
       "    </tr>\n",
       "  </thead>\n",
       "  <tbody>\n",
       "    <tr>\n",
       "      <th>2021-07-28</th>\n",
       "      <td>39503.187500</td>\n",
       "      <td>40816.070312</td>\n",
       "      <td>38862.437500</td>\n",
       "      <td>3.870240e+10</td>\n",
       "    </tr>\n",
       "    <tr>\n",
       "      <th>2019-09-22</th>\n",
       "      <td>10024.115234</td>\n",
       "      <td>10074.444336</td>\n",
       "      <td>9922.533203</td>\n",
       "      <td>1.319965e+10</td>\n",
       "    </tr>\n",
       "    <tr>\n",
       "      <th>2019-04-19</th>\n",
       "      <td>5298.154297</td>\n",
       "      <td>5336.680176</td>\n",
       "      <td>5233.334961</td>\n",
       "      <td>1.378024e+10</td>\n",
       "    </tr>\n",
       "    <tr>\n",
       "      <th>2019-10-26</th>\n",
       "      <td>8667.577148</td>\n",
       "      <td>10021.744141</td>\n",
       "      <td>8662.622070</td>\n",
       "      <td>4.449626e+10</td>\n",
       "    </tr>\n",
       "    <tr>\n",
       "      <th>2021-01-21</th>\n",
       "      <td>35549.398438</td>\n",
       "      <td>35552.679688</td>\n",
       "      <td>30250.750000</td>\n",
       "      <td>7.564307e+10</td>\n",
       "    </tr>\n",
       "    <tr>\n",
       "      <th>...</th>\n",
       "      <td>...</td>\n",
       "      <td>...</td>\n",
       "      <td>...</td>\n",
       "      <td>...</td>\n",
       "    </tr>\n",
       "    <tr>\n",
       "      <th>2020-10-15</th>\n",
       "      <td>11426.602539</td>\n",
       "      <td>11569.914062</td>\n",
       "      <td>11303.603516</td>\n",
       "      <td>2.448723e+10</td>\n",
       "    </tr>\n",
       "    <tr>\n",
       "      <th>2021-05-22</th>\n",
       "      <td>37371.031250</td>\n",
       "      <td>38831.054688</td>\n",
       "      <td>35383.683594</td>\n",
       "      <td>5.737727e+10</td>\n",
       "    </tr>\n",
       "    <tr>\n",
       "      <th>2020-06-28</th>\n",
       "      <td>9048.460938</td>\n",
       "      <td>9197.546875</td>\n",
       "      <td>8975.525391</td>\n",
       "      <td>1.456087e+10</td>\n",
       "    </tr>\n",
       "    <tr>\n",
       "      <th>2021-11-24</th>\n",
       "      <td>57565.851562</td>\n",
       "      <td>57803.066406</td>\n",
       "      <td>55964.222656</td>\n",
       "      <td>3.663557e+10</td>\n",
       "    </tr>\n",
       "    <tr>\n",
       "      <th>2021-09-07</th>\n",
       "      <td>52660.480469</td>\n",
       "      <td>52853.765625</td>\n",
       "      <td>43285.207031</td>\n",
       "      <td>6.521006e+10</td>\n",
       "    </tr>\n",
       "  </tbody>\n",
       "</table>\n",
       "<p>347 rows × 4 columns</p>\n",
       "</div>"
      ],
      "text/plain": [
       "                    Open          High           Low        Volume\n",
       "Date                                                              \n",
       "2021-07-28  39503.187500  40816.070312  38862.437500  3.870240e+10\n",
       "2019-09-22  10024.115234  10074.444336   9922.533203  1.319965e+10\n",
       "2019-04-19   5298.154297   5336.680176   5233.334961  1.378024e+10\n",
       "2019-10-26   8667.577148  10021.744141   8662.622070  4.449626e+10\n",
       "2021-01-21  35549.398438  35552.679688  30250.750000  7.564307e+10\n",
       "...                  ...           ...           ...           ...\n",
       "2020-10-15  11426.602539  11569.914062  11303.603516  2.448723e+10\n",
       "2021-05-22  37371.031250  38831.054688  35383.683594  5.737727e+10\n",
       "2020-06-28   9048.460938   9197.546875   8975.525391  1.456087e+10\n",
       "2021-11-24  57565.851562  57803.066406  55964.222656  3.663557e+10\n",
       "2021-09-07  52660.480469  52853.765625  43285.207031  6.521006e+10\n",
       "\n",
       "[347 rows x 4 columns]"
      ]
     },
     "execution_count": 65,
     "metadata": {},
     "output_type": "execute_result"
    }
   ],
   "source": [
    "X_test"
   ]
  },
  {
   "cell_type": "code",
   "execution_count": 66,
   "metadata": {},
   "outputs": [
    {
     "data": {
      "text/plain": [
       "Date\n",
       "2021-07-28    39995.906250\n",
       "2019-09-22    10070.392578\n",
       "2019-04-19     5303.812500\n",
       "2019-10-26     9244.972656\n",
       "2021-01-21    30825.699219\n",
       "                  ...     \n",
       "2020-10-15    11495.349609\n",
       "2021-05-22    37536.632812\n",
       "2020-06-28     9143.582031\n",
       "2021-11-24    56280.425781\n",
       "2021-09-07    46811.128906\n",
       "Name: Close, Length: 347, dtype: float64"
      ]
     },
     "execution_count": 66,
     "metadata": {},
     "output_type": "execute_result"
    }
   ],
   "source": [
    "y_test"
   ]
  },
  {
   "cell_type": "code",
   "execution_count": 70,
   "metadata": {},
   "outputs": [
    {
     "data": {
      "text/html": [
       "<div>\n",
       "<style scoped>\n",
       "    .dataframe tbody tr th:only-of-type {\n",
       "        vertical-align: middle;\n",
       "    }\n",
       "\n",
       "    .dataframe tbody tr th {\n",
       "        vertical-align: top;\n",
       "    }\n",
       "\n",
       "    .dataframe thead th {\n",
       "        text-align: right;\n",
       "    }\n",
       "</style>\n",
       "<table border=\"1\" class=\"dataframe\">\n",
       "  <thead>\n",
       "    <tr style=\"text-align: right;\">\n",
       "      <th></th>\n",
       "      <th>Open</th>\n",
       "      <th>High</th>\n",
       "      <th>Low</th>\n",
       "      <th>Close</th>\n",
       "      <th>Volume</th>\n",
       "    </tr>\n",
       "    <tr>\n",
       "      <th>Date</th>\n",
       "      <th></th>\n",
       "      <th></th>\n",
       "      <th></th>\n",
       "      <th></th>\n",
       "      <th></th>\n",
       "    </tr>\n",
       "  </thead>\n",
       "  <tbody>\n",
       "    <tr>\n",
       "      <th>2018-12-31</th>\n",
       "      <td>3866.839111</td>\n",
       "      <td>3868.742920</td>\n",
       "      <td>3725.867432</td>\n",
       "      <td>3742.700439</td>\n",
       "      <td>4.661841e+09</td>\n",
       "    </tr>\n",
       "    <tr>\n",
       "      <th>2019-01-01</th>\n",
       "      <td>3746.713379</td>\n",
       "      <td>3850.913818</td>\n",
       "      <td>3707.231201</td>\n",
       "      <td>3843.520020</td>\n",
       "      <td>4.324201e+09</td>\n",
       "    </tr>\n",
       "    <tr>\n",
       "      <th>2019-01-02</th>\n",
       "      <td>3849.216309</td>\n",
       "      <td>3947.981201</td>\n",
       "      <td>3817.409424</td>\n",
       "      <td>3943.409424</td>\n",
       "      <td>5.244857e+09</td>\n",
       "    </tr>\n",
       "    <tr>\n",
       "      <th>2019-01-03</th>\n",
       "      <td>3931.048584</td>\n",
       "      <td>3935.685059</td>\n",
       "      <td>3826.222900</td>\n",
       "      <td>3836.741211</td>\n",
       "      <td>4.530215e+09</td>\n",
       "    </tr>\n",
       "    <tr>\n",
       "      <th>2019-01-04</th>\n",
       "      <td>3832.040039</td>\n",
       "      <td>3865.934570</td>\n",
       "      <td>3783.853760</td>\n",
       "      <td>3857.717529</td>\n",
       "      <td>4.847965e+09</td>\n",
       "    </tr>\n",
       "    <tr>\n",
       "      <th>...</th>\n",
       "      <td>...</td>\n",
       "      <td>...</td>\n",
       "      <td>...</td>\n",
       "      <td>...</td>\n",
       "      <td>...</td>\n",
       "    </tr>\n",
       "    <tr>\n",
       "      <th>2022-02-24</th>\n",
       "      <td>37278.566406</td>\n",
       "      <td>38968.839844</td>\n",
       "      <td>34459.218750</td>\n",
       "      <td>38332.609375</td>\n",
       "      <td>4.638380e+10</td>\n",
       "    </tr>\n",
       "    <tr>\n",
       "      <th>2022-02-25</th>\n",
       "      <td>38333.746094</td>\n",
       "      <td>39630.324219</td>\n",
       "      <td>38111.343750</td>\n",
       "      <td>39214.218750</td>\n",
       "      <td>2.654560e+10</td>\n",
       "    </tr>\n",
       "    <tr>\n",
       "      <th>2022-02-26</th>\n",
       "      <td>39213.082031</td>\n",
       "      <td>40005.347656</td>\n",
       "      <td>38702.535156</td>\n",
       "      <td>39105.148438</td>\n",
       "      <td>1.746755e+10</td>\n",
       "    </tr>\n",
       "    <tr>\n",
       "      <th>2022-02-27</th>\n",
       "      <td>39098.699219</td>\n",
       "      <td>39778.941406</td>\n",
       "      <td>37268.976562</td>\n",
       "      <td>37709.785156</td>\n",
       "      <td>2.345013e+10</td>\n",
       "    </tr>\n",
       "    <tr>\n",
       "      <th>2022-02-28</th>\n",
       "      <td>37706.000000</td>\n",
       "      <td>43760.457031</td>\n",
       "      <td>37518.214844</td>\n",
       "      <td>43193.234375</td>\n",
       "      <td>3.569001e+10</td>\n",
       "    </tr>\n",
       "  </tbody>\n",
       "</table>\n",
       "<p>1156 rows × 5 columns</p>\n",
       "</div>"
      ],
      "text/plain": [
       "                    Open          High           Low         Close  \\\n",
       "Date                                                                 \n",
       "2018-12-31   3866.839111   3868.742920   3725.867432   3742.700439   \n",
       "2019-01-01   3746.713379   3850.913818   3707.231201   3843.520020   \n",
       "2019-01-02   3849.216309   3947.981201   3817.409424   3943.409424   \n",
       "2019-01-03   3931.048584   3935.685059   3826.222900   3836.741211   \n",
       "2019-01-04   3832.040039   3865.934570   3783.853760   3857.717529   \n",
       "...                  ...           ...           ...           ...   \n",
       "2022-02-24  37278.566406  38968.839844  34459.218750  38332.609375   \n",
       "2022-02-25  38333.746094  39630.324219  38111.343750  39214.218750   \n",
       "2022-02-26  39213.082031  40005.347656  38702.535156  39105.148438   \n",
       "2022-02-27  39098.699219  39778.941406  37268.976562  37709.785156   \n",
       "2022-02-28  37706.000000  43760.457031  37518.214844  43193.234375   \n",
       "\n",
       "                  Volume  \n",
       "Date                      \n",
       "2018-12-31  4.661841e+09  \n",
       "2019-01-01  4.324201e+09  \n",
       "2019-01-02  5.244857e+09  \n",
       "2019-01-03  4.530215e+09  \n",
       "2019-01-04  4.847965e+09  \n",
       "...                  ...  \n",
       "2022-02-24  4.638380e+10  \n",
       "2022-02-25  2.654560e+10  \n",
       "2022-02-26  1.746755e+10  \n",
       "2022-02-27  2.345013e+10  \n",
       "2022-02-28  3.569001e+10  \n",
       "\n",
       "[1156 rows x 5 columns]"
      ]
     },
     "execution_count": 70,
     "metadata": {},
     "output_type": "execute_result"
    }
   ],
   "source": [
    "bitcoin_df"
   ]
  },
  {
   "cell_type": "code",
   "execution_count": null,
   "metadata": {},
   "outputs": [],
   "source": [
    "# Vamos a declarar una variable para implementar una media móvil a corto plazo de 20 días.\n",
    "MA20 = close.rolling(20).mean()\n",
    "# Vamos a declarar una variable para implementar una media móvil a largo plazo de 50 días.\n",
    "MA50 = close.rolling(50).mean()\n",
    "# Vamos a declarar una variable para implementar una media móvil a largo plazo de 100 días.\n",
    "MA100 = close.rolling(100).mean()\n",
    "# Hacemos un subplot de todos los gráficos con sus medias móviles de 50 días.\n",
    "\n",
    "fig, axs = plt.subplots(2,2,figsize=(20,8),gridspec_kw ={'hspace': 0.2, 'wspace': 0.1})\n",
    "axs[0,0].plot(close, label= 'closing')\n",
    "axs[0,0].plot(MA50[bitcoin_df['Close']], label= 'MA50')\n",
    "axs[0,0].set_title('BNB')\n",
    "axs[0,0].legend()\n",
    "axs[0,1].plot(close, label= 'closing')\n",
    "axs[0,1].plot(MA50[bitcoin_df['Close']], label= 'MA50')\n",
    "axs[0,1].set_title('BTC')\n",
    "axs[0,1].legend()\n",
    "axs[1,0].plot(close, label= 'closing')\n",
    "axs[1,0].plot(MA50[bitcoin_df['Close']], label= 'MA50')\n",
    "axs[1,0].set_title('ETH')\n",
    "axs[1,0].legend()\n",
    "axs[1,1].plot(close, label= 'closing')\n",
    "axs[1,1].plot(MA50[bitcoin_df['Close']], label= 'MA50')\n",
    "axs[1,1].set_title('ADA')\n",
    "axs[1,1].legend()\n",
    "plt.show()"
   ]
  }
 ],
 "metadata": {
  "interpreter": {
   "hash": "6455be0ba6d313e61fa561a59feb5f13d5e5fc4d538f6449aef2b51328fb9b28"
  },
  "kernelspec": {
   "display_name": "Python 3.7.4 64-bit",
   "language": "python",
   "name": "python3"
  },
  "language_info": {
   "codemirror_mode": {
    "name": "ipython",
    "version": 3
   },
   "file_extension": ".py",
   "mimetype": "text/x-python",
   "name": "python",
   "nbconvert_exporter": "python",
   "pygments_lexer": "ipython3",
   "version": "3.7.4"
  },
  "orig_nbformat": 4
 },
 "nbformat": 4,
 "nbformat_minor": 2
}
