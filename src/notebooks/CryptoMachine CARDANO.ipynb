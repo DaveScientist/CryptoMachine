{
 "cells": [
  {
   "cell_type": "code",
   "execution_count": 1,
   "metadata": {},
   "outputs": [],
   "source": [
    "import pandas as pd\n",
    "import numpy as np\n",
    "import matplotlib as mpl\n",
    "import seaborn as sns\n",
    "from sklearn.svm import SVC\n",
    "from sklearn.ensemble import BaggingClassifier\n",
    "from sklearn.datasets import make_classification\n",
    "from sklearn.tree import DecisionTreeClassifier\n",
    "from sklearn.model_selection import KFold\n",
    "import matplotlib.pyplot as plt\n",
    "from sklearn.ensemble import RandomForestClassifier\n",
    "from sklearn.ensemble import VotingClassifier\n",
    "from sklearn.linear_model import LogisticRegression\n",
    "from sklearn.svm import SVC\n",
    "from sklearn.ensemble import VotingClassifier\n",
    "import yfinance as yf\n",
    "import math\n",
    "import os.path\n",
    "import time"
   ]
  },
  {
   "cell_type": "code",
   "execution_count": 2,
   "metadata": {},
   "outputs": [
    {
     "name": "stdout",
     "output_type": "stream",
     "text": [
      "[*********************100%***********************]  1 of 1 completed\n"
     ]
    }
   ],
   "source": [
    "cryptocurrencies = ['ADA-USD']\n",
    "cardano_df = yf.download(cryptocurrencies, start='2019-01-01',\n",
    "                end='2022-03-01', parse_dates = ['Month'])"
   ]
  },
  {
   "cell_type": "code",
   "execution_count": 3,
   "metadata": {},
   "outputs": [
    {
     "data": {
      "text/html": [
       "<div>\n",
       "<style scoped>\n",
       "    .dataframe tbody tr th:only-of-type {\n",
       "        vertical-align: middle;\n",
       "    }\n",
       "\n",
       "    .dataframe tbody tr th {\n",
       "        vertical-align: top;\n",
       "    }\n",
       "\n",
       "    .dataframe thead th {\n",
       "        text-align: right;\n",
       "    }\n",
       "</style>\n",
       "<table border=\"1\" class=\"dataframe\">\n",
       "  <thead>\n",
       "    <tr style=\"text-align: right;\">\n",
       "      <th></th>\n",
       "      <th>Open</th>\n",
       "      <th>High</th>\n",
       "      <th>Low</th>\n",
       "      <th>Close</th>\n",
       "      <th>Adj Close</th>\n",
       "      <th>Volume</th>\n",
       "    </tr>\n",
       "    <tr>\n",
       "      <th>Date</th>\n",
       "      <th></th>\n",
       "      <th></th>\n",
       "      <th></th>\n",
       "      <th></th>\n",
       "      <th></th>\n",
       "      <th></th>\n",
       "    </tr>\n",
       "  </thead>\n",
       "  <tbody>\n",
       "    <tr>\n",
       "      <th>2018-12-31</th>\n",
       "      <td>0.043232</td>\n",
       "      <td>0.043364</td>\n",
       "      <td>0.040493</td>\n",
       "      <td>0.041063</td>\n",
       "      <td>0.041063</td>\n",
       "      <td>19280457</td>\n",
       "    </tr>\n",
       "    <tr>\n",
       "      <th>2019-01-01</th>\n",
       "      <td>0.040984</td>\n",
       "      <td>0.042547</td>\n",
       "      <td>0.040308</td>\n",
       "      <td>0.042547</td>\n",
       "      <td>0.042547</td>\n",
       "      <td>14962902</td>\n",
       "    </tr>\n",
       "    <tr>\n",
       "      <th>2019-01-02</th>\n",
       "      <td>0.042568</td>\n",
       "      <td>0.045563</td>\n",
       "      <td>0.041982</td>\n",
       "      <td>0.045258</td>\n",
       "      <td>0.045258</td>\n",
       "      <td>24151526</td>\n",
       "    </tr>\n",
       "    <tr>\n",
       "      <th>2019-01-03</th>\n",
       "      <td>0.045106</td>\n",
       "      <td>0.045259</td>\n",
       "      <td>0.042535</td>\n",
       "      <td>0.042682</td>\n",
       "      <td>0.042682</td>\n",
       "      <td>21126963</td>\n",
       "    </tr>\n",
       "    <tr>\n",
       "      <th>2019-01-04</th>\n",
       "      <td>0.042629</td>\n",
       "      <td>0.044092</td>\n",
       "      <td>0.042477</td>\n",
       "      <td>0.043812</td>\n",
       "      <td>0.043812</td>\n",
       "      <td>16024029</td>\n",
       "    </tr>\n",
       "    <tr>\n",
       "      <th>...</th>\n",
       "      <td>...</td>\n",
       "      <td>...</td>\n",
       "      <td>...</td>\n",
       "      <td>...</td>\n",
       "      <td>...</td>\n",
       "      <td>...</td>\n",
       "    </tr>\n",
       "    <tr>\n",
       "      <th>2022-02-24</th>\n",
       "      <td>0.868515</td>\n",
       "      <td>0.882342</td>\n",
       "      <td>0.752810</td>\n",
       "      <td>0.853425</td>\n",
       "      <td>0.853425</td>\n",
       "      <td>3629367685</td>\n",
       "    </tr>\n",
       "    <tr>\n",
       "      <th>2022-02-25</th>\n",
       "      <td>0.853572</td>\n",
       "      <td>0.906541</td>\n",
       "      <td>0.829244</td>\n",
       "      <td>0.898027</td>\n",
       "      <td>0.898027</td>\n",
       "      <td>1652894219</td>\n",
       "    </tr>\n",
       "    <tr>\n",
       "      <th>2022-02-26</th>\n",
       "      <td>0.897996</td>\n",
       "      <td>0.928296</td>\n",
       "      <td>0.885401</td>\n",
       "      <td>0.887918</td>\n",
       "      <td>0.887918</td>\n",
       "      <td>1099934921</td>\n",
       "    </tr>\n",
       "    <tr>\n",
       "      <th>2022-02-27</th>\n",
       "      <td>0.887788</td>\n",
       "      <td>0.912676</td>\n",
       "      <td>0.840146</td>\n",
       "      <td>0.858335</td>\n",
       "      <td>0.858335</td>\n",
       "      <td>1278510571</td>\n",
       "    </tr>\n",
       "    <tr>\n",
       "      <th>2022-02-28</th>\n",
       "      <td>0.857870</td>\n",
       "      <td>0.967613</td>\n",
       "      <td>0.845040</td>\n",
       "      <td>0.959828</td>\n",
       "      <td>0.959828</td>\n",
       "      <td>1779202386</td>\n",
       "    </tr>\n",
       "  </tbody>\n",
       "</table>\n",
       "<p>1156 rows × 6 columns</p>\n",
       "</div>"
      ],
      "text/plain": [
       "                Open      High       Low     Close  Adj Close      Volume\n",
       "Date                                                                     \n",
       "2018-12-31  0.043232  0.043364  0.040493  0.041063   0.041063    19280457\n",
       "2019-01-01  0.040984  0.042547  0.040308  0.042547   0.042547    14962902\n",
       "2019-01-02  0.042568  0.045563  0.041982  0.045258   0.045258    24151526\n",
       "2019-01-03  0.045106  0.045259  0.042535  0.042682   0.042682    21126963\n",
       "2019-01-04  0.042629  0.044092  0.042477  0.043812   0.043812    16024029\n",
       "...              ...       ...       ...       ...        ...         ...\n",
       "2022-02-24  0.868515  0.882342  0.752810  0.853425   0.853425  3629367685\n",
       "2022-02-25  0.853572  0.906541  0.829244  0.898027   0.898027  1652894219\n",
       "2022-02-26  0.897996  0.928296  0.885401  0.887918   0.887918  1099934921\n",
       "2022-02-27  0.887788  0.912676  0.840146  0.858335   0.858335  1278510571\n",
       "2022-02-28  0.857870  0.967613  0.845040  0.959828   0.959828  1779202386\n",
       "\n",
       "[1156 rows x 6 columns]"
      ]
     },
     "execution_count": 3,
     "metadata": {},
     "output_type": "execute_result"
    }
   ],
   "source": [
    "cardano_df"
   ]
  },
  {
   "cell_type": "code",
   "execution_count": 4,
   "metadata": {},
   "outputs": [
    {
     "data": {
      "text/plain": [
       "2.9682390689849854"
      ]
     },
     "execution_count": 4,
     "metadata": {},
     "output_type": "execute_result"
    }
   ],
   "source": [
    "cardano_df['Close'].max()"
   ]
  },
  {
   "cell_type": "code",
   "execution_count": 5,
   "metadata": {},
   "outputs": [
    {
     "data": {
      "text/plain": [
       "0.02396100014448166"
      ]
     },
     "execution_count": 5,
     "metadata": {},
     "output_type": "execute_result"
    }
   ],
   "source": [
    "cardano_df['Close'].min()"
   ]
  },
  {
   "cell_type": "code",
   "execution_count": 6,
   "metadata": {},
   "outputs": [
    {
     "data": {
      "text/html": [
       "<div>\n",
       "<style scoped>\n",
       "    .dataframe tbody tr th:only-of-type {\n",
       "        vertical-align: middle;\n",
       "    }\n",
       "\n",
       "    .dataframe tbody tr th {\n",
       "        vertical-align: top;\n",
       "    }\n",
       "\n",
       "    .dataframe thead th {\n",
       "        text-align: right;\n",
       "    }\n",
       "</style>\n",
       "<table border=\"1\" class=\"dataframe\">\n",
       "  <thead>\n",
       "    <tr style=\"text-align: right;\">\n",
       "      <th></th>\n",
       "      <th>Open</th>\n",
       "      <th>High</th>\n",
       "      <th>Low</th>\n",
       "      <th>Close</th>\n",
       "      <th>Adj Close</th>\n",
       "      <th>Volume</th>\n",
       "    </tr>\n",
       "  </thead>\n",
       "  <tbody>\n",
       "    <tr>\n",
       "      <th>count</th>\n",
       "      <td>1156.000000</td>\n",
       "      <td>1156.000000</td>\n",
       "      <td>1156.000000</td>\n",
       "      <td>1156.000000</td>\n",
       "      <td>1156.000000</td>\n",
       "      <td>1.156000e+03</td>\n",
       "    </tr>\n",
       "    <tr>\n",
       "      <th>mean</th>\n",
       "      <td>0.575260</td>\n",
       "      <td>0.600385</td>\n",
       "      <td>0.548764</td>\n",
       "      <td>0.576098</td>\n",
       "      <td>0.576098</td>\n",
       "      <td>1.584145e+09</td>\n",
       "    </tr>\n",
       "    <tr>\n",
       "      <th>std</th>\n",
       "      <td>0.753889</td>\n",
       "      <td>0.785826</td>\n",
       "      <td>0.719761</td>\n",
       "      <td>0.753961</td>\n",
       "      <td>0.753961</td>\n",
       "      <td>2.476968e+09</td>\n",
       "    </tr>\n",
       "    <tr>\n",
       "      <th>min</th>\n",
       "      <td>0.023954</td>\n",
       "      <td>0.025993</td>\n",
       "      <td>0.019130</td>\n",
       "      <td>0.023961</td>\n",
       "      <td>0.023961</td>\n",
       "      <td>1.101152e+07</td>\n",
       "    </tr>\n",
       "    <tr>\n",
       "      <th>25%</th>\n",
       "      <td>0.049002</td>\n",
       "      <td>0.050907</td>\n",
       "      <td>0.047481</td>\n",
       "      <td>0.049085</td>\n",
       "      <td>0.049085</td>\n",
       "      <td>8.332471e+07</td>\n",
       "    </tr>\n",
       "    <tr>\n",
       "      <th>50%</th>\n",
       "      <td>0.096648</td>\n",
       "      <td>0.099720</td>\n",
       "      <td>0.093302</td>\n",
       "      <td>0.096611</td>\n",
       "      <td>0.096611</td>\n",
       "      <td>3.720917e+08</td>\n",
       "    </tr>\n",
       "    <tr>\n",
       "      <th>75%</th>\n",
       "      <td>1.194753</td>\n",
       "      <td>1.244208</td>\n",
       "      <td>1.156850</td>\n",
       "      <td>1.195498</td>\n",
       "      <td>1.195498</td>\n",
       "      <td>2.147296e+09</td>\n",
       "    </tr>\n",
       "    <tr>\n",
       "      <th>max</th>\n",
       "      <td>2.966390</td>\n",
       "      <td>3.099186</td>\n",
       "      <td>2.907606</td>\n",
       "      <td>2.968239</td>\n",
       "      <td>2.968239</td>\n",
       "      <td>1.914198e+10</td>\n",
       "    </tr>\n",
       "  </tbody>\n",
       "</table>\n",
       "</div>"
      ],
      "text/plain": [
       "              Open         High          Low        Close    Adj Close  \\\n",
       "count  1156.000000  1156.000000  1156.000000  1156.000000  1156.000000   \n",
       "mean      0.575260     0.600385     0.548764     0.576098     0.576098   \n",
       "std       0.753889     0.785826     0.719761     0.753961     0.753961   \n",
       "min       0.023954     0.025993     0.019130     0.023961     0.023961   \n",
       "25%       0.049002     0.050907     0.047481     0.049085     0.049085   \n",
       "50%       0.096648     0.099720     0.093302     0.096611     0.096611   \n",
       "75%       1.194753     1.244208     1.156850     1.195498     1.195498   \n",
       "max       2.966390     3.099186     2.907606     2.968239     2.968239   \n",
       "\n",
       "             Volume  \n",
       "count  1.156000e+03  \n",
       "mean   1.584145e+09  \n",
       "std    2.476968e+09  \n",
       "min    1.101152e+07  \n",
       "25%    8.332471e+07  \n",
       "50%    3.720917e+08  \n",
       "75%    2.147296e+09  \n",
       "max    1.914198e+10  "
      ]
     },
     "execution_count": 6,
     "metadata": {},
     "output_type": "execute_result"
    }
   ],
   "source": [
    "cardano_df.describe()"
   ]
  },
  {
   "cell_type": "code",
   "execution_count": 7,
   "metadata": {},
   "outputs": [
    {
     "name": "stdout",
     "output_type": "stream",
     "text": [
      "<class 'pandas.core.frame.DataFrame'>\n",
      "DatetimeIndex: 1156 entries, 2018-12-31 to 2022-02-28\n",
      "Data columns (total 6 columns):\n",
      " #   Column     Non-Null Count  Dtype  \n",
      "---  ------     --------------  -----  \n",
      " 0   Open       1156 non-null   float64\n",
      " 1   High       1156 non-null   float64\n",
      " 2   Low        1156 non-null   float64\n",
      " 3   Close      1156 non-null   float64\n",
      " 4   Adj Close  1156 non-null   float64\n",
      " 5   Volume     1156 non-null   float64\n",
      "dtypes: float64(6)\n",
      "memory usage: 63.2 KB\n"
     ]
    }
   ],
   "source": [
    "cardano_df[\"Volume\"] = cardano_df[\"Volume\"].astype(\"float\")\n",
    "cardano_df.info()"
   ]
  },
  {
   "cell_type": "code",
   "execution_count": 8,
   "metadata": {},
   "outputs": [
    {
     "data": {
      "text/html": [
       "<div>\n",
       "<style scoped>\n",
       "    .dataframe tbody tr th:only-of-type {\n",
       "        vertical-align: middle;\n",
       "    }\n",
       "\n",
       "    .dataframe tbody tr th {\n",
       "        vertical-align: top;\n",
       "    }\n",
       "\n",
       "    .dataframe thead th {\n",
       "        text-align: right;\n",
       "    }\n",
       "</style>\n",
       "<table border=\"1\" class=\"dataframe\">\n",
       "  <thead>\n",
       "    <tr style=\"text-align: right;\">\n",
       "      <th></th>\n",
       "      <th>Open</th>\n",
       "      <th>High</th>\n",
       "      <th>Low</th>\n",
       "      <th>Close</th>\n",
       "      <th>Adj Close</th>\n",
       "      <th>Volume</th>\n",
       "    </tr>\n",
       "    <tr>\n",
       "      <th>Date</th>\n",
       "      <th></th>\n",
       "      <th></th>\n",
       "      <th></th>\n",
       "      <th></th>\n",
       "      <th></th>\n",
       "      <th></th>\n",
       "    </tr>\n",
       "  </thead>\n",
       "  <tbody>\n",
       "    <tr>\n",
       "      <th>2018-12-31</th>\n",
       "      <td>0.043232</td>\n",
       "      <td>0.043364</td>\n",
       "      <td>0.040493</td>\n",
       "      <td>0.041063</td>\n",
       "      <td>0.041063</td>\n",
       "      <td>19280457.0</td>\n",
       "    </tr>\n",
       "    <tr>\n",
       "      <th>2019-01-01</th>\n",
       "      <td>0.040984</td>\n",
       "      <td>0.042547</td>\n",
       "      <td>0.040308</td>\n",
       "      <td>0.042547</td>\n",
       "      <td>0.042547</td>\n",
       "      <td>14962902.0</td>\n",
       "    </tr>\n",
       "    <tr>\n",
       "      <th>2019-01-02</th>\n",
       "      <td>0.042568</td>\n",
       "      <td>0.045563</td>\n",
       "      <td>0.041982</td>\n",
       "      <td>0.045258</td>\n",
       "      <td>0.045258</td>\n",
       "      <td>24151526.0</td>\n",
       "    </tr>\n",
       "    <tr>\n",
       "      <th>2019-01-03</th>\n",
       "      <td>0.045106</td>\n",
       "      <td>0.045259</td>\n",
       "      <td>0.042535</td>\n",
       "      <td>0.042682</td>\n",
       "      <td>0.042682</td>\n",
       "      <td>21126963.0</td>\n",
       "    </tr>\n",
       "    <tr>\n",
       "      <th>2019-01-04</th>\n",
       "      <td>0.042629</td>\n",
       "      <td>0.044092</td>\n",
       "      <td>0.042477</td>\n",
       "      <td>0.043812</td>\n",
       "      <td>0.043812</td>\n",
       "      <td>16024029.0</td>\n",
       "    </tr>\n",
       "  </tbody>\n",
       "</table>\n",
       "</div>"
      ],
      "text/plain": [
       "                Open      High       Low     Close  Adj Close      Volume\n",
       "Date                                                                     \n",
       "2018-12-31  0.043232  0.043364  0.040493  0.041063   0.041063  19280457.0\n",
       "2019-01-01  0.040984  0.042547  0.040308  0.042547   0.042547  14962902.0\n",
       "2019-01-02  0.042568  0.045563  0.041982  0.045258   0.045258  24151526.0\n",
       "2019-01-03  0.045106  0.045259  0.042535  0.042682   0.042682  21126963.0\n",
       "2019-01-04  0.042629  0.044092  0.042477  0.043812   0.043812  16024029.0"
      ]
     },
     "execution_count": 8,
     "metadata": {},
     "output_type": "execute_result"
    }
   ],
   "source": [
    "cardano_df.head()"
   ]
  },
  {
   "cell_type": "code",
   "execution_count": 9,
   "metadata": {},
   "outputs": [],
   "source": [
    "cardano_df = cardano_df.drop(columns = ['Adj Close'])"
   ]
  },
  {
   "cell_type": "code",
   "execution_count": 10,
   "metadata": {},
   "outputs": [
    {
     "name": "stdout",
     "output_type": "stream",
     "text": [
      "<class 'pandas.core.frame.DataFrame'>\n",
      "DatetimeIndex: 1156 entries, 2018-12-31 to 2022-02-28\n",
      "Data columns (total 5 columns):\n",
      " #   Column  Non-Null Count  Dtype  \n",
      "---  ------  --------------  -----  \n",
      " 0   Open    1156 non-null   float64\n",
      " 1   High    1156 non-null   float64\n",
      " 2   Low     1156 non-null   float64\n",
      " 3   Close   1156 non-null   float64\n",
      " 4   Volume  1156 non-null   float64\n",
      "dtypes: float64(5)\n",
      "memory usage: 54.2 KB\n",
      "\n",
      "\n",
      "Número de muestras 1156\n",
      "Número de variables 5\n"
     ]
    }
   ],
   "source": [
    "cardano_df.info()\n",
    "print('\\n')\n",
    "print('Número de muestras', cardano_df.shape[0])\n",
    "print('Número de variables', cardano_df.shape[1])"
   ]
  },
  {
   "cell_type": "code",
   "execution_count": 11,
   "metadata": {},
   "outputs": [],
   "source": [
    "close = cardano_df['Close']"
   ]
  },
  {
   "cell_type": "code",
   "execution_count": 12,
   "metadata": {},
   "outputs": [
    {
     "data": {
      "image/png": "[encoded data removed]",
      "text/plain": [
       "<Figure size 1152x576 with 4 Axes>"
      ]
     },
     "metadata": {
      "needs_background": "light"
     },
     "output_type": "display_data"
    }
   ],
   "source": [
    "fig, axs =plt.subplots(2,2,figsize=(16,8),gridspec_kw ={'hspace': 0.2, 'wspace': 0.1})\n",
    "axs[0,0].plot(cardano_df['Volume'])\n",
    "axs[0,0].set_title('BTC Volume/mill')\n",
    "axs[0,1].plot(cardano_df['Low'])\n",
    "axs[0,1].set_title('BTC Low Price')\n",
    "axs[1,0].plot(cardano_df['Open'])\n",
    "axs[1,0].set_title('BTC Open Price')\n",
    "axs[1,1].plot(cardano_df['High'])\n",
    "axs[1,1].set_title('BTC High Price')\n",
    "\n",
    "plt.show()"
   ]
  },
  {
   "cell_type": "code",
   "execution_count": 13,
   "metadata": {},
   "outputs": [],
   "source": [
    "\"\"\" Vamos a medir la correlación entre las variables\n",
    " y comprobaremos a continuación cuáles son las más importantes \n",
    " intentando conocer qué variables independientes\n",
    " afectan en mayor medida al modelo que vamos a utilizar. \"\"\"\n",
    "\n",
    "cardano_features = cardano_df\n",
    "features = ['Open', 'High', 'Low', 'Volume']\n",
    "X_cardano = cardano_features[features]\n",
    "y_cardano = cardano_features['Close']  "
   ]
  },
  {
   "cell_type": "code",
   "execution_count": 14,
   "metadata": {},
   "outputs": [
    {
     "data": {
      "text/html": [
       "<div>\n",
       "<style scoped>\n",
       "    .dataframe tbody tr th:only-of-type {\n",
       "        vertical-align: middle;\n",
       "    }\n",
       "\n",
       "    .dataframe tbody tr th {\n",
       "        vertical-align: top;\n",
       "    }\n",
       "\n",
       "    .dataframe thead th {\n",
       "        text-align: right;\n",
       "    }\n",
       "</style>\n",
       "<table border=\"1\" class=\"dataframe\">\n",
       "  <thead>\n",
       "    <tr style=\"text-align: right;\">\n",
       "      <th></th>\n",
       "      <th>Open</th>\n",
       "      <th>High</th>\n",
       "      <th>Low</th>\n",
       "      <th>Close</th>\n",
       "      <th>Volume</th>\n",
       "    </tr>\n",
       "  </thead>\n",
       "  <tbody>\n",
       "    <tr>\n",
       "      <th>Open</th>\n",
       "      <td>1.000000</td>\n",
       "      <td>0.998453</td>\n",
       "      <td>0.997426</td>\n",
       "      <td>0.997128</td>\n",
       "      <td>0.666252</td>\n",
       "    </tr>\n",
       "    <tr>\n",
       "      <th>High</th>\n",
       "      <td>0.998453</td>\n",
       "      <td>1.000000</td>\n",
       "      <td>0.996886</td>\n",
       "      <td>0.998951</td>\n",
       "      <td>0.686186</td>\n",
       "    </tr>\n",
       "    <tr>\n",
       "      <th>Low</th>\n",
       "      <td>0.997426</td>\n",
       "      <td>0.996886</td>\n",
       "      <td>1.000000</td>\n",
       "      <td>0.998088</td>\n",
       "      <td>0.645962</td>\n",
       "    </tr>\n",
       "    <tr>\n",
       "      <th>Close</th>\n",
       "      <td>0.997128</td>\n",
       "      <td>0.998951</td>\n",
       "      <td>0.998088</td>\n",
       "      <td>1.000000</td>\n",
       "      <td>0.673916</td>\n",
       "    </tr>\n",
       "    <tr>\n",
       "      <th>Volume</th>\n",
       "      <td>0.666252</td>\n",
       "      <td>0.686186</td>\n",
       "      <td>0.645962</td>\n",
       "      <td>0.673916</td>\n",
       "      <td>1.000000</td>\n",
       "    </tr>\n",
       "  </tbody>\n",
       "</table>\n",
       "</div>"
      ],
      "text/plain": [
       "            Open      High       Low     Close    Volume\n",
       "Open    1.000000  0.998453  0.997426  0.997128  0.666252\n",
       "High    0.998453  1.000000  0.996886  0.998951  0.686186\n",
       "Low     0.997426  0.996886  1.000000  0.998088  0.645962\n",
       "Close   0.997128  0.998951  0.998088  1.000000  0.673916\n",
       "Volume  0.666252  0.686186  0.645962  0.673916  1.000000"
      ]
     },
     "execution_count": 14,
     "metadata": {},
     "output_type": "execute_result"
    }
   ],
   "source": [
    "cardano_df.corr()"
   ]
  },
  {
   "cell_type": "code",
   "execution_count": 15,
   "metadata": {},
   "outputs": [
    {
     "data": {
      "image/png": "[encoded data removed]",
      "text/plain": [
       "<Figure size 900x900 with 30 Axes>"
      ]
     },
     "metadata": {
      "needs_background": "light"
     },
     "output_type": "display_data"
    }
   ],
   "source": [
    "sns.pairplot(cardano_df);"
   ]
  },
  {
   "cell_type": "code",
   "execution_count": 16,
   "metadata": {},
   "outputs": [
    {
     "data": {
      "image/png": "[encoded data removed]",
      "text/plain": [
       "<Figure size 432x288 with 2 Axes>"
      ]
     },
     "metadata": {
      "needs_background": "light"
     },
     "output_type": "display_data"
    }
   ],
   "source": [
    "sns.heatmap(cardano_df.corr(), annot=True);"
   ]
  },
  {
   "cell_type": "code",
   "execution_count": 17,
   "metadata": {},
   "outputs": [
    {
     "name": "stderr",
     "output_type": "stream",
     "text": [
      "C:\\Users\\david\\AppData\\Local\\Programs\\Python\\Python37\\lib\\site-packages\\seaborn\\distributions.py:2619: FutureWarning: `distplot` is a deprecated function and will be removed in a future version. Please adapt your code to use either `displot` (a figure-level function with similar flexibility) or `histplot` (an axes-level function for histograms).\n",
      "  warnings.warn(msg, FutureWarning)\n"
     ]
    },
    {
     "data": {
      "image/png": "[encoded data removed]",
      "text/plain": [
       "<Figure size 432x288 with 1 Axes>"
      ]
     },
     "metadata": {
      "needs_background": "light"
     },
     "output_type": "display_data"
    }
   ],
   "source": [
    "sns.distplot(cardano_df['Volume']);"
   ]
  },
  {
   "cell_type": "code",
   "execution_count": 18,
   "metadata": {},
   "outputs": [
    {
     "name": "stderr",
     "output_type": "stream",
     "text": [
      "C:\\Users\\david\\AppData\\Local\\Programs\\Python\\Python37\\lib\\site-packages\\seaborn\\distributions.py:2619: FutureWarning: `distplot` is a deprecated function and will be removed in a future version. Please adapt your code to use either `displot` (a figure-level function with similar flexibility) or `histplot` (an axes-level function for histograms).\n",
      "  warnings.warn(msg, FutureWarning)\n"
     ]
    },
    {
     "data": {
      "image/png": "[encoded data removed]",
      "text/plain": [
       "<Figure size 432x288 with 1 Axes>"
      ]
     },
     "metadata": {
      "needs_background": "light"
     },
     "output_type": "display_data"
    }
   ],
   "source": [
    "sns.distplot(cardano_df['Close']);"
   ]
  },
  {
   "cell_type": "markdown",
   "metadata": {},
   "source": [
    "## 1). MODELO DE REGRESIÓN LINEAL."
   ]
  },
  {
   "cell_type": "code",
   "execution_count": 19,
   "metadata": {},
   "outputs": [
    {
     "data": {
      "text/plain": [
       "Index(['Open', 'High', 'Low', 'Volume'], dtype='object')"
      ]
     },
     "execution_count": 19,
     "metadata": {},
     "output_type": "execute_result"
    }
   ],
   "source": [
    "X_cardano.columns\n"
   ]
  },
  {
   "cell_type": "code",
   "execution_count": 20,
   "metadata": {},
   "outputs": [],
   "source": [
    "from sklearn.model_selection import train_test_split\n",
    "\n",
    "X_train, X_test, y_train, y_test = train_test_split(X_cardano, y_cardano, test_size = 0.30, random_state = 42)"
   ]
  },
  {
   "cell_type": "code",
   "execution_count": 21,
   "metadata": {},
   "outputs": [
    {
     "name": "stdout",
     "output_type": "stream",
     "text": [
      "Total features shape: (1156, 4)\n",
      "Train features shape: (809, 4)\n",
      "Train target shape: (809,)\n",
      "Test features shape: (347, 4)\n",
      "Test target shape: (347,)\n"
     ]
    }
   ],
   "source": [
    "print(\"Total features shape:\", X_cardano.shape)\n",
    "print(\"Train features shape:\", X_train.shape)\n",
    "print(\"Train target shape:\", y_train.shape)\n",
    "print(\"Test features shape:\", X_test.shape)\n",
    "print(\"Test target shape:\", y_test.shape)"
   ]
  },
  {
   "cell_type": "code",
   "execution_count": 22,
   "metadata": {},
   "outputs": [
    {
     "data": {
      "text/plain": [
       "LinearRegression()"
      ]
     },
     "execution_count": 22,
     "metadata": {},
     "output_type": "execute_result"
    }
   ],
   "source": [
    "from sklearn.linear_model import LinearRegression\n",
    "lm = LinearRegression()\n",
    "lm.fit(X_train, y_train)"
   ]
  },
  {
   "cell_type": "code",
   "execution_count": 23,
   "metadata": {},
   "outputs": [
    {
     "name": "stdout",
     "output_type": "stream",
     "text": [
      "Intercepto: 0.0001258935347316914\n",
      "Coeficientes: [-4.78440712e-01  9.02346869e-01  5.62192620e-01  7.34634575e-13]\n"
     ]
    }
   ],
   "source": [
    "print('Intercepto:', lm.intercept_)\n",
    "print('Coeficientes:', lm.coef_)"
   ]
  },
  {
   "cell_type": "code",
   "execution_count": 24,
   "metadata": {},
   "outputs": [
    {
     "data": {
      "text/html": [
       "<div>\n",
       "<style scoped>\n",
       "    .dataframe tbody tr th:only-of-type {\n",
       "        vertical-align: middle;\n",
       "    }\n",
       "\n",
       "    .dataframe tbody tr th {\n",
       "        vertical-align: top;\n",
       "    }\n",
       "\n",
       "    .dataframe thead th {\n",
       "        text-align: right;\n",
       "    }\n",
       "</style>\n",
       "<table border=\"1\" class=\"dataframe\">\n",
       "  <thead>\n",
       "    <tr style=\"text-align: right;\">\n",
       "      <th></th>\n",
       "      <th>Coefficient</th>\n",
       "    </tr>\n",
       "  </thead>\n",
       "  <tbody>\n",
       "    <tr>\n",
       "      <th>Open</th>\n",
       "      <td>-4.784407e-01</td>\n",
       "    </tr>\n",
       "    <tr>\n",
       "      <th>High</th>\n",
       "      <td>9.023469e-01</td>\n",
       "    </tr>\n",
       "    <tr>\n",
       "      <th>Low</th>\n",
       "      <td>5.621926e-01</td>\n",
       "    </tr>\n",
       "    <tr>\n",
       "      <th>Volume</th>\n",
       "      <td>7.346346e-13</td>\n",
       "    </tr>\n",
       "  </tbody>\n",
       "</table>\n",
       "</div>"
      ],
      "text/plain": [
       "         Coefficient\n",
       "Open   -4.784407e-01\n",
       "High    9.023469e-01\n",
       "Low     5.621926e-01\n",
       "Volume  7.346346e-13"
      ]
     },
     "execution_count": 24,
     "metadata": {},
     "output_type": "execute_result"
    }
   ],
   "source": [
    "coeff_df = pd.DataFrame(lm.coef_,\n",
    "                        X_cardano.columns,\n",
    "                        columns=['Coefficient'])\n",
    "coeff_df"
   ]
  },
  {
   "cell_type": "code",
   "execution_count": 25,
   "metadata": {},
   "outputs": [
    {
     "data": {
      "text/html": [
       "<div>\n",
       "<style scoped>\n",
       "    .dataframe tbody tr th:only-of-type {\n",
       "        vertical-align: middle;\n",
       "    }\n",
       "\n",
       "    .dataframe tbody tr th {\n",
       "        vertical-align: top;\n",
       "    }\n",
       "\n",
       "    .dataframe thead th {\n",
       "        text-align: right;\n",
       "    }\n",
       "</style>\n",
       "<table border=\"1\" class=\"dataframe\">\n",
       "  <thead>\n",
       "    <tr style=\"text-align: right;\">\n",
       "      <th></th>\n",
       "      <th>Open</th>\n",
       "      <th>High</th>\n",
       "      <th>Low</th>\n",
       "      <th>Volume</th>\n",
       "    </tr>\n",
       "    <tr>\n",
       "      <th>Date</th>\n",
       "      <th></th>\n",
       "      <th></th>\n",
       "      <th></th>\n",
       "      <th></th>\n",
       "    </tr>\n",
       "  </thead>\n",
       "  <tbody>\n",
       "    <tr>\n",
       "      <th>2021-07-28</th>\n",
       "      <td>1.280826</td>\n",
       "      <td>1.316583</td>\n",
       "      <td>1.260048</td>\n",
       "      <td>1.793329e+09</td>\n",
       "    </tr>\n",
       "    <tr>\n",
       "      <th>2019-09-22</th>\n",
       "      <td>0.051894</td>\n",
       "      <td>0.051954</td>\n",
       "      <td>0.047857</td>\n",
       "      <td>8.615202e+07</td>\n",
       "    </tr>\n",
       "    <tr>\n",
       "      <th>2019-04-19</th>\n",
       "      <td>0.081739</td>\n",
       "      <td>0.081782</td>\n",
       "      <td>0.078210</td>\n",
       "      <td>8.264674e+07</td>\n",
       "    </tr>\n",
       "    <tr>\n",
       "      <th>2019-10-26</th>\n",
       "      <td>0.041220</td>\n",
       "      <td>0.043177</td>\n",
       "      <td>0.039668</td>\n",
       "      <td>1.228611e+08</td>\n",
       "    </tr>\n",
       "    <tr>\n",
       "      <th>2021-01-21</th>\n",
       "      <td>0.375449</td>\n",
       "      <td>0.378716</td>\n",
       "      <td>0.301401</td>\n",
       "      <td>3.567903e+09</td>\n",
       "    </tr>\n",
       "    <tr>\n",
       "      <th>...</th>\n",
       "      <td>...</td>\n",
       "      <td>...</td>\n",
       "      <td>...</td>\n",
       "      <td>...</td>\n",
       "    </tr>\n",
       "    <tr>\n",
       "      <th>2020-10-15</th>\n",
       "      <td>0.107217</td>\n",
       "      <td>0.107591</td>\n",
       "      <td>0.104979</td>\n",
       "      <td>5.621973e+08</td>\n",
       "    </tr>\n",
       "    <tr>\n",
       "      <th>2021-05-22</th>\n",
       "      <td>1.553113</td>\n",
       "      <td>1.601020</td>\n",
       "      <td>1.377943</td>\n",
       "      <td>6.572398e+09</td>\n",
       "    </tr>\n",
       "    <tr>\n",
       "      <th>2020-06-28</th>\n",
       "      <td>0.077679</td>\n",
       "      <td>0.081413</td>\n",
       "      <td>0.076251</td>\n",
       "      <td>1.888714e+08</td>\n",
       "    </tr>\n",
       "    <tr>\n",
       "      <th>2021-11-24</th>\n",
       "      <td>1.751246</td>\n",
       "      <td>1.752388</td>\n",
       "      <td>1.594203</td>\n",
       "      <td>1.983587e+09</td>\n",
       "    </tr>\n",
       "    <tr>\n",
       "      <th>2021-09-07</th>\n",
       "      <td>2.832807</td>\n",
       "      <td>2.872511</td>\n",
       "      <td>2.040953</td>\n",
       "      <td>1.170034e+10</td>\n",
       "    </tr>\n",
       "  </tbody>\n",
       "</table>\n",
       "<p>347 rows × 4 columns</p>\n",
       "</div>"
      ],
      "text/plain": [
       "                Open      High       Low        Volume\n",
       "Date                                                  \n",
       "2021-07-28  1.280826  1.316583  1.260048  1.793329e+09\n",
       "2019-09-22  0.051894  0.051954  0.047857  8.615202e+07\n",
       "2019-04-19  0.081739  0.081782  0.078210  8.264674e+07\n",
       "2019-10-26  0.041220  0.043177  0.039668  1.228611e+08\n",
       "2021-01-21  0.375449  0.378716  0.301401  3.567903e+09\n",
       "...              ...       ...       ...           ...\n",
       "2020-10-15  0.107217  0.107591  0.104979  5.621973e+08\n",
       "2021-05-22  1.553113  1.601020  1.377943  6.572398e+09\n",
       "2020-06-28  0.077679  0.081413  0.076251  1.888714e+08\n",
       "2021-11-24  1.751246  1.752388  1.594203  1.983587e+09\n",
       "2021-09-07  2.832807  2.872511  2.040953  1.170034e+10\n",
       "\n",
       "[347 rows x 4 columns]"
      ]
     },
     "execution_count": 25,
     "metadata": {},
     "output_type": "execute_result"
    }
   ],
   "source": [
    "X_test"
   ]
  },
  {
   "cell_type": "code",
   "execution_count": 26,
   "metadata": {},
   "outputs": [
    {
     "data": {
      "text/plain": [
       "array([1.28504833, 0.04914636, 0.07884416, 0.04175652, 0.33429551,\n",
       "       0.09020114, 1.69935232, 0.09157682, 1.30126487, 0.13119238,\n",
       "       0.03352711, 0.04249175, 0.08217221, 1.45460536, 0.0631213 ,\n",
       "       1.37321255, 0.43601556, 2.45228087, 3.02558402, 2.5958365 ,\n",
       "       1.84342794, 1.3184763 , 0.04737604, 0.09376547, 0.34665333,\n",
       "       0.13697645, 0.04867432, 0.0318198 , 0.04212695, 1.10915168,\n",
       "       0.05278724, 0.03340486, 0.04570709, 0.03859305, 2.29718354,\n",
       "       0.0826831 , 0.94314642, 1.17844289, 1.18626896, 0.03919132,\n",
       "       1.27782401, 1.43067693, 2.15412059, 0.09551242, 0.10022466,\n",
       "       0.03499427, 1.5595579 , 1.3186449 , 0.04100327, 2.427866  ,\n",
       "       2.37717615, 0.11613411, 0.08389501, 0.06654036, 0.04541302,\n",
       "       0.63621872, 0.05884005, 0.02858346, 0.04652437, 0.04310909,\n",
       "       0.04141314, 0.07933585, 1.95873144, 0.05777907, 0.08596309,\n",
       "       0.10561766, 0.14594359, 1.02676254, 1.18275008, 0.17713308,\n",
       "       0.06620254, 0.08564694, 1.0623492 , 0.04389148, 0.03698177,\n",
       "       0.08595878, 1.2415146 , 1.22341414, 0.03900383, 0.11872363,\n",
       "       0.0482551 , 1.09362011, 0.03867589, 0.07712039, 0.94181015,\n",
       "       1.1103956 , 0.09855874, 1.19179486, 0.05125985, 0.04549688,\n",
       "       0.08253448, 0.0443343 , 1.82716862, 0.03883829, 0.14014816,\n",
       "       0.03875522, 0.06136418, 0.08272017, 0.03230138, 0.0335997 ,\n",
       "       1.42461314, 0.09051968, 0.09466166, 2.69076055, 0.03883835,\n",
       "       0.03843956, 1.11308206, 0.04364027, 0.0605082 , 0.13022754,\n",
       "       1.19124867, 0.16437542, 0.0450274 , 0.04966478, 0.07139626,\n",
       "       0.10612404, 0.05571473, 0.0749348 , 0.04415435, 0.04462877,\n",
       "       0.14481294, 1.21158893, 0.09215076, 0.03412402, 0.03293896,\n",
       "       1.05889341, 0.03455596, 0.92766262, 0.0493729 , 0.04862824,\n",
       "       2.1322632 , 0.03691898, 1.53185561, 0.04304667, 0.15039383,\n",
       "       0.05986354, 0.04948728, 0.03585464, 1.48080236, 0.04963662,\n",
       "       0.3516338 , 0.07901437, 0.03314267, 1.21748412, 0.25178459,\n",
       "       1.30578581, 0.13561412, 0.31258802, 0.15719327, 0.05505031,\n",
       "       2.32364494, 1.178782  , 0.04255409, 0.04742859, 1.03473531,\n",
       "       0.03154579, 0.06134812, 0.03769475, 2.29414902, 2.1138243 ,\n",
       "       0.03340298, 0.13832456, 2.09964704, 1.01968227, 1.38967984,\n",
       "       1.1330615 , 0.32892489, 0.0502849 , 0.10657914, 0.08131199,\n",
       "       0.10903608, 0.09625699, 1.29878772, 0.14500295, 0.08396071,\n",
       "       1.19500362, 2.19308029, 0.03667761, 0.08622213, 0.05574677,\n",
       "       1.07418558, 1.27049004, 0.08968112, 0.0575736 , 0.04511182,\n",
       "       0.14246848, 0.04344081, 0.04093057, 1.92014903, 0.04958693,\n",
       "       0.04266199, 2.73029846, 0.17866366, 1.39000877, 0.08216551,\n",
       "       0.03917407, 0.08983078, 1.27940841, 0.91538859, 0.05620479,\n",
       "       0.08103268, 0.05243943, 0.05144474, 0.05399897, 0.12404729,\n",
       "       0.04200029, 0.07948796, 0.69421452, 0.04028528, 0.03929098,\n",
       "       1.50692991, 0.09335834, 0.04796067, 1.46230445, 0.03821817,\n",
       "       0.12409187, 1.64039746, 0.0816341 , 0.03717757, 1.94550964,\n",
       "       0.04331305, 0.04866774, 0.11552075, 0.0780398 , 1.01907488,\n",
       "       0.33828096, 1.2439563 , 1.1173897 , 0.06559212, 0.04179366,\n",
       "       1.4550784 , 2.08309386, 0.04261828, 0.04140044, 0.03925815,\n",
       "       1.32868237, 0.04062112, 1.42705039, 0.03687948, 0.04915284,\n",
       "       0.09055005, 0.09229364, 0.14789647, 0.15527879, 0.04341797,\n",
       "       0.05035983, 0.14134835, 0.03868349, 1.33000978, 0.96898282,\n",
       "       1.42555971, 1.17747001, 0.04104271, 0.03956238, 0.09892066,\n",
       "       0.14340585, 0.05102363, 0.04286302, 0.04297947, 0.3035597 ,\n",
       "       1.34065201, 0.04351589, 0.058294  , 0.1386779 , 0.03651398,\n",
       "       0.33626668, 1.97204409, 0.0570198 , 2.90345652, 0.10660938,\n",
       "       0.02851572, 2.16080015, 1.25756277, 0.0777956 , 0.03816556,\n",
       "       0.04470757, 0.05105286, 1.44617202, 0.04449297, 0.04869789,\n",
       "       1.35229254, 0.04124957, 0.14013681, 0.05734859, 0.10872074,\n",
       "       0.1364236 , 1.50877324, 1.30964976, 2.17586722, 0.16241138,\n",
       "       0.04131072, 2.2545276 , 0.0361575 , 2.56018921, 0.03377577,\n",
       "       0.04500397, 0.03810457, 0.04240786, 0.12443038, 0.04073327,\n",
       "       0.0817152 , 0.04603135, 0.02585228, 0.05837463, 0.06906414,\n",
       "       0.13023875, 0.05095061, 2.50093042, 0.04730511, 2.14082587,\n",
       "       0.10704289, 0.06597285, 1.14395298, 0.85854404, 2.047388  ,\n",
       "       0.09374637, 0.04284647, 0.06974748, 1.85048501, 0.04406294,\n",
       "       0.31069486, 0.35774535, 0.09203121, 0.08329972, 2.18737354,\n",
       "       1.95572521, 0.04353227, 0.10268361, 0.08266255, 1.13369248,\n",
       "       0.03853191, 1.58372234, 0.0408956 , 0.36174211, 0.17979821,\n",
       "       1.65188535, 0.09770545, 0.08373661, 1.3304081 , 0.11080767,\n",
       "       0.07627955, 1.30596895, 0.10534475, 1.48122649, 0.07943036,\n",
       "       1.64122672, 2.39280103])"
      ]
     },
     "execution_count": 26,
     "metadata": {},
     "output_type": "execute_result"
    }
   ],
   "source": [
    "predictions = lm.predict(X_test)\n",
    "predictions"
   ]
  },
  {
   "cell_type": "code",
   "execution_count": 27,
   "metadata": {},
   "outputs": [
    {
     "name": "stderr",
     "output_type": "stream",
     "text": [
      "C:\\Users\\david\\AppData\\Local\\Programs\\Python\\Python37\\lib\\site-packages\\seaborn\\_decorators.py:43: FutureWarning: Pass the following variables as keyword args: x, y. From version 0.12, the only valid positional argument will be `data`, and passing other arguments without an explicit keyword will result in an error or misinterpretation.\n",
      "  FutureWarning\n"
     ]
    },
    {
     "data": {
      "image/png": "[encoded data removed]",
      "text/plain": [
       "<Figure size 432x288 with 1 Axes>"
      ]
     },
     "metadata": {
      "needs_background": "light"
     },
     "output_type": "display_data"
    }
   ],
   "source": [
    "sns.scatterplot(y_test, predictions);"
   ]
  },
  {
   "cell_type": "code",
   "execution_count": 28,
   "metadata": {},
   "outputs": [
    {
     "name": "stderr",
     "output_type": "stream",
     "text": [
      "C:\\Users\\david\\AppData\\Local\\Programs\\Python\\Python37\\lib\\site-packages\\sklearn\\base.py:451: UserWarning: X does not have valid feature names, but LinearRegression was fitted with feature names\n",
      "  \"X does not have valid feature names, but\"\n"
     ]
    },
    {
     "data": {
      "text/plain": [
       "array([1.19604874, 0.65281857])"
      ]
     },
     "execution_count": 28,
     "metadata": {},
     "output_type": "execute_result"
    }
   ],
   "source": [
    "new_price = np.array([[1.5, 0.75, 2.20, 0.17],\n",
    "                    [2, 0.60, 1.90, 0.01]])\n",
    "\n",
    "lm.predict(new_price)"
   ]
  },
  {
   "cell_type": "code",
   "execution_count": 29,
   "metadata": {},
   "outputs": [
    {
     "name": "stderr",
     "output_type": "stream",
     "text": [
      "C:\\Users\\david\\AppData\\Local\\Programs\\Python\\Python37\\lib\\site-packages\\seaborn\\distributions.py:2619: FutureWarning: `distplot` is a deprecated function and will be removed in a future version. Please adapt your code to use either `displot` (a figure-level function with similar flexibility) or `histplot` (an axes-level function for histograms).\n",
      "  warnings.warn(msg, FutureWarning)\n"
     ]
    },
    {
     "data": {
      "text/plain": [
       "<AxesSubplot:xlabel='Close', ylabel='Density'>"
      ]
     },
     "execution_count": 29,
     "metadata": {},
     "output_type": "execute_result"
    },
    {
     "data": {
      "image/png": "[encoded data removed]",
      "text/plain": [
       "<Figure size 432x288 with 1 Axes>"
      ]
     },
     "metadata": {
      "needs_background": "light"
     },
     "output_type": "display_data"
    }
   ],
   "source": [
    "sns.distplot((y_test - predictions))"
   ]
  },
  {
   "cell_type": "code",
   "execution_count": 30,
   "metadata": {},
   "outputs": [
    {
     "data": {
      "text/plain": [
       "0.9991589799134898"
      ]
     },
     "execution_count": 30,
     "metadata": {},
     "output_type": "execute_result"
    }
   ],
   "source": [
    "from sklearn import metrics\n",
    "\n",
    "lm.score(X_test, y_test)\n"
   ]
  },
  {
   "cell_type": "code",
   "execution_count": 31,
   "metadata": {},
   "outputs": [
    {
     "name": "stdout",
     "output_type": "stream",
     "text": [
      "MAE: 0.010007267318704929\n",
      "MSE: 0.00047030234501160633\n",
      "RMSE: 0.021686455335337914\n"
     ]
    }
   ],
   "source": [
    "print('MAE:', metrics.mean_absolute_error(y_test, predictions))\n",
    "print('MSE:', metrics.mean_squared_error(y_test, predictions))\n",
    "print('RMSE:', np.sqrt(metrics.mean_squared_error(y_test, predictions)))"
   ]
  },
  {
   "cell_type": "code",
   "execution_count": 32,
   "metadata": {},
   "outputs": [
    {
     "data": {
      "text/html": [
       "<div>\n",
       "<style scoped>\n",
       "    .dataframe tbody tr th:only-of-type {\n",
       "        vertical-align: middle;\n",
       "    }\n",
       "\n",
       "    .dataframe tbody tr th {\n",
       "        vertical-align: top;\n",
       "    }\n",
       "\n",
       "    .dataframe thead th {\n",
       "        text-align: right;\n",
       "    }\n",
       "</style>\n",
       "<table border=\"1\" class=\"dataframe\">\n",
       "  <thead>\n",
       "    <tr style=\"text-align: right;\">\n",
       "      <th></th>\n",
       "      <th>coefficient</th>\n",
       "    </tr>\n",
       "  </thead>\n",
       "  <tbody>\n",
       "    <tr>\n",
       "      <th>Open</th>\n",
       "      <td>-4.784407e-01</td>\n",
       "    </tr>\n",
       "    <tr>\n",
       "      <th>Volume</th>\n",
       "      <td>7.346346e-13</td>\n",
       "    </tr>\n",
       "    <tr>\n",
       "      <th>Low</th>\n",
       "      <td>5.621926e-01</td>\n",
       "    </tr>\n",
       "    <tr>\n",
       "      <th>High</th>\n",
       "      <td>9.023469e-01</td>\n",
       "    </tr>\n",
       "  </tbody>\n",
       "</table>\n",
       "</div>"
      ],
      "text/plain": [
       "         coefficient\n",
       "Open   -4.784407e-01\n",
       "Volume  7.346346e-13\n",
       "Low     5.621926e-01\n",
       "High    9.023469e-01"
      ]
     },
     "execution_count": 32,
     "metadata": {},
     "output_type": "execute_result"
    }
   ],
   "source": [
    "intercept = lm.intercept_\n",
    "features = pd.DataFrame(lm.coef_, X_train.columns, columns=['coefficient'])\n",
    "features.head().sort_values('coefficient', ascending=True)"
   ]
  },
  {
   "cell_type": "code",
   "execution_count": 33,
   "metadata": {},
   "outputs": [
    {
     "data": {
      "text/html": [
       "<div>\n",
       "<style scoped>\n",
       "    .dataframe tbody tr th:only-of-type {\n",
       "        vertical-align: middle;\n",
       "    }\n",
       "\n",
       "    .dataframe tbody tr th {\n",
       "        vertical-align: top;\n",
       "    }\n",
       "\n",
       "    .dataframe thead th {\n",
       "        text-align: right;\n",
       "    }\n",
       "</style>\n",
       "<table border=\"1\" class=\"dataframe\">\n",
       "  <thead>\n",
       "    <tr style=\"text-align: right;\">\n",
       "      <th></th>\n",
       "      <th>Coefficient</th>\n",
       "    </tr>\n",
       "  </thead>\n",
       "  <tbody>\n",
       "    <tr>\n",
       "      <th>High</th>\n",
       "      <td>0.709959</td>\n",
       "    </tr>\n",
       "    <tr>\n",
       "      <th>Low</th>\n",
       "      <td>0.405932</td>\n",
       "    </tr>\n",
       "    <tr>\n",
       "      <th>Volume</th>\n",
       "      <td>0.001764</td>\n",
       "    </tr>\n",
       "    <tr>\n",
       "      <th>Open</th>\n",
       "      <td>-0.361392</td>\n",
       "    </tr>\n",
       "  </tbody>\n",
       "</table>\n",
       "</div>"
      ],
      "text/plain": [
       "        Coefficient\n",
       "High       0.709959\n",
       "Low        0.405932\n",
       "Volume     0.001764\n",
       "Open      -0.361392"
      ]
     },
     "execution_count": 33,
     "metadata": {},
     "output_type": "execute_result"
    }
   ],
   "source": [
    "from sklearn import preprocessing\n",
    "\n",
    "std_scale = preprocessing.StandardScaler().fit(X_train)\n",
    "X_train_scal = std_scale.transform(X_train)\n",
    "\n",
    "lm_scal = LinearRegression()\n",
    "lm_scal.fit(X_train_scal, y_train)\n",
    "\n",
    "intercept_scal = lm_scal.intercept_\n",
    "features_std = pd.DataFrame(lm_scal.coef_, X_train.columns, columns=['Coefficient'])\n",
    "\n",
    "features_std.sort_values('Coefficient', ascending=False)"
   ]
  },
  {
   "cell_type": "code",
   "execution_count": 34,
   "metadata": {},
   "outputs": [
    {
     "data": {
      "text/html": [
       "<div>\n",
       "<style scoped>\n",
       "    .dataframe tbody tr th:only-of-type {\n",
       "        vertical-align: middle;\n",
       "    }\n",
       "\n",
       "    .dataframe tbody tr th {\n",
       "        vertical-align: top;\n",
       "    }\n",
       "\n",
       "    .dataframe thead th {\n",
       "        text-align: right;\n",
       "    }\n",
       "</style>\n",
       "<table border=\"1\" class=\"dataframe\">\n",
       "  <thead>\n",
       "    <tr style=\"text-align: right;\">\n",
       "      <th></th>\n",
       "      <th>Open</th>\n",
       "      <th>High</th>\n",
       "      <th>Low</th>\n",
       "      <th>Close</th>\n",
       "      <th>Volume</th>\n",
       "    </tr>\n",
       "  </thead>\n",
       "  <tbody>\n",
       "    <tr>\n",
       "      <th>count</th>\n",
       "      <td>1156.000000</td>\n",
       "      <td>1156.000000</td>\n",
       "      <td>1156.000000</td>\n",
       "      <td>1156.000000</td>\n",
       "      <td>1.156000e+03</td>\n",
       "    </tr>\n",
       "    <tr>\n",
       "      <th>mean</th>\n",
       "      <td>0.575260</td>\n",
       "      <td>0.600385</td>\n",
       "      <td>0.548764</td>\n",
       "      <td>0.576098</td>\n",
       "      <td>1.584145e+09</td>\n",
       "    </tr>\n",
       "    <tr>\n",
       "      <th>std</th>\n",
       "      <td>0.753889</td>\n",
       "      <td>0.785826</td>\n",
       "      <td>0.719761</td>\n",
       "      <td>0.753961</td>\n",
       "      <td>2.476968e+09</td>\n",
       "    </tr>\n",
       "    <tr>\n",
       "      <th>min</th>\n",
       "      <td>0.023954</td>\n",
       "      <td>0.025993</td>\n",
       "      <td>0.019130</td>\n",
       "      <td>0.023961</td>\n",
       "      <td>1.101152e+07</td>\n",
       "    </tr>\n",
       "    <tr>\n",
       "      <th>25%</th>\n",
       "      <td>0.049002</td>\n",
       "      <td>0.050907</td>\n",
       "      <td>0.047481</td>\n",
       "      <td>0.049085</td>\n",
       "      <td>8.332471e+07</td>\n",
       "    </tr>\n",
       "    <tr>\n",
       "      <th>50%</th>\n",
       "      <td>0.096648</td>\n",
       "      <td>0.099720</td>\n",
       "      <td>0.093302</td>\n",
       "      <td>0.096611</td>\n",
       "      <td>3.720917e+08</td>\n",
       "    </tr>\n",
       "    <tr>\n",
       "      <th>75%</th>\n",
       "      <td>1.194753</td>\n",
       "      <td>1.244208</td>\n",
       "      <td>1.156850</td>\n",
       "      <td>1.195498</td>\n",
       "      <td>2.147296e+09</td>\n",
       "    </tr>\n",
       "    <tr>\n",
       "      <th>max</th>\n",
       "      <td>2.966390</td>\n",
       "      <td>3.099186</td>\n",
       "      <td>2.907606</td>\n",
       "      <td>2.968239</td>\n",
       "      <td>1.914198e+10</td>\n",
       "    </tr>\n",
       "  </tbody>\n",
       "</table>\n",
       "</div>"
      ],
      "text/plain": [
       "              Open         High          Low        Close        Volume\n",
       "count  1156.000000  1156.000000  1156.000000  1156.000000  1.156000e+03\n",
       "mean      0.575260     0.600385     0.548764     0.576098  1.584145e+09\n",
       "std       0.753889     0.785826     0.719761     0.753961  2.476968e+09\n",
       "min       0.023954     0.025993     0.019130     0.023961  1.101152e+07\n",
       "25%       0.049002     0.050907     0.047481     0.049085  8.332471e+07\n",
       "50%       0.096648     0.099720     0.093302     0.096611  3.720917e+08\n",
       "75%       1.194753     1.244208     1.156850     1.195498  2.147296e+09\n",
       "max       2.966390     3.099186     2.907606     2.968239  1.914198e+10"
      ]
     },
     "execution_count": 34,
     "metadata": {},
     "output_type": "execute_result"
    }
   ],
   "source": [
    "cardano_df.describe()"
   ]
  },
  {
   "cell_type": "code",
   "execution_count": 35,
   "metadata": {},
   "outputs": [
    {
     "name": "stdout",
     "output_type": "stream",
     "text": [
      "MAE: 0.010007267318704929\n",
      "MSE: 0.00047030234501160633\n",
      "RMSE: 0.021686455335337914\n"
     ]
    }
   ],
   "source": [
    "X = cardano_df[['Open', 'High', 'Low', 'Volume']]\n",
    "\n",
    "y = cardano_df['Close']\n",
    "\n",
    "\n",
    "from sklearn.model_selection import train_test_split\n",
    "\n",
    "X_train, X_test, y_train, y_test = train_test_split(X,\n",
    "                                                    y,\n",
    "                                                    test_size=0.3,\n",
    "                                                    random_state=42)\n",
    "\n",
    "lr = LinearRegression(n_jobs=-1) \n",
    "lr.fit(X_train, y_train)\n",
    "\n",
    "predictions = lm.predict(X_test)\n",
    "predictions\n",
    "lr.fit(X, y)\n",
    "\n",
    "# A little bit lower without Avg. Area Number of Bedrooms\n",
    "print('MAE:', metrics.mean_absolute_error(y_test, predictions))\n",
    "print('MSE:', metrics.mean_squared_error(y_test, predictions))\n",
    "print('RMSE:', np.sqrt(metrics.mean_squared_error(y_test, predictions)))"
   ]
  },
  {
   "cell_type": "code",
   "execution_count": 36,
   "metadata": {},
   "outputs": [],
   "source": [
    "from sklearn.linear_model import LogisticRegression\n",
    "from sklearn.metrics import accuracy_score, f1_score, precision_score, recall_score,\\\n",
    "                            roc_auc_score, roc_curve, precision_recall_curve, confusion_matrix"
   ]
  },
  {
   "cell_type": "code",
   "execution_count": 37,
   "metadata": {},
   "outputs": [],
   "source": [
    "# Load libraries\n",
    "import numpy as np\n",
    "import pickle\n",
    "from sklearn import datasets\n",
    "from sklearn.linear_model import LogisticRegression\n",
    "from sklearn.ensemble import RandomForestClassifier\n",
    "from sklearn.model_selection import GridSearchCV\n",
    "from sklearn.pipeline import Pipeline\n",
    "from sklearn.model_selection import RepeatedKFold\n",
    "from sklearn.model_selection import train_test_split \n",
    "from sklearn.preprocessing import StandardScaler\n",
    "from sklearn.impute import SimpleImputer\n",
    "from sklearn.pipeline import Pipeline\n",
    "from sklearn.model_selection import GridSearchCV\n",
    "from sklearn.feature_selection import SelectKBest\n",
    "from sklearn.model_selection import GridSearchCV\n",
    "from sklearn.metrics import accuracy_score\n",
    "\n",
    "import pandas as pd\n",
    "import numpy as np\n",
    "\n",
    "from sklearn.svm import SVC\n",
    "from sklearn.linear_model import LogisticRegression\n",
    "from sklearn.ensemble import RandomForestClassifier\n",
    "# Set random seed\n",
    "np.random.seed(42)"
   ]
  },
  {
   "cell_type": "code",
   "execution_count": 38,
   "metadata": {},
   "outputs": [],
   "source": [
    "def my_function(df):\n",
    "    df['columna1'] = SimpleImputer(strategy='mean')\n",
    "    df['columna2'] = SimpleImputer(strategy='median')\n",
    "    return df"
   ]
  },
  {
   "cell_type": "code",
   "execution_count": 39,
   "metadata": {},
   "outputs": [],
   "source": [
    "reg_log = Pipeline(steps = [\n",
    "    (\"imputer\", SimpleImputer()),\n",
    "    (\"scaler\", StandardScaler()),\n",
    "    (\"reglog\", LogisticRegression())\n",
    "])\n",
    "reg_log_param = {\n",
    "    \"imputer__strategy\": ['mean', 'median'],\n",
    "    \"reglog__penalty\": ['l1', 'l2'],\n",
    "    \"reglog__C\": np.logspace(0, 4, 10)\n",
    "}"
   ]
  },
  {
   "cell_type": "code",
   "execution_count": 40,
   "metadata": {},
   "outputs": [],
   "source": [
    "def preprocessing(df):\n",
    "    df = imputacion(df)\n",
    "    df = estandarizar(df)\n",
    "    modelo.fit(df)\n",
    "    return model"
   ]
  },
  {
   "cell_type": "code",
   "execution_count": 41,
   "metadata": {},
   "outputs": [
    {
     "data": {
      "text/html": [
       "<div>\n",
       "<style scoped>\n",
       "    .dataframe tbody tr th:only-of-type {\n",
       "        vertical-align: middle;\n",
       "    }\n",
       "\n",
       "    .dataframe tbody tr th {\n",
       "        vertical-align: top;\n",
       "    }\n",
       "\n",
       "    .dataframe thead th {\n",
       "        text-align: right;\n",
       "    }\n",
       "</style>\n",
       "<table border=\"1\" class=\"dataframe\">\n",
       "  <thead>\n",
       "    <tr style=\"text-align: right;\">\n",
       "      <th></th>\n",
       "      <th>Open</th>\n",
       "      <th>High</th>\n",
       "      <th>Low</th>\n",
       "      <th>Close</th>\n",
       "      <th>Volume</th>\n",
       "    </tr>\n",
       "    <tr>\n",
       "      <th>Date</th>\n",
       "      <th></th>\n",
       "      <th></th>\n",
       "      <th></th>\n",
       "      <th></th>\n",
       "      <th></th>\n",
       "    </tr>\n",
       "  </thead>\n",
       "  <tbody>\n",
       "    <tr>\n",
       "      <th>2018-12-31</th>\n",
       "      <td>0.043232</td>\n",
       "      <td>0.043364</td>\n",
       "      <td>0.040493</td>\n",
       "      <td>0.041063</td>\n",
       "      <td>1.928046e+07</td>\n",
       "    </tr>\n",
       "    <tr>\n",
       "      <th>2019-01-01</th>\n",
       "      <td>0.040984</td>\n",
       "      <td>0.042547</td>\n",
       "      <td>0.040308</td>\n",
       "      <td>0.042547</td>\n",
       "      <td>1.496290e+07</td>\n",
       "    </tr>\n",
       "    <tr>\n",
       "      <th>2019-01-02</th>\n",
       "      <td>0.042568</td>\n",
       "      <td>0.045563</td>\n",
       "      <td>0.041982</td>\n",
       "      <td>0.045258</td>\n",
       "      <td>2.415153e+07</td>\n",
       "    </tr>\n",
       "    <tr>\n",
       "      <th>2019-01-03</th>\n",
       "      <td>0.045106</td>\n",
       "      <td>0.045259</td>\n",
       "      <td>0.042535</td>\n",
       "      <td>0.042682</td>\n",
       "      <td>2.112696e+07</td>\n",
       "    </tr>\n",
       "    <tr>\n",
       "      <th>2019-01-04</th>\n",
       "      <td>0.042629</td>\n",
       "      <td>0.044092</td>\n",
       "      <td>0.042477</td>\n",
       "      <td>0.043812</td>\n",
       "      <td>1.602403e+07</td>\n",
       "    </tr>\n",
       "    <tr>\n",
       "      <th>...</th>\n",
       "      <td>...</td>\n",
       "      <td>...</td>\n",
       "      <td>...</td>\n",
       "      <td>...</td>\n",
       "      <td>...</td>\n",
       "    </tr>\n",
       "    <tr>\n",
       "      <th>2022-02-24</th>\n",
       "      <td>0.868515</td>\n",
       "      <td>0.882342</td>\n",
       "      <td>0.752810</td>\n",
       "      <td>0.853425</td>\n",
       "      <td>3.629368e+09</td>\n",
       "    </tr>\n",
       "    <tr>\n",
       "      <th>2022-02-25</th>\n",
       "      <td>0.853572</td>\n",
       "      <td>0.906541</td>\n",
       "      <td>0.829244</td>\n",
       "      <td>0.898027</td>\n",
       "      <td>1.652894e+09</td>\n",
       "    </tr>\n",
       "    <tr>\n",
       "      <th>2022-02-26</th>\n",
       "      <td>0.897996</td>\n",
       "      <td>0.928296</td>\n",
       "      <td>0.885401</td>\n",
       "      <td>0.887918</td>\n",
       "      <td>1.099935e+09</td>\n",
       "    </tr>\n",
       "    <tr>\n",
       "      <th>2022-02-27</th>\n",
       "      <td>0.887788</td>\n",
       "      <td>0.912676</td>\n",
       "      <td>0.840146</td>\n",
       "      <td>0.858335</td>\n",
       "      <td>1.278511e+09</td>\n",
       "    </tr>\n",
       "    <tr>\n",
       "      <th>2022-02-28</th>\n",
       "      <td>0.857870</td>\n",
       "      <td>0.967613</td>\n",
       "      <td>0.845040</td>\n",
       "      <td>0.959828</td>\n",
       "      <td>1.779202e+09</td>\n",
       "    </tr>\n",
       "  </tbody>\n",
       "</table>\n",
       "<p>1156 rows × 5 columns</p>\n",
       "</div>"
      ],
      "text/plain": [
       "                Open      High       Low     Close        Volume\n",
       "Date                                                            \n",
       "2018-12-31  0.043232  0.043364  0.040493  0.041063  1.928046e+07\n",
       "2019-01-01  0.040984  0.042547  0.040308  0.042547  1.496290e+07\n",
       "2019-01-02  0.042568  0.045563  0.041982  0.045258  2.415153e+07\n",
       "2019-01-03  0.045106  0.045259  0.042535  0.042682  2.112696e+07\n",
       "2019-01-04  0.042629  0.044092  0.042477  0.043812  1.602403e+07\n",
       "...              ...       ...       ...       ...           ...\n",
       "2022-02-24  0.868515  0.882342  0.752810  0.853425  3.629368e+09\n",
       "2022-02-25  0.853572  0.906541  0.829244  0.898027  1.652894e+09\n",
       "2022-02-26  0.897996  0.928296  0.885401  0.887918  1.099935e+09\n",
       "2022-02-27  0.887788  0.912676  0.840146  0.858335  1.278511e+09\n",
       "2022-02-28  0.857870  0.967613  0.845040  0.959828  1.779202e+09\n",
       "\n",
       "[1156 rows x 5 columns]"
      ]
     },
     "execution_count": 41,
     "metadata": {},
     "output_type": "execute_result"
    }
   ],
   "source": [
    "cardano_df"
   ]
  },
  {
   "cell_type": "code",
   "execution_count": 42,
   "metadata": {},
   "outputs": [
    {
     "data": {
      "text/plain": [
       "LogisticRegression(C=1, solver='liblinear')"
      ]
     },
     "execution_count": 42,
     "metadata": {},
     "output_type": "execute_result"
    }
   ],
   "source": [
    "reg_log = Pipeline(steps = [\n",
    "    (\"imputer\", SimpleImputer()),\n",
    "    (\"scaler\", StandardScaler()),\n",
    "    # (\"funcion\", my_function())\n",
    "    (\"reglog\", LogisticRegression())\n",
    "])\n",
    "\n",
    "rand_forest = RandomForestClassifier()\n",
    "\n",
    "svm = Pipeline(steps=[\n",
    "    (\"scaler\", StandardScaler()),\n",
    "    (\"selectkbest\", SelectKBest()),\n",
    "    (\"svm\", SVC())\n",
    "])\n",
    "\n",
    "\n",
    "reg_log_param = {\n",
    "    \"imputer__strategy\": ['mean', 'median'],\n",
    "    \"reglog__penalty\": ['l1', 'l2'],\n",
    "    \"reglog__C\": np.logspace(0, 4, 10)\n",
    "}\n",
    "rand_forest_param = {\n",
    "    \"n_estimators\": [10, 100, 1000],\n",
    "    \"max_features\": [1,2,3]\n",
    "}\n",
    "svm_param = {\n",
    "    'selectkbest__k': [2, 3, 4],\n",
    "    'svm__kernel': ['linear', 'rbf', 'sigmoid', 'poly'],\n",
    "    'svm__C': [0.001, 0.1, 0.5, 1, 5, 10, 100],\n",
    "    'svm__degree': [1,2,3,4],\n",
    "    'svm__gamma': ['scale', 'auto']\n",
    "}\n",
    "\n",
    "\n",
    "gs_reg_log = GridSearchCV(reg_log,\n",
    "                         reg_log_param,\n",
    "                         cv = 10,\n",
    "                         scoring = 'accuracy',\n",
    "                         verbose = 1,\n",
    "                         n_jobs = -1)\n",
    "\n",
    "gs_rand_forest = GridSearchCV(rand_forest,\n",
    "                         rand_forest_param,\n",
    "                         cv = 10,\n",
    "                         scoring = 'accuracy',\n",
    "                         verbose = 1,\n",
    "                         n_jobs = -1)\n",
    "\n",
    "gs_svm = GridSearchCV(svm,\n",
    "                         svm_param,\n",
    "                         cv = 10,\n",
    "                         scoring = 'accuracy',\n",
    "                         verbose = 1,\n",
    "                         n_jobs = -1)\n",
    "\n",
    "grids = {\"gs_reg_log\": gs_reg_log,\n",
    "        \"gs_rand_forest\": gs_rand_forest,\n",
    "        \"gs_svm\": gs_svm}\n",
    "\n",
    "LogisticRegression(C=1, penalty='l2', solver='liblinear')"
   ]
  },
  {
   "cell_type": "code",
   "execution_count": 43,
   "metadata": {},
   "outputs": [],
   "source": [
    "X_train, X_test, y_train, y_test = train_test_split(X,\n",
    "                                                    y,\n",
    "                                                    test_size=0.3,\n",
    "                                                    random_state=42)"
   ]
  },
  {
   "cell_type": "code",
   "execution_count": 44,
   "metadata": {},
   "outputs": [
    {
     "ename": "AttributeError",
     "evalue": "'GridSearchCV' object has no attribute 'best_score_'",
     "output_type": "error",
     "traceback": [
      "\u001b[1;31m---------------------------------------------------------------------------\u001b[0m",
      "\u001b[1;31mAttributeError\u001b[0m                            Traceback (most recent call last)",
      "\u001b[1;32m~\\AppData\\Local\\Temp\\ipykernel_23280\\2929057368.py\u001b[0m in \u001b[0;36m<module>\u001b[1;34m\u001b[0m\n\u001b[1;32m----> 1\u001b[1;33m \u001b[0mprint\u001b[0m\u001b[1;33m(\u001b[0m\u001b[0mgs_reg_log\u001b[0m\u001b[1;33m.\u001b[0m\u001b[0mbest_score_\u001b[0m\u001b[1;33m)\u001b[0m\u001b[1;33m\u001b[0m\u001b[1;33m\u001b[0m\u001b[0m\n\u001b[0m\u001b[0;32m      2\u001b[0m \u001b[0mprint\u001b[0m\u001b[1;33m(\u001b[0m\u001b[0mgs_reg_log\u001b[0m\u001b[1;33m.\u001b[0m\u001b[0mbest_params_\u001b[0m\u001b[1;33m)\u001b[0m\u001b[1;33m\u001b[0m\u001b[1;33m\u001b[0m\u001b[0m\n\u001b[0;32m      3\u001b[0m \u001b[0mprint\u001b[0m\u001b[1;33m(\u001b[0m\u001b[0mgs_reg_log\u001b[0m\u001b[1;33m.\u001b[0m\u001b[0mbest_estimator_\u001b[0m\u001b[1;33m)\u001b[0m\u001b[1;33m\u001b[0m\u001b[1;33m\u001b[0m\u001b[0m\n\u001b[0;32m      4\u001b[0m \u001b[0mprint\u001b[0m\u001b[1;33m(\u001b[0m\u001b[0mgs_reg_log\u001b[0m\u001b[1;33m.\u001b[0m\u001b[0mbest_estimator_\u001b[0m\u001b[1;33m[\u001b[0m\u001b[1;34m'reglog'\u001b[0m\u001b[1;33m]\u001b[0m\u001b[1;33m)\u001b[0m\u001b[1;33m\u001b[0m\u001b[1;33m\u001b[0m\u001b[0m\n",
      "\u001b[1;31mAttributeError\u001b[0m: 'GridSearchCV' object has no attribute 'best_score_'"
     ]
    }
   ],
   "source": [
    "print(gs_reg_log.best_score_)\n",
    "print(gs_reg_log.best_params_)\n",
    "print(gs_reg_log.best_estimator_)\n",
    "print(gs_reg_log.best_estimator_['reglog'])"
   ]
  },
  {
   "cell_type": "code",
   "execution_count": 45,
   "metadata": {},
   "outputs": [],
   "source": [
    "from sklearn import metrics, tree\n",
    "from sklearn.ensemble import RandomForestRegressor\n",
    "from sklearn.model_selection import train_test_split, RandomizedSearchCV"
   ]
  },
  {
   "cell_type": "code",
   "execution_count": 46,
   "metadata": {},
   "outputs": [],
   "source": [
    "def rmse(x, y): return math.sqrt(((x-y)**2).mean())\n",
    "def print_score(m):\n",
    "    res = [rmse(m.predict(X_train), y_train),\n",
    "           rmse(m.predict(X_test), y_test),\n",
    "                m.score(X_train, y_train),\n",
    "                m.score(X_test, y_test)]\n",
    "    print(f\"RMSE Training Set: {res[0]} \\nRMSE validation set: {res[1]} \\nR2 validation set: {res[3]}\")"
   ]
  },
  {
   "cell_type": "code",
   "execution_count": 47,
   "metadata": {},
   "outputs": [
    {
     "data": {
      "text/plain": [
       "RandomForestRegressor(random_state=42)"
      ]
     },
     "execution_count": 47,
     "metadata": {},
     "output_type": "execute_result"
    }
   ],
   "source": [
    "modelo_defecto  = RandomForestRegressor(random_state = 42)\n",
    "modelo_defecto.fit(X_train, y_train)"
   ]
  },
  {
   "cell_type": "code",
   "execution_count": 48,
   "metadata": {},
   "outputs": [
    {
     "name": "stdout",
     "output_type": "stream",
     "text": [
      "RMSE Training Set: 0.01329181959212702 \n",
      "RMSE validation set: 0.026153998783584098 \n",
      "R2 validation set: 0.9987767776079467\n"
     ]
    }
   ],
   "source": [
    "print_score(modelo_defecto)"
   ]
  },
  {
   "cell_type": "code",
   "execution_count": 49,
   "metadata": {},
   "outputs": [
    {
     "data": {
      "text/plain": [
       "RandomForestRegressor(min_samples_leaf=30, n_estimators=40, random_state=42)"
      ]
     },
     "execution_count": 49,
     "metadata": {},
     "output_type": "execute_result"
    }
   ],
   "source": [
    "modelo_defecto_modificado = RandomForestRegressor(n_estimators = 40,\n",
    "                                                  min_samples_leaf = 30,\n",
    "                                                  random_state = 42)\n",
    "\n",
    "modelo_defecto_modificado.fit(X_train, y_train)"
   ]
  },
  {
   "cell_type": "code",
   "execution_count": 50,
   "metadata": {},
   "outputs": [],
   "source": [
    "\n",
    "from sklearn.metrics import r2_score, mean_absolute_error, mean_squared_error\n",
    "from sklearn.linear_model import LinearRegression"
   ]
  },
  {
   "cell_type": "code",
   "execution_count": 51,
   "metadata": {},
   "outputs": [],
   "source": [
    "def reg_accuracy(y_true, y_pre):\n",
    "    return_var = []\n",
    "    from math import sqrt\n",
    "    rmse = sqrt(mean_squared_error(y_true, y_pre))\n",
    "    return_var.append(rmse)\n",
    "    print (\"RMSE: \", rmse)\n",
    "    r2 = r2_score(y_true, y_pre)\n",
    "    return_var.append(r2)\n",
    "    print(\"R2: \", r2)\n",
    "    mae = mean_absolute_error(y_true, y_pre)\n",
    "    return_var.append(mae)\n",
    "    print(\"MAE: \" , mae)\n",
    "\n",
    "    if 0 in y_true:\n",
    "        print(\"MAPE erróneo\")\n",
    "        return_var.append(0)\n",
    "\n",
    "    else:\n",
    "        mape = round(np.mean(np.abs((y_true - y_pre) / y_true))*100,4)\n",
    "        print('MAPE :', mape)\n",
    "        print('======================')\n",
    "        print('Model Accuracy(%) :', 100 - mape)\n",
    "        print('======================')\n",
    "        return_var.append(mape)\n",
    "        return_var.append(100-mape)\n",
    "    return return_var"
   ]
  },
  {
   "cell_type": "code",
   "execution_count": 52,
   "metadata": {},
   "outputs": [
    {
     "name": "stdout",
     "output_type": "stream",
     "text": [
      "Tree Size:  10\n",
      "RMSE:  0.028551723186518562\n",
      "R2:  0.9985422136714339\n",
      "MAE:  0.01403034114109766\n",
      "MAPE : 2.493\n",
      "======================\n",
      "Model Accuracy(%) : 97.507\n",
      "======================\n",
      "Tree Size:  20\n",
      "RMSE:  0.026356389550946175\n",
      "R2:  0.9987577727270919\n",
      "MAE:  0.012863438908998411\n",
      "MAPE : 2.3704\n",
      "======================\n",
      "Model Accuracy(%) : 97.6296\n",
      "======================\n",
      "Tree Size:  30\n",
      "RMSE:  0.02615171468731092\n",
      "R2:  0.9987769912529597\n",
      "MAE:  0.01251318503983541\n",
      "MAPE : 2.3602\n",
      "======================\n",
      "Model Accuracy(%) : 97.6398\n",
      "======================\n",
      "Tree Size:  40\n",
      "RMSE:  0.025850238000810665\n",
      "R2:  0.9988050263852228\n",
      "MAE:  0.012288321284120982\n",
      "MAPE : 2.3101\n",
      "======================\n",
      "Model Accuracy(%) : 97.6899\n",
      "======================\n",
      "Tree Size:  50\n",
      "RMSE:  0.02564986290813327\n",
      "R2:  0.9988234799825794\n",
      "MAE:  0.01220944110411474\n",
      "MAPE : 2.3138\n",
      "======================\n",
      "Model Accuracy(%) : 97.6862\n",
      "======================\n",
      "Tree Size:  60\n",
      "RMSE:  0.026063897555101766\n",
      "R2:  0.9987851911584956\n",
      "MAE:  0.012402992718293902\n",
      "MAPE : 2.3273\n",
      "======================\n",
      "Model Accuracy(%) : 97.6727\n",
      "======================\n",
      "Tree Size:  70\n",
      "RMSE:  0.026076511485813164\n",
      "R2:  0.9987840150318231\n",
      "MAE:  0.01238307632443013\n",
      "MAPE : 2.3255\n",
      "======================\n",
      "Model Accuracy(%) : 97.6745\n",
      "======================\n",
      "Tree Size:  80\n",
      "RMSE:  0.02629609380212731\n",
      "R2:  0.9987634499347083\n",
      "MAE:  0.01241110660731578\n",
      "MAPE : 2.3232\n",
      "======================\n",
      "Model Accuracy(%) : 97.6768\n",
      "======================\n",
      "Tree Size:  90\n",
      "RMSE:  0.026260638878653694\n",
      "R2:  0.9987667821583008\n",
      "MAE:  0.012394778344456946\n",
      "MAPE : 2.3154\n",
      "======================\n",
      "Model Accuracy(%) : 97.6846\n",
      "======================\n",
      "Tree Size:  100\n",
      "RMSE:  0.026153998783584098\n",
      "R2:  0.9987767776079467\n",
      "MAE:  0.012369888249935006\n",
      "MAPE : 2.3122\n",
      "======================\n",
      "Model Accuracy(%) : 97.6878\n",
      "======================\n",
      "Tree Size:  110\n",
      "RMSE:  0.026070638986361215\n",
      "R2:  0.9987845626562238\n",
      "MAE:  0.01230152088359198\n",
      "MAPE : 2.3028\n",
      "======================\n",
      "Model Accuracy(%) : 97.6972\n",
      "======================\n",
      "Tree Size:  120\n",
      "RMSE:  0.02591512866250471\n",
      "R2:  0.9987990194808058\n",
      "MAE:  0.012245433694861045\n",
      "MAPE : 2.2961\n",
      "======================\n",
      "Model Accuracy(%) : 97.7039\n",
      "======================\n",
      "Tree Size:  130\n",
      "RMSE:  0.02599316634657395\n",
      "R2:  0.9987917756155944\n",
      "MAE:  0.012268595434221534\n",
      "MAPE : 2.2971\n",
      "======================\n",
      "Model Accuracy(%) : 97.7029\n",
      "======================\n",
      "Tree Size:  140\n",
      "RMSE:  0.02606587323283835\n",
      "R2:  0.9987850069832976\n",
      "MAE:  0.01235351616841848\n",
      "MAPE : 2.3034\n",
      "======================\n",
      "Model Accuracy(%) : 97.6966\n",
      "======================\n",
      "Tree Size:  150\n",
      "RMSE:  0.025972786855529596\n",
      "R2:  0.9987936694476175\n",
      "MAE:  0.012322285306943247\n",
      "MAPE : 2.2988\n",
      "======================\n",
      "Model Accuracy(%) : 97.7012\n",
      "======================\n",
      "Tree Size:  160\n",
      "RMSE:  0.026055042506118557\n",
      "R2:  0.9987860164659486\n",
      "MAE:  0.01237115653192152\n",
      "MAPE : 2.3032\n",
      "======================\n",
      "Model Accuracy(%) : 97.6968\n",
      "======================\n",
      "Tree Size:  170\n",
      "RMSE:  0.02612413618926161\n",
      "R2:  0.9987795693600009\n",
      "MAE:  0.0123605419038731\n",
      "MAPE : 2.3075\n",
      "======================\n",
      "Model Accuracy(%) : 97.6925\n",
      "======================\n",
      "Tree Size:  180\n",
      "RMSE:  0.026253610843258855\n",
      "R2:  0.9987674421528203\n",
      "MAE:  0.012377497402004589\n",
      "MAPE : 2.3075\n",
      "======================\n",
      "Model Accuracy(%) : 97.6925\n",
      "======================\n",
      "Tree Size:  190\n",
      "RMSE:  0.02623717741089489\n",
      "R2:  0.9987689847076168\n",
      "MAE:  0.012336802224128716\n",
      "MAPE : 2.3039\n",
      "======================\n",
      "Model Accuracy(%) : 97.6961\n",
      "======================\n",
      "Tree Size:  200\n",
      "RMSE:  0.026319351788614644\n",
      "R2:  0.9987612615957565\n",
      "MAE:  0.012345914990890782\n",
      "MAPE : 2.3006\n",
      "======================\n",
      "Model Accuracy(%) : 97.6994\n",
      "======================\n",
      "Tree Size:  210\n",
      "RMSE:  0.026276087271376505\n",
      "R2:  0.9987653307970242\n",
      "MAE:  0.012320233360689513\n",
      "MAPE : 2.298\n",
      "======================\n",
      "Model Accuracy(%) : 97.702\n",
      "======================\n",
      "Tree Size:  220\n",
      "RMSE:  0.026284094838818883\n",
      "R2:  0.998764578158073\n",
      "MAE:  0.012336488423040897\n",
      "MAPE : 2.3018\n",
      "======================\n",
      "Model Accuracy(%) : 97.6982\n",
      "======================\n",
      "Tree Size:  230\n",
      "RMSE:  0.026348415613796902\n",
      "R2:  0.9987585242673412\n",
      "MAE:  0.012355205644229697\n",
      "MAPE : 2.302\n",
      "======================\n",
      "Model Accuracy(%) : 97.698\n",
      "======================\n",
      "Tree Size:  240\n",
      "RMSE:  0.026388975731055597\n",
      "R2:  0.9987546991296778\n",
      "MAE:  0.012336408318889103\n",
      "MAPE : 2.2973\n",
      "======================\n",
      "Model Accuracy(%) : 97.7027\n",
      "======================\n",
      "Tree Size:  250\n",
      "RMSE:  0.026368031115043693\n",
      "R2:  0.9987566751061757\n",
      "MAE:  0.012337481713668589\n",
      "MAPE : 2.2982\n",
      "======================\n",
      "Model Accuracy(%) : 97.7018\n",
      "======================\n",
      "Tree Size:  260\n",
      "RMSE:  0.026391447378392174\n",
      "R2:  0.9987544658437213\n",
      "MAE:  0.012323169958451738\n",
      "MAPE : 2.2953\n",
      "======================\n",
      "Model Accuracy(%) : 97.7047\n",
      "======================\n",
      "Tree Size:  270\n",
      "RMSE:  0.026432646578984583\n",
      "R2:  0.9987505740476958\n",
      "MAE:  0.012333765330841021\n",
      "MAPE : 2.2962\n",
      "======================\n",
      "Model Accuracy(%) : 97.7038\n",
      "======================\n",
      "Tree Size:  280\n",
      "RMSE:  0.02644562692406783\n",
      "R2:  0.9987493466290134\n",
      "MAE:  0.012358703275148656\n",
      "MAPE : 2.2998\n",
      "======================\n",
      "Model Accuracy(%) : 97.7002\n",
      "======================\n",
      "Tree Size:  290\n",
      "RMSE:  0.026465374913582685\n",
      "R2:  0.9987474781075244\n",
      "MAE:  0.012381248299780616\n",
      "MAPE : 2.3014\n",
      "======================\n",
      "Model Accuracy(%) : 97.6986\n",
      "======================\n",
      "Tree Size:  300\n",
      "RMSE:  0.026482442563461654\n",
      "R2:  0.9987458620715939\n",
      "MAE:  0.012380084336272782\n",
      "MAPE : 2.3023\n",
      "======================\n",
      "Model Accuracy(%) : 97.6977\n",
      "======================\n",
      "Tree Size:  310\n",
      "RMSE:  0.026365506749168644\n",
      "R2:  0.9987569131563117\n",
      "MAE:  0.012347962092263635\n",
      "MAPE : 2.3016\n",
      "======================\n",
      "Model Accuracy(%) : 97.6984\n",
      "======================\n",
      "Tree Size:  320\n",
      "RMSE:  0.026328711140228032\n",
      "R2:  0.9987603804304609\n",
      "MAE:  0.01236234280067397\n",
      "MAPE : 2.3038\n",
      "======================\n",
      "Model Accuracy(%) : 97.6962\n",
      "======================\n",
      "Tree Size:  330\n",
      "RMSE:  0.026306776061065625\n",
      "R2:  0.9987624450834889\n",
      "MAE:  0.012361332955058955\n",
      "MAPE : 2.3028\n",
      "======================\n",
      "Model Accuracy(%) : 97.6972\n",
      "======================\n",
      "Tree Size:  340\n",
      "RMSE:  0.02624160110441687\n",
      "R2:  0.9987685695643742\n",
      "MAE:  0.012333960325245126\n",
      "MAPE : 2.3017\n",
      "======================\n",
      "Model Accuracy(%) : 97.6983\n",
      "======================\n",
      "Tree Size:  350\n",
      "RMSE:  0.026230713816450892\n",
      "R2:  0.9987695911603149\n",
      "MAE:  0.01235344654747418\n",
      "MAPE : 2.3021\n",
      "======================\n",
      "Model Accuracy(%) : 97.6979\n",
      "======================\n",
      "Tree Size:  360\n",
      "RMSE:  0.0262158018858316\n",
      "R2:  0.9987709897159247\n",
      "MAE:  0.012359414343267977\n",
      "MAPE : 2.302\n",
      "======================\n",
      "Model Accuracy(%) : 97.698\n",
      "======================\n",
      "Tree Size:  370\n",
      "RMSE:  0.026174865495068395\n",
      "R2:  0.9987748249573226\n",
      "MAE:  0.012334869682091904\n",
      "MAPE : 2.2999\n",
      "======================\n",
      "Model Accuracy(%) : 97.7001\n",
      "======================\n",
      "Tree Size:  380\n",
      "RMSE:  0.026153938968712966\n",
      "R2:  0.9987767832030228\n",
      "MAE:  0.01232403763204736\n",
      "MAPE : 2.2979\n",
      "======================\n",
      "Model Accuracy(%) : 97.7021\n",
      "======================\n",
      "Tree Size:  390\n",
      "RMSE:  0.026218139552336744\n",
      "R2:  0.9987707705241348\n",
      "MAE:  0.012347568541383675\n",
      "MAPE : 2.2976\n",
      "======================\n",
      "Model Accuracy(%) : 97.7024\n",
      "======================\n",
      "Tree Size:  400\n",
      "RMSE:  0.026205158525577876\n",
      "R2:  0.9987719874457616\n",
      "MAE:  0.012330476061470527\n",
      "MAPE : 2.2951\n",
      "======================\n",
      "Model Accuracy(%) : 97.7049\n",
      "======================\n",
      "Tree Size:  410\n",
      "RMSE:  0.026133438034142704\n",
      "R2:  0.998778700104269\n",
      "MAE:  0.0122962594572346\n",
      "MAPE : 2.2936\n",
      "======================\n",
      "Model Accuracy(%) : 97.7064\n",
      "======================\n",
      "Tree Size:  420\n",
      "RMSE:  0.02608063970493963\n",
      "R2:  0.9987836299918413\n",
      "MAE:  0.0122666996676095\n",
      "MAPE : 2.2915\n",
      "======================\n",
      "Model Accuracy(%) : 97.7085\n",
      "======================\n",
      "Tree Size:  430\n",
      "RMSE:  0.026099154342171974\n",
      "R2:  0.9987819023775345\n",
      "MAE:  0.01226044025689825\n",
      "MAPE : 2.2903\n",
      "======================\n",
      "Model Accuracy(%) : 97.7097\n",
      "======================\n",
      "Tree Size:  440\n",
      "RMSE:  0.02612158635706937\n",
      "R2:  0.9987798075873202\n",
      "MAE:  0.012265440216763759\n",
      "MAPE : 2.2905\n",
      "======================\n",
      "Model Accuracy(%) : 97.7095\n",
      "======================\n",
      "Tree Size:  450\n",
      "RMSE:  0.026137833515394195\n",
      "R2:  0.998778289239672\n",
      "MAE:  0.012274972619467962\n",
      "MAPE : 2.2903\n",
      "======================\n",
      "Model Accuracy(%) : 97.7097\n",
      "======================\n",
      "Tree Size:  460\n",
      "RMSE:  0.026123498522445738\n",
      "R2:  0.9987796289385161\n",
      "MAE:  0.012263760961909134\n",
      "MAPE : 2.2897\n",
      "======================\n",
      "Model Accuracy(%) : 97.7103\n",
      "======================\n",
      "Tree Size:  470\n",
      "RMSE:  0.02613598393104933\n",
      "R2:  0.9987784621367214\n",
      "MAE:  0.0122801409514074\n",
      "MAPE : 2.2924\n",
      "======================\n",
      "Model Accuracy(%) : 97.7076\n",
      "======================\n",
      "Tree Size:  480\n",
      "RMSE:  0.02616468131776823\n",
      "R2:  0.9987757781597368\n",
      "MAE:  0.012275329436116028\n",
      "MAPE : 2.2909\n",
      "======================\n",
      "Model Accuracy(%) : 97.7091\n",
      "======================\n",
      "Tree Size:  490\n",
      "RMSE:  0.026197547674819174\n",
      "R2:  0.9987727006536626\n",
      "MAE:  0.012289467987247369\n",
      "MAPE : 2.2896\n",
      "======================\n",
      "Model Accuracy(%) : 97.71039999999999\n",
      "======================\n"
     ]
    }
   ],
   "source": [
    "random_tree = [i*10 for i in range(1,50)]\n",
    "rmse, r_sq, mae, mape = [], [], [], []\n",
    "for tree_size in random_tree:\n",
    "    print('Tree Size: ', tree_size)\n",
    "    model = RandomForestRegressor(random_state=42, n_estimators=int(tree_size)).fit(X_train, y_train)\n",
    "    estimation = model.predict(X_test)\n",
    "    result = reg_accuracy(y_test, estimation)\n",
    "    rmse.append(result[0])\n",
    "    r_sq.append(result[1])\n",
    "    mae.append(result[2])\n",
    "    mape.append(result[3])"
   ]
  },
  {
   "cell_type": "markdown",
   "metadata": {},
   "source": [
    "## A continuación vemos cual de todos los árboles estudiados y aquel que tiene un menor RMSE y un mayor R2 es aquel que tiene 50 estimadores junto con el de 120."
   ]
  },
  {
   "cell_type": "markdown",
   "metadata": {},
   "source": [
    "### Tree Size:  50 \n",
    "### RMSE:  0.02564986290813327\n",
    "### R2:  0.9988234799825794 \n",
    "### MAE:   0.01220944110411474\n",
    "### MAPE : 2.3138\n",
    "======================\n",
    "## Model Accuracy(%) : 97.6862"
   ]
  },
  {
   "cell_type": "markdown",
   "metadata": {},
   "source": [
    "### Tree Size:  120\n",
    "### RMSE:  0.02591512866250471\n",
    "### R2:  0.9987990194808058\n",
    "### MAE:   0.012245433694861045\n",
    "### MAPE : 2.2961\n",
    "======================\n",
    "## Model Accuracy(%) : 97.7039"
   ]
  },
  {
   "cell_type": "markdown",
   "metadata": {},
   "source": [
    "## Vamos a ver a continuación la métrica RMSE:"
   ]
  },
  {
   "cell_type": "code",
   "execution_count": 53,
   "metadata": {},
   "outputs": [
    {
     "data": {
      "text/plain": [
       "<AxesSubplot:title={'center':'RMSE ÍNDICE'}, xlabel='NÚMERO DE ÁRBOLES', ylabel='RMSE'>"
      ]
     },
     "execution_count": 53,
     "metadata": {},
     "output_type": "execute_result"
    },
    {
     "data": {
      "image/png": "[encoded data removed]",
      "text/plain": [
       "<Figure size 720x216 with 1 Axes>"
      ]
     },
     "metadata": {
      "needs_background": "light"
     },
     "output_type": "display_data"
    }
   ],
   "source": [
    "plt.figure(figsize=(10,3))\n",
    "plt.title('RMSE ÍNDICE')\n",
    "plt.xlabel('NÚMERO DE ÁRBOLES')\n",
    "plt.ylabel('RMSE')\n",
    "sns.lineplot(x = random_tree, y = rmse)"
   ]
  },
  {
   "cell_type": "markdown",
   "metadata": {},
   "source": [
    "## MAE:"
   ]
  },
  {
   "cell_type": "code",
   "execution_count": 54,
   "metadata": {},
   "outputs": [
    {
     "data": {
      "text/plain": [
       "<AxesSubplot:title={'center':'MAE ÍNDICE'}, xlabel='NÚMERO DE ÁRBOLES', ylabel='MAE'>"
      ]
     },
     "execution_count": 54,
     "metadata": {},
     "output_type": "execute_result"
    },
    {
     "data": {
      "image/png": "[encoded data removed]",
      "text/plain": [
       "<Figure size 720x216 with 1 Axes>"
      ]
     },
     "metadata": {
      "needs_background": "light"
     },
     "output_type": "display_data"
    }
   ],
   "source": [
    "plt.figure(figsize=(10,3))\n",
    "plt.title('MAE ÍNDICE')\n",
    "plt.xlabel('NÚMERO DE ÁRBOLES')\n",
    "plt.ylabel('MAE')\n",
    "sns.lineplot(x = random_tree, y = mae)"
   ]
  },
  {
   "cell_type": "markdown",
   "metadata": {},
   "source": [
    "## MAPE:"
   ]
  },
  {
   "cell_type": "code",
   "execution_count": 55,
   "metadata": {},
   "outputs": [
    {
     "data": {
      "text/plain": [
       "<AxesSubplot:title={'center':'MAPE ÍNDICE'}, xlabel='NÚMERO DE ÁRBOLES', ylabel='MAPE'>"
      ]
     },
     "execution_count": 55,
     "metadata": {},
     "output_type": "execute_result"
    },
    {
     "data": {
      "image/png": "[encoded data removed]",
      "text/plain": [
       "<Figure size 720x216 with 1 Axes>"
      ]
     },
     "metadata": {
      "needs_background": "light"
     },
     "output_type": "display_data"
    }
   ],
   "source": [
    "plt.figure(figsize=(10,3))\n",
    "plt.title('MAPE ÍNDICE')\n",
    "plt.xlabel('NÚMERO DE ÁRBOLES')\n",
    "plt.ylabel('MAPE')\n",
    "sns.lineplot(x = random_tree, y = mape)"
   ]
  },
  {
   "cell_type": "markdown",
   "metadata": {},
   "source": [
    "## R2 Square:"
   ]
  },
  {
   "cell_type": "code",
   "execution_count": 56,
   "metadata": {},
   "outputs": [
    {
     "data": {
      "text/plain": [
       "<AxesSubplot:title={'center':'R2 ÍNDICE'}, xlabel='NÚMERO DE ÁRBOLES', ylabel='r2'>"
      ]
     },
     "execution_count": 56,
     "metadata": {},
     "output_type": "execute_result"
    },
    {
     "data": {
      "image/png": "[encoded data removed]",
      "text/plain": [
       "<Figure size 720x216 with 1 Axes>"
      ]
     },
     "metadata": {
      "needs_background": "light"
     },
     "output_type": "display_data"
    }
   ],
   "source": [
    "plt.figure(figsize=(10,3))\n",
    "plt.title('R2 ÍNDICE')\n",
    "plt.xlabel('NÚMERO DE ÁRBOLES')\n",
    "plt.ylabel('r2')\n",
    "sns.lineplot(x = random_tree, y = r_sq)"
   ]
  },
  {
   "cell_type": "code",
   "execution_count": 57,
   "metadata": {},
   "outputs": [
    {
     "data": {
      "text/plain": [
       "DecisionTreeRegressor(max_depth=2, random_state=42)"
      ]
     },
     "execution_count": 57,
     "metadata": {},
     "output_type": "execute_result"
    }
   ],
   "source": [
    "from sklearn.tree import DecisionTreeRegressor\n",
    "\n",
    "tree_reg = DecisionTreeRegressor(max_depth=2, random_state=42)\n",
    "tree_reg.fit(X, y)"
   ]
  },
  {
   "cell_type": "code",
   "execution_count": 58,
   "metadata": {},
   "outputs": [
    {
     "name": "stdout",
     "output_type": "stream",
     "text": [
      "{'n_estimators': [10, 20, 30, 40, 50, 60, 70, 80, 90, 100, 110, 120, 130, 140, 150, 160, 170, 180, 190, 200, 210, 220, 230, 240, 250, 260, 270, 280, 290, 300, 310, 320, 330, 340, 350, 360, 370, 380, 390, 400, 410, 420, 430, 440, 450, 460, 470, 480, 490, 500], 'max_features': ['auto', 'sqrt', None], 'max_depth': [5, 6, 7, 8, 9, 10, 11, 12, 13, 14, 15, 16, 17, 18, 19, 20, 21, 22, 23, 24, 25, 26, 27, 28, 29, 30, 31, 32, 33, 34, 35, 36, 37, 38, 39, 40, 41, 42, 43, 44, 45, 46, 47, 48, 50, None], 'min_samples_split': [2, 4, 6, 8, 10], 'min_samples_leaf': [1, 2, 4, 6, 8, 10, 12, 14, 16, 20, 25, 30], 'bootstrap': [True]}\n"
     ]
    }
   ],
   "source": [
    "n_estimators = [int(x) for x in np.linspace(start = 10, stop = 500)]\n",
    "\n",
    "max_features = ['auto', 'sqrt', None]\n",
    "\n",
    "max_depth = [int(x) for x in np.linspace(5, 50, num = 45)]\n",
    "\n",
    "max_depth.append(None)\n",
    "\n",
    "min_samples_split = [2, 4, 6, 8, 10]\n",
    "\n",
    "min_samples_leaf = [1, 2, 4, 6, 8, 10, 12, 14, 16, 20, 25, 30]\n",
    "\n",
    "bootstrap = [True]\n",
    "\n",
    "random_grid = {'n_estimators': n_estimators,\n",
    "               'max_features': max_features,\n",
    "               'max_depth' : max_depth,\n",
    "               'min_samples_split' : min_samples_split,\n",
    "               'min_samples_leaf' :  min_samples_leaf,\n",
    "               'bootstrap' : bootstrap}\n",
    "\n",
    "print(random_grid)"
   ]
  },
  {
   "cell_type": "code",
   "execution_count": 59,
   "metadata": {},
   "outputs": [
    {
     "name": "stdout",
     "output_type": "stream",
     "text": [
      "Fitting 3 folds for each of 100 candidates, totalling 300 fits\n"
     ]
    },
    {
     "data": {
      "text/plain": [
       "RandomizedSearchCV(cv=3, estimator=RandomForestRegressor(random_state=42),\n",
       "                   n_iter=100, n_jobs=-1,\n",
       "                   param_distributions={'bootstrap': [True],\n",
       "                                        'max_depth': [5, 6, 7, 8, 9, 10, 11, 12,\n",
       "                                                      13, 14, 15, 16, 17, 18,\n",
       "                                                      19, 20, 21, 22, 23, 24,\n",
       "                                                      25, 26, 27, 28, 29, 30,\n",
       "                                                      31, 32, 33, 34, ...],\n",
       "                                        'max_features': ['auto', 'sqrt', None],\n",
       "                                        'min_samples_leaf': [1, 2, 4, 6, 8, 10,\n",
       "                                                             12, 14, 16, 20, 25,\n",
       "                                                             30],\n",
       "                                        'min_samples_split': [2, 4, 6, 8, 10],\n",
       "                                        'n_estimators': [10, 20, 30, 40, 50, 60,\n",
       "                                                         70, 80, 90, 100, 110,\n",
       "                                                         120, 130, 140, 150,\n",
       "                                                         160, 170, 180, 190,\n",
       "                                                         200, 210, 220, 230,\n",
       "                                                         240, 250, 260, 270,\n",
       "                                                         280, 290, 300, ...]},\n",
       "                   random_state=42, scoring='neg_mean_squared_error',\n",
       "                   verbose=2)"
      ]
     },
     "execution_count": 59,
     "metadata": {},
     "output_type": "execute_result"
    }
   ],
   "source": [
    "rf = RandomForestRegressor(random_state=42)\n",
    "rf_random = RandomizedSearchCV(estimator = rf, param_distributions = random_grid, n_iter = 100, scoring = 'neg_mean_squared_error',\n",
    "                               cv= 3, verbose = 2, random_state = 42, n_jobs =-1,\n",
    "                               return_train_score = False)\n",
    "\n",
    "rf_random.fit(X_train, y_train)"
   ]
  },
  {
   "cell_type": "markdown",
   "metadata": {},
   "source": [
    "## Cv nos da el nº de particiones para la cross validation. Cuanto mayor es el nº de iteraciones(n_iter) mayor búsqueda de posibilidades.\n",
    "## Cuanto mayor sea el cv, mayor reducción de overfitting."
   ]
  },
  {
   "cell_type": "markdown",
   "metadata": {},
   "source": [
    "## Con el parámetro \"scoring\" pretendemos que nos devuelva el menor RMSE posible."
   ]
  },
  {
   "cell_type": "code",
   "execution_count": 60,
   "metadata": {},
   "outputs": [
    {
     "data": {
      "text/plain": [
       "{'n_estimators': 500,\n",
       " 'min_samples_split': 2,\n",
       " 'min_samples_leaf': 2,\n",
       " 'max_features': 'auto',\n",
       " 'max_depth': 16,\n",
       " 'bootstrap': True}"
      ]
     },
     "execution_count": 60,
     "metadata": {},
     "output_type": "execute_result"
    }
   ],
   "source": [
    "first_grid = rf_random.best_params_\n",
    "first_grid"
   ]
  },
  {
   "cell_type": "code",
   "execution_count": 61,
   "metadata": {},
   "outputs": [],
   "source": [
    "from sklearn.model_selection import GridSearchCV\n",
    "\n",
    "param_grid = {'bootstrap': [True],\n",
    "              'max_depth': [10, 15, 20],\n",
    "              'max_features': ['auto'],\n",
    "              'min_samples_leaf': [2, 4, 6],\n",
    "              'min_samples_split': [5, 7, 9],\n",
    "              'n_estimators' : [30, 190, 250]}\n",
    "\n",
    "\n",
    "rf = RandomForestRegressor(random_state = 42)\n",
    "\n",
    "grid_search = GridSearchCV(estimator = rf, param_grid= param_grid,\n",
    "                           cv = 3, n_jobs = -1, verbose = 2, return_train_score = False, scoring = 'neg_mean_squared_error')"
   ]
  },
  {
   "cell_type": "code",
   "execution_count": 62,
   "metadata": {},
   "outputs": [
    {
     "name": "stdout",
     "output_type": "stream",
     "text": [
      "Fitting 3 folds for each of 81 candidates, totalling 243 fits\n"
     ]
    }
   ],
   "source": [
    "grid_search.fit(X_train, y_train);"
   ]
  },
  {
   "cell_type": "markdown",
   "metadata": {},
   "source": [
    "## Nos quedamos con el modelo seleccionado del GridSearch que es el SecondGrid"
   ]
  },
  {
   "cell_type": "code",
   "execution_count": 63,
   "metadata": {},
   "outputs": [
    {
     "data": {
      "text/plain": [
       "{'bootstrap': True,\n",
       " 'max_depth': 15,\n",
       " 'max_features': 'auto',\n",
       " 'min_samples_leaf': 2,\n",
       " 'min_samples_split': 5,\n",
       " 'n_estimators': 30}"
      ]
     },
     "execution_count": 63,
     "metadata": {},
     "output_type": "execute_result"
    }
   ],
   "source": [
    "modelo_seleccionado = grid_search.best_params_ \n",
    "modelo_seleccionado "
   ]
  },
  {
   "cell_type": "code",
   "execution_count": 64,
   "metadata": {},
   "outputs": [
    {
     "data": {
      "text/plain": [
       "{'bootstrap': True,\n",
       " 'max_depth': 15,\n",
       " 'max_features': 'auto',\n",
       " 'min_samples_leaf': 2,\n",
       " 'min_samples_split': 5,\n",
       " 'n_estimators': 30}"
      ]
     },
     "execution_count": 64,
     "metadata": {},
     "output_type": "execute_result"
    }
   ],
   "source": [
    "pred = modelo_seleccionado\n",
    "pred"
   ]
  },
  {
   "cell_type": "code",
   "execution_count": 65,
   "metadata": {},
   "outputs": [],
   "source": [
    "# QUEREMOS SACAR LA GRÁFICA TANTO DE LA PREDICCIÓN COMO DE SU VALOR REAL DEL CLOSE.\n",
    "# plt.plot[[cardano_df['Close'], y_test(figsize= (20,8))]] "
   ]
  },
  {
   "cell_type": "code",
   "execution_count": 81,
   "metadata": {},
   "outputs": [
    {
     "data": {
      "text/plain": [
       "<AxesSubplot:xlabel='Date'>"
      ]
     },
     "execution_count": 81,
     "metadata": {},
     "output_type": "execute_result"
    },
    {
     "data": {
      "image/png": "[encoded data removed]",
      "text/plain": [
       "<Figure size 432x288 with 1 Axes>"
      ]
     },
     "metadata": {
      "needs_background": "light"
     },
     "output_type": "display_data"
    }
   ],
   "source": [
    "y_test.plot()"
   ]
  },
  {
   "cell_type": "code",
   "execution_count": 67,
   "metadata": {},
   "outputs": [
    {
     "data": {
      "text/html": [
       "<div>\n",
       "<style scoped>\n",
       "    .dataframe tbody tr th:only-of-type {\n",
       "        vertical-align: middle;\n",
       "    }\n",
       "\n",
       "    .dataframe tbody tr th {\n",
       "        vertical-align: top;\n",
       "    }\n",
       "\n",
       "    .dataframe thead th {\n",
       "        text-align: right;\n",
       "    }\n",
       "</style>\n",
       "<table border=\"1\" class=\"dataframe\">\n",
       "  <thead>\n",
       "    <tr style=\"text-align: right;\">\n",
       "      <th></th>\n",
       "      <th>Open</th>\n",
       "      <th>High</th>\n",
       "      <th>Low</th>\n",
       "      <th>Volume</th>\n",
       "    </tr>\n",
       "    <tr>\n",
       "      <th>Date</th>\n",
       "      <th></th>\n",
       "      <th></th>\n",
       "      <th></th>\n",
       "      <th></th>\n",
       "    </tr>\n",
       "  </thead>\n",
       "  <tbody>\n",
       "    <tr>\n",
       "      <th>2021-07-28</th>\n",
       "      <td>1.280826</td>\n",
       "      <td>1.316583</td>\n",
       "      <td>1.260048</td>\n",
       "      <td>1.793329e+09</td>\n",
       "    </tr>\n",
       "    <tr>\n",
       "      <th>2019-09-22</th>\n",
       "      <td>0.051894</td>\n",
       "      <td>0.051954</td>\n",
       "      <td>0.047857</td>\n",
       "      <td>8.615202e+07</td>\n",
       "    </tr>\n",
       "    <tr>\n",
       "      <th>2019-04-19</th>\n",
       "      <td>0.081739</td>\n",
       "      <td>0.081782</td>\n",
       "      <td>0.078210</td>\n",
       "      <td>8.264674e+07</td>\n",
       "    </tr>\n",
       "    <tr>\n",
       "      <th>2019-10-26</th>\n",
       "      <td>0.041220</td>\n",
       "      <td>0.043177</td>\n",
       "      <td>0.039668</td>\n",
       "      <td>1.228611e+08</td>\n",
       "    </tr>\n",
       "    <tr>\n",
       "      <th>2021-01-21</th>\n",
       "      <td>0.375449</td>\n",
       "      <td>0.378716</td>\n",
       "      <td>0.301401</td>\n",
       "      <td>3.567903e+09</td>\n",
       "    </tr>\n",
       "    <tr>\n",
       "      <th>...</th>\n",
       "      <td>...</td>\n",
       "      <td>...</td>\n",
       "      <td>...</td>\n",
       "      <td>...</td>\n",
       "    </tr>\n",
       "    <tr>\n",
       "      <th>2020-10-15</th>\n",
       "      <td>0.107217</td>\n",
       "      <td>0.107591</td>\n",
       "      <td>0.104979</td>\n",
       "      <td>5.621973e+08</td>\n",
       "    </tr>\n",
       "    <tr>\n",
       "      <th>2021-05-22</th>\n",
       "      <td>1.553113</td>\n",
       "      <td>1.601020</td>\n",
       "      <td>1.377943</td>\n",
       "      <td>6.572398e+09</td>\n",
       "    </tr>\n",
       "    <tr>\n",
       "      <th>2020-06-28</th>\n",
       "      <td>0.077679</td>\n",
       "      <td>0.081413</td>\n",
       "      <td>0.076251</td>\n",
       "      <td>1.888714e+08</td>\n",
       "    </tr>\n",
       "    <tr>\n",
       "      <th>2021-11-24</th>\n",
       "      <td>1.751246</td>\n",
       "      <td>1.752388</td>\n",
       "      <td>1.594203</td>\n",
       "      <td>1.983587e+09</td>\n",
       "    </tr>\n",
       "    <tr>\n",
       "      <th>2021-09-07</th>\n",
       "      <td>2.832807</td>\n",
       "      <td>2.872511</td>\n",
       "      <td>2.040953</td>\n",
       "      <td>1.170034e+10</td>\n",
       "    </tr>\n",
       "  </tbody>\n",
       "</table>\n",
       "<p>347 rows × 4 columns</p>\n",
       "</div>"
      ],
      "text/plain": [
       "                Open      High       Low        Volume\n",
       "Date                                                  \n",
       "2021-07-28  1.280826  1.316583  1.260048  1.793329e+09\n",
       "2019-09-22  0.051894  0.051954  0.047857  8.615202e+07\n",
       "2019-04-19  0.081739  0.081782  0.078210  8.264674e+07\n",
       "2019-10-26  0.041220  0.043177  0.039668  1.228611e+08\n",
       "2021-01-21  0.375449  0.378716  0.301401  3.567903e+09\n",
       "...              ...       ...       ...           ...\n",
       "2020-10-15  0.107217  0.107591  0.104979  5.621973e+08\n",
       "2021-05-22  1.553113  1.601020  1.377943  6.572398e+09\n",
       "2020-06-28  0.077679  0.081413  0.076251  1.888714e+08\n",
       "2021-11-24  1.751246  1.752388  1.594203  1.983587e+09\n",
       "2021-09-07  2.832807  2.872511  2.040953  1.170034e+10\n",
       "\n",
       "[347 rows x 4 columns]"
      ]
     },
     "execution_count": 67,
     "metadata": {},
     "output_type": "execute_result"
    }
   ],
   "source": [
    "X_test"
   ]
  },
  {
   "cell_type": "code",
   "execution_count": 68,
   "metadata": {},
   "outputs": [
    {
     "data": {
      "text/plain": [
       "Date\n",
       "2021-07-28    1.283504\n",
       "2019-09-22    0.049111\n",
       "2019-04-19    0.079500\n",
       "2019-10-26    0.040547\n",
       "2021-01-21    0.310209\n",
       "                ...   \n",
       "2020-10-15    0.106635\n",
       "2021-05-22    1.463622\n",
       "2020-06-28    0.080392\n",
       "2021-11-24    1.686423\n",
       "2021-09-07    2.502491\n",
       "Name: Close, Length: 347, dtype: float64"
      ]
     },
     "execution_count": 68,
     "metadata": {},
     "output_type": "execute_result"
    }
   ],
   "source": [
    "y_test"
   ]
  }
 ],
 "metadata": {
  "interpreter": {
   "hash": "6455be0ba6d313e61fa561a59feb5f13d5e5fc4d538f6449aef2b51328fb9b28"
  },
  "kernelspec": {
   "display_name": "Python 3.7.4 64-bit",
   "language": "python",
   "name": "python3"
  },
  "language_info": {
   "codemirror_mode": {
    "name": "ipython",
    "version": 3
   },
   "file_extension": ".py",
   "mimetype": "text/x-python",
   "name": "python",
   "nbconvert_exporter": "python",
   "pygments_lexer": "ipython3",
   "version": "3.7.4"
  },
  "orig_nbformat": 4
 },
 "nbformat": 4,
 "nbformat_minor": 2
}
